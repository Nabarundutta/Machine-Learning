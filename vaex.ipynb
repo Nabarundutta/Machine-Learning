{
  "nbformat": 4,
  "nbformat_minor": 0,
  "metadata": {
    "colab": {
      "provenance": [],
      "authorship_tag": "ABX9TyNVMiKO0EoRSwqI+UqB+7iF",
      "include_colab_link": true
    },
    "kernelspec": {
      "name": "python3",
      "display_name": "Python 3"
    },
    "language_info": {
      "name": "python"
    }
  },
  "cells": [
    {
      "cell_type": "markdown",
      "metadata": {
        "id": "view-in-github",
        "colab_type": "text"
      },
      "source": [
        "<a href=\"https://colab.research.google.com/github/Nabarundutta/Machine-Learning/blob/main/vaex.ipynb\" target=\"_parent\"><img src=\"https://colab.research.google.com/assets/colab-badge.svg\" alt=\"Open In Colab\"/></a>"
      ]
    },
    {
      "cell_type": "code",
      "execution_count": 2,
      "metadata": {
        "id": "MvcmFs4eICQJ"
      },
      "outputs": [],
      "source": [
        "import pandas as pd\n",
        "import numpy as np"
      ]
    },
    {
      "cell_type": "code",
      "source": [
        "!mkdir -p ~/.kaggle\n",
        "!cp kaggle.json ~/.kaggle/\n",
        "!chmod 600 ~/.kaggle/kaggle.json"
      ],
      "metadata": {
        "id": "sS6_s0UsILia"
      },
      "execution_count": 2,
      "outputs": []
    },
    {
      "cell_type": "code",
      "source": [
        "!kaggle datasets download -d ashisparida/amazon-ml-challenge-2023"
      ],
      "metadata": {
        "colab": {
          "base_uri": "https://localhost:8080/"
        },
        "id": "_WUI1nExIPdd",
        "outputId": "0f1d54fa-0f11-4d8a-d5cd-ef43a7b678b7"
      },
      "execution_count": 3,
      "outputs": [
        {
          "output_type": "stream",
          "name": "stdout",
          "text": [
            "Dataset URL: https://www.kaggle.com/datasets/ashisparida/amazon-ml-challenge-2023\n",
            "License(s): unknown\n",
            "Downloading amazon-ml-challenge-2023.zip to /content\n",
            "100% 1.62G/1.63G [00:22<00:00, 242MB/s]\n",
            "100% 1.63G/1.63G [00:22<00:00, 79.3MB/s]\n"
          ]
        }
      ]
    },
    {
      "cell_type": "code",
      "source": [
        "import zipfile\n",
        "zip_ref = zipfile.ZipFile('/content/amazon-ml-challenge-2023.zip', 'r')\n",
        "zip_ref.extractall('/content')\n",
        "zip_ref.close()"
      ],
      "metadata": {
        "id": "VxxJrEtjIWMh"
      },
      "execution_count": 4,
      "outputs": []
    },
    {
      "cell_type": "code",
      "source": [
        "df = pd.read_csv('/content/datasetb2d9982/dataset/train.csv')\n",
        "df.head()"
      ],
      "metadata": {
        "colab": {
          "base_uri": "https://localhost:8080/",
          "height": 504
        },
        "id": "aEwwUVc2ImM6",
        "outputId": "c49ea6f0-9ffc-445e-8f2c-864227d3b74a"
      },
      "execution_count": 3,
      "outputs": [
        {
          "output_type": "execute_result",
          "data": {
            "text/plain": [
              "   PRODUCT_ID                                              TITLE  \\\n",
              "0     1925202  ArtzFolio Tulip Flowers Blackout Curtain for D...   \n",
              "1     2673191  Marks & Spencer Girls' Pyjama Sets T86_2561C_N...   \n",
              "2     2765088  PRIKNIK Horn Red Electric Air Horn Compressor ...   \n",
              "3     1594019  ALISHAH Women's Cotton Ankle Length Leggings C...   \n",
              "4      283658  The United Empire Loyalists: A Chronicle of th...   \n",
              "\n",
              "                                       BULLET_POINTS  \\\n",
              "0  [LUXURIOUS & APPEALING: Beautiful custom-made ...   \n",
              "1  [Harry Potter Hedwig Pyjamas (6-16 Yrs),100% c...   \n",
              "2  [Loud Dual Tone Trumpet Horn, Compatible With ...   \n",
              "3  [Made By 95%cotton and 5% Lycra which gives yo...   \n",
              "4                                                NaN   \n",
              "\n",
              "                                         DESCRIPTION  PRODUCT_TYPE_ID  \\\n",
              "0                                                NaN             1650   \n",
              "1                                                NaN             2755   \n",
              "2  Specifications: Color: Red, Material: Aluminiu...             7537   \n",
              "3  AISHAH Women's Lycra Cotton Ankel Leggings. Br...             2996   \n",
              "4                                                NaN             6112   \n",
              "\n",
              "   PRODUCT_LENGTH  \n",
              "0     2125.980000  \n",
              "1      393.700000  \n",
              "2      748.031495  \n",
              "3      787.401574  \n",
              "4      598.424000  "
            ],
            "text/html": [
              "\n",
              "  <div id=\"df-fd5abf7e-b369-42c6-a23b-d089b7ae73dc\" class=\"colab-df-container\">\n",
              "    <div>\n",
              "<style scoped>\n",
              "    .dataframe tbody tr th:only-of-type {\n",
              "        vertical-align: middle;\n",
              "    }\n",
              "\n",
              "    .dataframe tbody tr th {\n",
              "        vertical-align: top;\n",
              "    }\n",
              "\n",
              "    .dataframe thead th {\n",
              "        text-align: right;\n",
              "    }\n",
              "</style>\n",
              "<table border=\"1\" class=\"dataframe\">\n",
              "  <thead>\n",
              "    <tr style=\"text-align: right;\">\n",
              "      <th></th>\n",
              "      <th>PRODUCT_ID</th>\n",
              "      <th>TITLE</th>\n",
              "      <th>BULLET_POINTS</th>\n",
              "      <th>DESCRIPTION</th>\n",
              "      <th>PRODUCT_TYPE_ID</th>\n",
              "      <th>PRODUCT_LENGTH</th>\n",
              "    </tr>\n",
              "  </thead>\n",
              "  <tbody>\n",
              "    <tr>\n",
              "      <th>0</th>\n",
              "      <td>1925202</td>\n",
              "      <td>ArtzFolio Tulip Flowers Blackout Curtain for D...</td>\n",
              "      <td>[LUXURIOUS &amp; APPEALING: Beautiful custom-made ...</td>\n",
              "      <td>NaN</td>\n",
              "      <td>1650</td>\n",
              "      <td>2125.980000</td>\n",
              "    </tr>\n",
              "    <tr>\n",
              "      <th>1</th>\n",
              "      <td>2673191</td>\n",
              "      <td>Marks &amp; Spencer Girls' Pyjama Sets T86_2561C_N...</td>\n",
              "      <td>[Harry Potter Hedwig Pyjamas (6-16 Yrs),100% c...</td>\n",
              "      <td>NaN</td>\n",
              "      <td>2755</td>\n",
              "      <td>393.700000</td>\n",
              "    </tr>\n",
              "    <tr>\n",
              "      <th>2</th>\n",
              "      <td>2765088</td>\n",
              "      <td>PRIKNIK Horn Red Electric Air Horn Compressor ...</td>\n",
              "      <td>[Loud Dual Tone Trumpet Horn, Compatible With ...</td>\n",
              "      <td>Specifications: Color: Red, Material: Aluminiu...</td>\n",
              "      <td>7537</td>\n",
              "      <td>748.031495</td>\n",
              "    </tr>\n",
              "    <tr>\n",
              "      <th>3</th>\n",
              "      <td>1594019</td>\n",
              "      <td>ALISHAH Women's Cotton Ankle Length Leggings C...</td>\n",
              "      <td>[Made By 95%cotton and 5% Lycra which gives yo...</td>\n",
              "      <td>AISHAH Women's Lycra Cotton Ankel Leggings. Br...</td>\n",
              "      <td>2996</td>\n",
              "      <td>787.401574</td>\n",
              "    </tr>\n",
              "    <tr>\n",
              "      <th>4</th>\n",
              "      <td>283658</td>\n",
              "      <td>The United Empire Loyalists: A Chronicle of th...</td>\n",
              "      <td>NaN</td>\n",
              "      <td>NaN</td>\n",
              "      <td>6112</td>\n",
              "      <td>598.424000</td>\n",
              "    </tr>\n",
              "  </tbody>\n",
              "</table>\n",
              "</div>\n",
              "    <div class=\"colab-df-buttons\">\n",
              "\n",
              "  <div class=\"colab-df-container\">\n",
              "    <button class=\"colab-df-convert\" onclick=\"convertToInteractive('df-fd5abf7e-b369-42c6-a23b-d089b7ae73dc')\"\n",
              "            title=\"Convert this dataframe to an interactive table.\"\n",
              "            style=\"display:none;\">\n",
              "\n",
              "  <svg xmlns=\"http://www.w3.org/2000/svg\" height=\"24px\" viewBox=\"0 -960 960 960\">\n",
              "    <path d=\"M120-120v-720h720v720H120Zm60-500h600v-160H180v160Zm220 220h160v-160H400v160Zm0 220h160v-160H400v160ZM180-400h160v-160H180v160Zm440 0h160v-160H620v160ZM180-180h160v-160H180v160Zm440 0h160v-160H620v160Z\"/>\n",
              "  </svg>\n",
              "    </button>\n",
              "\n",
              "  <style>\n",
              "    .colab-df-container {\n",
              "      display:flex;\n",
              "      gap: 12px;\n",
              "    }\n",
              "\n",
              "    .colab-df-convert {\n",
              "      background-color: #E8F0FE;\n",
              "      border: none;\n",
              "      border-radius: 50%;\n",
              "      cursor: pointer;\n",
              "      display: none;\n",
              "      fill: #1967D2;\n",
              "      height: 32px;\n",
              "      padding: 0 0 0 0;\n",
              "      width: 32px;\n",
              "    }\n",
              "\n",
              "    .colab-df-convert:hover {\n",
              "      background-color: #E2EBFA;\n",
              "      box-shadow: 0px 1px 2px rgba(60, 64, 67, 0.3), 0px 1px 3px 1px rgba(60, 64, 67, 0.15);\n",
              "      fill: #174EA6;\n",
              "    }\n",
              "\n",
              "    .colab-df-buttons div {\n",
              "      margin-bottom: 4px;\n",
              "    }\n",
              "\n",
              "    [theme=dark] .colab-df-convert {\n",
              "      background-color: #3B4455;\n",
              "      fill: #D2E3FC;\n",
              "    }\n",
              "\n",
              "    [theme=dark] .colab-df-convert:hover {\n",
              "      background-color: #434B5C;\n",
              "      box-shadow: 0px 1px 3px 1px rgba(0, 0, 0, 0.15);\n",
              "      filter: drop-shadow(0px 1px 2px rgba(0, 0, 0, 0.3));\n",
              "      fill: #FFFFFF;\n",
              "    }\n",
              "  </style>\n",
              "\n",
              "    <script>\n",
              "      const buttonEl =\n",
              "        document.querySelector('#df-fd5abf7e-b369-42c6-a23b-d089b7ae73dc button.colab-df-convert');\n",
              "      buttonEl.style.display =\n",
              "        google.colab.kernel.accessAllowed ? 'block' : 'none';\n",
              "\n",
              "      async function convertToInteractive(key) {\n",
              "        const element = document.querySelector('#df-fd5abf7e-b369-42c6-a23b-d089b7ae73dc');\n",
              "        const dataTable =\n",
              "          await google.colab.kernel.invokeFunction('convertToInteractive',\n",
              "                                                    [key], {});\n",
              "        if (!dataTable) return;\n",
              "\n",
              "        const docLinkHtml = 'Like what you see? Visit the ' +\n",
              "          '<a target=\"_blank\" href=https://colab.research.google.com/notebooks/data_table.ipynb>data table notebook</a>'\n",
              "          + ' to learn more about interactive tables.';\n",
              "        element.innerHTML = '';\n",
              "        dataTable['output_type'] = 'display_data';\n",
              "        await google.colab.output.renderOutput(dataTable, element);\n",
              "        const docLink = document.createElement('div');\n",
              "        docLink.innerHTML = docLinkHtml;\n",
              "        element.appendChild(docLink);\n",
              "      }\n",
              "    </script>\n",
              "  </div>\n",
              "\n",
              "\n",
              "<div id=\"df-15f832e7-4a61-4dc0-87ee-e086dc840ebb\">\n",
              "  <button class=\"colab-df-quickchart\" onclick=\"quickchart('df-15f832e7-4a61-4dc0-87ee-e086dc840ebb')\"\n",
              "            title=\"Suggest charts\"\n",
              "            style=\"display:none;\">\n",
              "\n",
              "<svg xmlns=\"http://www.w3.org/2000/svg\" height=\"24px\"viewBox=\"0 0 24 24\"\n",
              "     width=\"24px\">\n",
              "    <g>\n",
              "        <path d=\"M19 3H5c-1.1 0-2 .9-2 2v14c0 1.1.9 2 2 2h14c1.1 0 2-.9 2-2V5c0-1.1-.9-2-2-2zM9 17H7v-7h2v7zm4 0h-2V7h2v10zm4 0h-2v-4h2v4z\"/>\n",
              "    </g>\n",
              "</svg>\n",
              "  </button>\n",
              "\n",
              "<style>\n",
              "  .colab-df-quickchart {\n",
              "      --bg-color: #E8F0FE;\n",
              "      --fill-color: #1967D2;\n",
              "      --hover-bg-color: #E2EBFA;\n",
              "      --hover-fill-color: #174EA6;\n",
              "      --disabled-fill-color: #AAA;\n",
              "      --disabled-bg-color: #DDD;\n",
              "  }\n",
              "\n",
              "  [theme=dark] .colab-df-quickchart {\n",
              "      --bg-color: #3B4455;\n",
              "      --fill-color: #D2E3FC;\n",
              "      --hover-bg-color: #434B5C;\n",
              "      --hover-fill-color: #FFFFFF;\n",
              "      --disabled-bg-color: #3B4455;\n",
              "      --disabled-fill-color: #666;\n",
              "  }\n",
              "\n",
              "  .colab-df-quickchart {\n",
              "    background-color: var(--bg-color);\n",
              "    border: none;\n",
              "    border-radius: 50%;\n",
              "    cursor: pointer;\n",
              "    display: none;\n",
              "    fill: var(--fill-color);\n",
              "    height: 32px;\n",
              "    padding: 0;\n",
              "    width: 32px;\n",
              "  }\n",
              "\n",
              "  .colab-df-quickchart:hover {\n",
              "    background-color: var(--hover-bg-color);\n",
              "    box-shadow: 0 1px 2px rgba(60, 64, 67, 0.3), 0 1px 3px 1px rgba(60, 64, 67, 0.15);\n",
              "    fill: var(--button-hover-fill-color);\n",
              "  }\n",
              "\n",
              "  .colab-df-quickchart-complete:disabled,\n",
              "  .colab-df-quickchart-complete:disabled:hover {\n",
              "    background-color: var(--disabled-bg-color);\n",
              "    fill: var(--disabled-fill-color);\n",
              "    box-shadow: none;\n",
              "  }\n",
              "\n",
              "  .colab-df-spinner {\n",
              "    border: 2px solid var(--fill-color);\n",
              "    border-color: transparent;\n",
              "    border-bottom-color: var(--fill-color);\n",
              "    animation:\n",
              "      spin 1s steps(1) infinite;\n",
              "  }\n",
              "\n",
              "  @keyframes spin {\n",
              "    0% {\n",
              "      border-color: transparent;\n",
              "      border-bottom-color: var(--fill-color);\n",
              "      border-left-color: var(--fill-color);\n",
              "    }\n",
              "    20% {\n",
              "      border-color: transparent;\n",
              "      border-left-color: var(--fill-color);\n",
              "      border-top-color: var(--fill-color);\n",
              "    }\n",
              "    30% {\n",
              "      border-color: transparent;\n",
              "      border-left-color: var(--fill-color);\n",
              "      border-top-color: var(--fill-color);\n",
              "      border-right-color: var(--fill-color);\n",
              "    }\n",
              "    40% {\n",
              "      border-color: transparent;\n",
              "      border-right-color: var(--fill-color);\n",
              "      border-top-color: var(--fill-color);\n",
              "    }\n",
              "    60% {\n",
              "      border-color: transparent;\n",
              "      border-right-color: var(--fill-color);\n",
              "    }\n",
              "    80% {\n",
              "      border-color: transparent;\n",
              "      border-right-color: var(--fill-color);\n",
              "      border-bottom-color: var(--fill-color);\n",
              "    }\n",
              "    90% {\n",
              "      border-color: transparent;\n",
              "      border-bottom-color: var(--fill-color);\n",
              "    }\n",
              "  }\n",
              "</style>\n",
              "\n",
              "  <script>\n",
              "    async function quickchart(key) {\n",
              "      const quickchartButtonEl =\n",
              "        document.querySelector('#' + key + ' button');\n",
              "      quickchartButtonEl.disabled = true;  // To prevent multiple clicks.\n",
              "      quickchartButtonEl.classList.add('colab-df-spinner');\n",
              "      try {\n",
              "        const charts = await google.colab.kernel.invokeFunction(\n",
              "            'suggestCharts', [key], {});\n",
              "      } catch (error) {\n",
              "        console.error('Error during call to suggestCharts:', error);\n",
              "      }\n",
              "      quickchartButtonEl.classList.remove('colab-df-spinner');\n",
              "      quickchartButtonEl.classList.add('colab-df-quickchart-complete');\n",
              "    }\n",
              "    (() => {\n",
              "      let quickchartButtonEl =\n",
              "        document.querySelector('#df-15f832e7-4a61-4dc0-87ee-e086dc840ebb button');\n",
              "      quickchartButtonEl.style.display =\n",
              "        google.colab.kernel.accessAllowed ? 'block' : 'none';\n",
              "    })();\n",
              "  </script>\n",
              "</div>\n",
              "\n",
              "    </div>\n",
              "  </div>\n"
            ],
            "application/vnd.google.colaboratory.intrinsic+json": {
              "type": "dataframe",
              "variable_name": "df"
            }
          },
          "metadata": {},
          "execution_count": 3
        }
      ]
    },
    {
      "cell_type": "code",
      "source": [
        "df.shape"
      ],
      "metadata": {
        "colab": {
          "base_uri": "https://localhost:8080/"
        },
        "id": "KnOnGZN7M07N",
        "outputId": "9ebab335-343a-4102-f2db-e3dfd5b21b9f"
      },
      "execution_count": 6,
      "outputs": [
        {
          "output_type": "execute_result",
          "data": {
            "text/plain": [
              "(2249698, 6)"
            ]
          },
          "metadata": {},
          "execution_count": 6
        }
      ]
    },
    {
      "cell_type": "code",
      "source": [
        "df.isnull().sum()"
      ],
      "metadata": {
        "colab": {
          "base_uri": "https://localhost:8080/",
          "height": 272
        },
        "id": "MnSR2IiRNQem",
        "outputId": "ac358cf8-3413-426c-8bfd-77531cd9d899"
      },
      "execution_count": 7,
      "outputs": [
        {
          "output_type": "execute_result",
          "data": {
            "text/plain": [
              "PRODUCT_ID               0\n",
              "TITLE                   13\n",
              "BULLET_POINTS       837366\n",
              "DESCRIPTION        1157382\n",
              "PRODUCT_TYPE_ID          0\n",
              "PRODUCT_LENGTH           0\n",
              "dtype: int64"
            ],
            "text/html": [
              "<div>\n",
              "<style scoped>\n",
              "    .dataframe tbody tr th:only-of-type {\n",
              "        vertical-align: middle;\n",
              "    }\n",
              "\n",
              "    .dataframe tbody tr th {\n",
              "        vertical-align: top;\n",
              "    }\n",
              "\n",
              "    .dataframe thead th {\n",
              "        text-align: right;\n",
              "    }\n",
              "</style>\n",
              "<table border=\"1\" class=\"dataframe\">\n",
              "  <thead>\n",
              "    <tr style=\"text-align: right;\">\n",
              "      <th></th>\n",
              "      <th>0</th>\n",
              "    </tr>\n",
              "  </thead>\n",
              "  <tbody>\n",
              "    <tr>\n",
              "      <th>PRODUCT_ID</th>\n",
              "      <td>0</td>\n",
              "    </tr>\n",
              "    <tr>\n",
              "      <th>TITLE</th>\n",
              "      <td>13</td>\n",
              "    </tr>\n",
              "    <tr>\n",
              "      <th>BULLET_POINTS</th>\n",
              "      <td>837366</td>\n",
              "    </tr>\n",
              "    <tr>\n",
              "      <th>DESCRIPTION</th>\n",
              "      <td>1157382</td>\n",
              "    </tr>\n",
              "    <tr>\n",
              "      <th>PRODUCT_TYPE_ID</th>\n",
              "      <td>0</td>\n",
              "    </tr>\n",
              "    <tr>\n",
              "      <th>PRODUCT_LENGTH</th>\n",
              "      <td>0</td>\n",
              "    </tr>\n",
              "  </tbody>\n",
              "</table>\n",
              "</div><br><label><b>dtype:</b> int64</label>"
            ]
          },
          "metadata": {},
          "execution_count": 7
        }
      ]
    },
    {
      "cell_type": "code",
      "source": [
        "df.drop(columns=['DESCRIPTION','BULLET_POINTS'],axis=1,inplace=True)"
      ],
      "metadata": {
        "id": "l2ViY7pCNSaq"
      },
      "execution_count": 8,
      "outputs": []
    },
    {
      "cell_type": "code",
      "source": [
        "df.shape"
      ],
      "metadata": {
        "colab": {
          "base_uri": "https://localhost:8080/"
        },
        "id": "zrrqm1JnNqp1",
        "outputId": "5e45af3c-6658-4065-850c-39d87f814776"
      },
      "execution_count": 9,
      "outputs": [
        {
          "output_type": "execute_result",
          "data": {
            "text/plain": [
              "(2249698, 4)"
            ]
          },
          "metadata": {},
          "execution_count": 9
        }
      ]
    },
    {
      "cell_type": "code",
      "source": [
        "df.drop(columns=['PRODUCT_ID'],inplace = True)"
      ],
      "metadata": {
        "id": "XWXG--e7Nv_n"
      },
      "execution_count": 10,
      "outputs": []
    },
    {
      "cell_type": "code",
      "source": [
        "df.head()"
      ],
      "metadata": {
        "colab": {
          "base_uri": "https://localhost:8080/",
          "height": 293
        },
        "id": "bPZTdxifN81z",
        "outputId": "207d0259-3103-4897-c029-5de604a3bd88"
      },
      "execution_count": 11,
      "outputs": [
        {
          "output_type": "execute_result",
          "data": {
            "text/plain": [
              "                                               TITLE  PRODUCT_TYPE_ID  \\\n",
              "0  ArtzFolio Tulip Flowers Blackout Curtain for D...             1650   \n",
              "1  Marks & Spencer Girls' Pyjama Sets T86_2561C_N...             2755   \n",
              "2  PRIKNIK Horn Red Electric Air Horn Compressor ...             7537   \n",
              "3  ALISHAH Women's Cotton Ankle Length Leggings C...             2996   \n",
              "4  The United Empire Loyalists: A Chronicle of th...             6112   \n",
              "\n",
              "   PRODUCT_LENGTH  \n",
              "0     2125.980000  \n",
              "1      393.700000  \n",
              "2      748.031495  \n",
              "3      787.401574  \n",
              "4      598.424000  "
            ],
            "text/html": [
              "\n",
              "  <div id=\"df-e0a88f7b-2526-40b1-b7e5-ca75910abe09\" class=\"colab-df-container\">\n",
              "    <div>\n",
              "<style scoped>\n",
              "    .dataframe tbody tr th:only-of-type {\n",
              "        vertical-align: middle;\n",
              "    }\n",
              "\n",
              "    .dataframe tbody tr th {\n",
              "        vertical-align: top;\n",
              "    }\n",
              "\n",
              "    .dataframe thead th {\n",
              "        text-align: right;\n",
              "    }\n",
              "</style>\n",
              "<table border=\"1\" class=\"dataframe\">\n",
              "  <thead>\n",
              "    <tr style=\"text-align: right;\">\n",
              "      <th></th>\n",
              "      <th>TITLE</th>\n",
              "      <th>PRODUCT_TYPE_ID</th>\n",
              "      <th>PRODUCT_LENGTH</th>\n",
              "    </tr>\n",
              "  </thead>\n",
              "  <tbody>\n",
              "    <tr>\n",
              "      <th>0</th>\n",
              "      <td>ArtzFolio Tulip Flowers Blackout Curtain for D...</td>\n",
              "      <td>1650</td>\n",
              "      <td>2125.980000</td>\n",
              "    </tr>\n",
              "    <tr>\n",
              "      <th>1</th>\n",
              "      <td>Marks &amp; Spencer Girls' Pyjama Sets T86_2561C_N...</td>\n",
              "      <td>2755</td>\n",
              "      <td>393.700000</td>\n",
              "    </tr>\n",
              "    <tr>\n",
              "      <th>2</th>\n",
              "      <td>PRIKNIK Horn Red Electric Air Horn Compressor ...</td>\n",
              "      <td>7537</td>\n",
              "      <td>748.031495</td>\n",
              "    </tr>\n",
              "    <tr>\n",
              "      <th>3</th>\n",
              "      <td>ALISHAH Women's Cotton Ankle Length Leggings C...</td>\n",
              "      <td>2996</td>\n",
              "      <td>787.401574</td>\n",
              "    </tr>\n",
              "    <tr>\n",
              "      <th>4</th>\n",
              "      <td>The United Empire Loyalists: A Chronicle of th...</td>\n",
              "      <td>6112</td>\n",
              "      <td>598.424000</td>\n",
              "    </tr>\n",
              "  </tbody>\n",
              "</table>\n",
              "</div>\n",
              "    <div class=\"colab-df-buttons\">\n",
              "\n",
              "  <div class=\"colab-df-container\">\n",
              "    <button class=\"colab-df-convert\" onclick=\"convertToInteractive('df-e0a88f7b-2526-40b1-b7e5-ca75910abe09')\"\n",
              "            title=\"Convert this dataframe to an interactive table.\"\n",
              "            style=\"display:none;\">\n",
              "\n",
              "  <svg xmlns=\"http://www.w3.org/2000/svg\" height=\"24px\" viewBox=\"0 -960 960 960\">\n",
              "    <path d=\"M120-120v-720h720v720H120Zm60-500h600v-160H180v160Zm220 220h160v-160H400v160Zm0 220h160v-160H400v160ZM180-400h160v-160H180v160Zm440 0h160v-160H620v160ZM180-180h160v-160H180v160Zm440 0h160v-160H620v160Z\"/>\n",
              "  </svg>\n",
              "    </button>\n",
              "\n",
              "  <style>\n",
              "    .colab-df-container {\n",
              "      display:flex;\n",
              "      gap: 12px;\n",
              "    }\n",
              "\n",
              "    .colab-df-convert {\n",
              "      background-color: #E8F0FE;\n",
              "      border: none;\n",
              "      border-radius: 50%;\n",
              "      cursor: pointer;\n",
              "      display: none;\n",
              "      fill: #1967D2;\n",
              "      height: 32px;\n",
              "      padding: 0 0 0 0;\n",
              "      width: 32px;\n",
              "    }\n",
              "\n",
              "    .colab-df-convert:hover {\n",
              "      background-color: #E2EBFA;\n",
              "      box-shadow: 0px 1px 2px rgba(60, 64, 67, 0.3), 0px 1px 3px 1px rgba(60, 64, 67, 0.15);\n",
              "      fill: #174EA6;\n",
              "    }\n",
              "\n",
              "    .colab-df-buttons div {\n",
              "      margin-bottom: 4px;\n",
              "    }\n",
              "\n",
              "    [theme=dark] .colab-df-convert {\n",
              "      background-color: #3B4455;\n",
              "      fill: #D2E3FC;\n",
              "    }\n",
              "\n",
              "    [theme=dark] .colab-df-convert:hover {\n",
              "      background-color: #434B5C;\n",
              "      box-shadow: 0px 1px 3px 1px rgba(0, 0, 0, 0.15);\n",
              "      filter: drop-shadow(0px 1px 2px rgba(0, 0, 0, 0.3));\n",
              "      fill: #FFFFFF;\n",
              "    }\n",
              "  </style>\n",
              "\n",
              "    <script>\n",
              "      const buttonEl =\n",
              "        document.querySelector('#df-e0a88f7b-2526-40b1-b7e5-ca75910abe09 button.colab-df-convert');\n",
              "      buttonEl.style.display =\n",
              "        google.colab.kernel.accessAllowed ? 'block' : 'none';\n",
              "\n",
              "      async function convertToInteractive(key) {\n",
              "        const element = document.querySelector('#df-e0a88f7b-2526-40b1-b7e5-ca75910abe09');\n",
              "        const dataTable =\n",
              "          await google.colab.kernel.invokeFunction('convertToInteractive',\n",
              "                                                    [key], {});\n",
              "        if (!dataTable) return;\n",
              "\n",
              "        const docLinkHtml = 'Like what you see? Visit the ' +\n",
              "          '<a target=\"_blank\" href=https://colab.research.google.com/notebooks/data_table.ipynb>data table notebook</a>'\n",
              "          + ' to learn more about interactive tables.';\n",
              "        element.innerHTML = '';\n",
              "        dataTable['output_type'] = 'display_data';\n",
              "        await google.colab.output.renderOutput(dataTable, element);\n",
              "        const docLink = document.createElement('div');\n",
              "        docLink.innerHTML = docLinkHtml;\n",
              "        element.appendChild(docLink);\n",
              "      }\n",
              "    </script>\n",
              "  </div>\n",
              "\n",
              "\n",
              "<div id=\"df-8357fc81-f56d-4732-9393-41081f72363e\">\n",
              "  <button class=\"colab-df-quickchart\" onclick=\"quickchart('df-8357fc81-f56d-4732-9393-41081f72363e')\"\n",
              "            title=\"Suggest charts\"\n",
              "            style=\"display:none;\">\n",
              "\n",
              "<svg xmlns=\"http://www.w3.org/2000/svg\" height=\"24px\"viewBox=\"0 0 24 24\"\n",
              "     width=\"24px\">\n",
              "    <g>\n",
              "        <path d=\"M19 3H5c-1.1 0-2 .9-2 2v14c0 1.1.9 2 2 2h14c1.1 0 2-.9 2-2V5c0-1.1-.9-2-2-2zM9 17H7v-7h2v7zm4 0h-2V7h2v10zm4 0h-2v-4h2v4z\"/>\n",
              "    </g>\n",
              "</svg>\n",
              "  </button>\n",
              "\n",
              "<style>\n",
              "  .colab-df-quickchart {\n",
              "      --bg-color: #E8F0FE;\n",
              "      --fill-color: #1967D2;\n",
              "      --hover-bg-color: #E2EBFA;\n",
              "      --hover-fill-color: #174EA6;\n",
              "      --disabled-fill-color: #AAA;\n",
              "      --disabled-bg-color: #DDD;\n",
              "  }\n",
              "\n",
              "  [theme=dark] .colab-df-quickchart {\n",
              "      --bg-color: #3B4455;\n",
              "      --fill-color: #D2E3FC;\n",
              "      --hover-bg-color: #434B5C;\n",
              "      --hover-fill-color: #FFFFFF;\n",
              "      --disabled-bg-color: #3B4455;\n",
              "      --disabled-fill-color: #666;\n",
              "  }\n",
              "\n",
              "  .colab-df-quickchart {\n",
              "    background-color: var(--bg-color);\n",
              "    border: none;\n",
              "    border-radius: 50%;\n",
              "    cursor: pointer;\n",
              "    display: none;\n",
              "    fill: var(--fill-color);\n",
              "    height: 32px;\n",
              "    padding: 0;\n",
              "    width: 32px;\n",
              "  }\n",
              "\n",
              "  .colab-df-quickchart:hover {\n",
              "    background-color: var(--hover-bg-color);\n",
              "    box-shadow: 0 1px 2px rgba(60, 64, 67, 0.3), 0 1px 3px 1px rgba(60, 64, 67, 0.15);\n",
              "    fill: var(--button-hover-fill-color);\n",
              "  }\n",
              "\n",
              "  .colab-df-quickchart-complete:disabled,\n",
              "  .colab-df-quickchart-complete:disabled:hover {\n",
              "    background-color: var(--disabled-bg-color);\n",
              "    fill: var(--disabled-fill-color);\n",
              "    box-shadow: none;\n",
              "  }\n",
              "\n",
              "  .colab-df-spinner {\n",
              "    border: 2px solid var(--fill-color);\n",
              "    border-color: transparent;\n",
              "    border-bottom-color: var(--fill-color);\n",
              "    animation:\n",
              "      spin 1s steps(1) infinite;\n",
              "  }\n",
              "\n",
              "  @keyframes spin {\n",
              "    0% {\n",
              "      border-color: transparent;\n",
              "      border-bottom-color: var(--fill-color);\n",
              "      border-left-color: var(--fill-color);\n",
              "    }\n",
              "    20% {\n",
              "      border-color: transparent;\n",
              "      border-left-color: var(--fill-color);\n",
              "      border-top-color: var(--fill-color);\n",
              "    }\n",
              "    30% {\n",
              "      border-color: transparent;\n",
              "      border-left-color: var(--fill-color);\n",
              "      border-top-color: var(--fill-color);\n",
              "      border-right-color: var(--fill-color);\n",
              "    }\n",
              "    40% {\n",
              "      border-color: transparent;\n",
              "      border-right-color: var(--fill-color);\n",
              "      border-top-color: var(--fill-color);\n",
              "    }\n",
              "    60% {\n",
              "      border-color: transparent;\n",
              "      border-right-color: var(--fill-color);\n",
              "    }\n",
              "    80% {\n",
              "      border-color: transparent;\n",
              "      border-right-color: var(--fill-color);\n",
              "      border-bottom-color: var(--fill-color);\n",
              "    }\n",
              "    90% {\n",
              "      border-color: transparent;\n",
              "      border-bottom-color: var(--fill-color);\n",
              "    }\n",
              "  }\n",
              "</style>\n",
              "\n",
              "  <script>\n",
              "    async function quickchart(key) {\n",
              "      const quickchartButtonEl =\n",
              "        document.querySelector('#' + key + ' button');\n",
              "      quickchartButtonEl.disabled = true;  // To prevent multiple clicks.\n",
              "      quickchartButtonEl.classList.add('colab-df-spinner');\n",
              "      try {\n",
              "        const charts = await google.colab.kernel.invokeFunction(\n",
              "            'suggestCharts', [key], {});\n",
              "      } catch (error) {\n",
              "        console.error('Error during call to suggestCharts:', error);\n",
              "      }\n",
              "      quickchartButtonEl.classList.remove('colab-df-spinner');\n",
              "      quickchartButtonEl.classList.add('colab-df-quickchart-complete');\n",
              "    }\n",
              "    (() => {\n",
              "      let quickchartButtonEl =\n",
              "        document.querySelector('#df-8357fc81-f56d-4732-9393-41081f72363e button');\n",
              "      quickchartButtonEl.style.display =\n",
              "        google.colab.kernel.accessAllowed ? 'block' : 'none';\n",
              "    })();\n",
              "  </script>\n",
              "</div>\n",
              "\n",
              "    </div>\n",
              "  </div>\n"
            ],
            "application/vnd.google.colaboratory.intrinsic+json": {
              "type": "dataframe",
              "variable_name": "df"
            }
          },
          "metadata": {},
          "execution_count": 11
        }
      ]
    },
    {
      "cell_type": "code",
      "source": [
        "df['PRODUCT_TYPE_ID'].corr(df['PRODUCT_LENGTH'])"
      ],
      "metadata": {
        "colab": {
          "base_uri": "https://localhost:8080/"
        },
        "id": "jbJhuiNCN-GW",
        "outputId": "0d2f750f-3dd8-4c94-d666-eb145c342821"
      },
      "execution_count": 13,
      "outputs": [
        {
          "output_type": "execute_result",
          "data": {
            "text/plain": [
              "0.0009609601257185517"
            ]
          },
          "metadata": {},
          "execution_count": 13
        }
      ]
    },
    {
      "cell_type": "code",
      "source": [
        "df.drop(columns=['PRODUCT_TYPE_ID'],inplace=True)"
      ],
      "metadata": {
        "id": "43D5k6CwOD51"
      },
      "execution_count": 14,
      "outputs": []
    },
    {
      "cell_type": "code",
      "source": [
        "df.shape"
      ],
      "metadata": {
        "colab": {
          "base_uri": "https://localhost:8080/"
        },
        "id": "tWkPeuNDOSu_",
        "outputId": "1378b4a3-e68a-4d81-c256-08b91645006f"
      },
      "execution_count": 15,
      "outputs": [
        {
          "output_type": "execute_result",
          "data": {
            "text/plain": [
              "(2249698, 2)"
            ]
          },
          "metadata": {},
          "execution_count": 15
        }
      ]
    },
    {
      "cell_type": "code",
      "source": [
        "df.isnull().sum()"
      ],
      "metadata": {
        "colab": {
          "base_uri": "https://localhost:8080/",
          "height": 147
        },
        "id": "4nMN2pmDOUSn",
        "outputId": "231634fa-9b62-4b71-a3a7-ac4694838540"
      },
      "execution_count": 16,
      "outputs": [
        {
          "output_type": "execute_result",
          "data": {
            "text/plain": [
              "TITLE             13\n",
              "PRODUCT_LENGTH     0\n",
              "dtype: int64"
            ],
            "text/html": [
              "<div>\n",
              "<style scoped>\n",
              "    .dataframe tbody tr th:only-of-type {\n",
              "        vertical-align: middle;\n",
              "    }\n",
              "\n",
              "    .dataframe tbody tr th {\n",
              "        vertical-align: top;\n",
              "    }\n",
              "\n",
              "    .dataframe thead th {\n",
              "        text-align: right;\n",
              "    }\n",
              "</style>\n",
              "<table border=\"1\" class=\"dataframe\">\n",
              "  <thead>\n",
              "    <tr style=\"text-align: right;\">\n",
              "      <th></th>\n",
              "      <th>0</th>\n",
              "    </tr>\n",
              "  </thead>\n",
              "  <tbody>\n",
              "    <tr>\n",
              "      <th>TITLE</th>\n",
              "      <td>13</td>\n",
              "    </tr>\n",
              "    <tr>\n",
              "      <th>PRODUCT_LENGTH</th>\n",
              "      <td>0</td>\n",
              "    </tr>\n",
              "  </tbody>\n",
              "</table>\n",
              "</div><br><label><b>dtype:</b> int64</label>"
            ]
          },
          "metadata": {},
          "execution_count": 16
        }
      ]
    },
    {
      "cell_type": "code",
      "source": [
        "df.dropna(inplace=True)"
      ],
      "metadata": {
        "id": "nYRFu_VdOZpE"
      },
      "execution_count": 17,
      "outputs": []
    },
    {
      "cell_type": "code",
      "source": [
        "df.shape"
      ],
      "metadata": {
        "colab": {
          "base_uri": "https://localhost:8080/"
        },
        "id": "V_TOTHVgOb5U",
        "outputId": "315c10f5-c5dd-48be-a44f-8f150009672b"
      },
      "execution_count": 18,
      "outputs": [
        {
          "output_type": "execute_result",
          "data": {
            "text/plain": [
              "(2249685, 2)"
            ]
          },
          "metadata": {},
          "execution_count": 18
        }
      ]
    },
    {
      "cell_type": "code",
      "source": [
        "!pip install vaex"
      ],
      "metadata": {
        "colab": {
          "base_uri": "https://localhost:8080/"
        },
        "id": "sLkfYuYaOdZ0",
        "outputId": "f9384d15-1938-4552-96a2-2bd3769c47d4"
      },
      "execution_count": 19,
      "outputs": [
        {
          "output_type": "stream",
          "name": "stdout",
          "text": [
            "Collecting vaex\n",
            "  Downloading vaex-4.17.0-py3-none-any.whl.metadata (6.0 kB)\n",
            "Collecting vaex-core~=4.17.1 (from vaex)\n",
            "  Downloading vaex_core-4.17.1-cp310-cp310-manylinux_2_17_x86_64.manylinux2014_x86_64.whl.metadata (1.1 kB)\n",
            "Collecting vaex-astro<0.10,>=0.9.3 (from vaex)\n",
            "  Downloading vaex_astro-0.9.3-py3-none-any.whl.metadata (345 bytes)\n",
            "Collecting vaex-hdf5<0.15,>=0.13.0 (from vaex)\n",
            "  Downloading vaex_hdf5-0.14.1-py3-none-any.whl.metadata (321 bytes)\n",
            "Collecting vaex-viz<0.6,>=0.5.4 (from vaex)\n",
            "  Downloading vaex_viz-0.5.4-py3-none-any.whl.metadata (345 bytes)\n",
            "Collecting vaex-server~=0.9.0 (from vaex)\n",
            "  Downloading vaex_server-0.9.0-py3-none-any.whl.metadata (430 bytes)\n",
            "Collecting vaex-jupyter<0.9,>=0.8.2 (from vaex)\n",
            "  Downloading vaex_jupyter-0.8.2-py3-none-any.whl.metadata (517 bytes)\n",
            "Collecting vaex-ml<0.19,>=0.18.3 (from vaex)\n",
            "  Downloading vaex_ml-0.18.3-py3-none-any.whl.metadata (485 bytes)\n",
            "Requirement already satisfied: astropy in /usr/local/lib/python3.10/dist-packages (from vaex-astro<0.10,>=0.9.3->vaex) (6.1.3)\n",
            "Requirement already satisfied: numpy>=1.16 in /usr/local/lib/python3.10/dist-packages (from vaex-core~=4.17.1->vaex) (1.26.4)\n",
            "Collecting aplus (from vaex-core~=4.17.1->vaex)\n",
            "  Downloading aplus-0.11.0.tar.gz (3.7 kB)\n",
            "  Preparing metadata (setup.py) ... \u001b[?25l\u001b[?25hdone\n",
            "Requirement already satisfied: tabulate>=0.8.3 in /usr/local/lib/python3.10/dist-packages (from vaex-core~=4.17.1->vaex) (0.9.0)\n",
            "Requirement already satisfied: future>=0.15.2 in /usr/local/lib/python3.10/dist-packages (from vaex-core~=4.17.1->vaex) (1.0.0)\n",
            "Requirement already satisfied: pyyaml in /usr/local/lib/python3.10/dist-packages (from vaex-core~=4.17.1->vaex) (6.0.2)\n",
            "Requirement already satisfied: progressbar2 in /usr/local/lib/python3.10/dist-packages (from vaex-core~=4.17.1->vaex) (4.2.0)\n",
            "Requirement already satisfied: requests in /usr/local/lib/python3.10/dist-packages (from vaex-core~=4.17.1->vaex) (2.32.3)\n",
            "Requirement already satisfied: six in /usr/local/lib/python3.10/dist-packages (from vaex-core~=4.17.1->vaex) (1.16.0)\n",
            "Requirement already satisfied: cloudpickle in /usr/local/lib/python3.10/dist-packages (from vaex-core~=4.17.1->vaex) (2.2.1)\n",
            "Requirement already satisfied: pandas in /usr/local/lib/python3.10/dist-packages (from vaex-core~=4.17.1->vaex) (2.1.4)\n",
            "Requirement already satisfied: dask!=2022.4.0 in /usr/local/lib/python3.10/dist-packages (from vaex-core~=4.17.1->vaex) (2024.7.1)\n",
            "Requirement already satisfied: nest-asyncio>=1.3.3 in /usr/local/lib/python3.10/dist-packages (from vaex-core~=4.17.1->vaex) (1.6.0)\n",
            "Requirement already satisfied: pyarrow>=5.0.0 in /usr/local/lib/python3.10/dist-packages (from vaex-core~=4.17.1->vaex) (14.0.2)\n",
            "Requirement already satisfied: frozendict!=2.2.0 in /usr/local/lib/python3.10/dist-packages (from vaex-core~=4.17.1->vaex) (2.4.4)\n",
            "Collecting blake3 (from vaex-core~=4.17.1->vaex)\n",
            "  Downloading blake3-0.4.1-cp310-cp310-manylinux_2_17_x86_64.manylinux2014_x86_64.whl.metadata (4.1 kB)\n",
            "Requirement already satisfied: filelock in /usr/local/lib/python3.10/dist-packages (from vaex-core~=4.17.1->vaex) (3.15.4)\n",
            "Requirement already satisfied: pydantic>=1.8.0 in /usr/local/lib/python3.10/dist-packages (from vaex-core~=4.17.1->vaex) (2.8.2)\n",
            "Requirement already satisfied: rich in /usr/local/lib/python3.10/dist-packages (from vaex-core~=4.17.1->vaex) (13.8.0)\n",
            "Requirement already satisfied: h5py>=2.9 in /usr/local/lib/python3.10/dist-packages (from vaex-hdf5<0.15,>=0.13.0->vaex) (3.11.0)\n",
            "Requirement already satisfied: bqplot>=0.10.1 in /usr/local/lib/python3.10/dist-packages (from vaex-jupyter<0.9,>=0.8.2->vaex) (0.12.43)\n",
            "Collecting ipyvolume>=0.4 (from vaex-jupyter<0.9,>=0.8.2->vaex)\n",
            "  Downloading ipyvolume-0.6.3-py3-none-any.whl.metadata (2.3 kB)\n",
            "Requirement already satisfied: ipyleaflet in /usr/local/lib/python3.10/dist-packages (from vaex-jupyter<0.9,>=0.8.2->vaex) (0.18.2)\n",
            "Collecting ipympl (from vaex-jupyter<0.9,>=0.8.2->vaex)\n",
            "  Downloading ipympl-0.9.4-py3-none-any.whl.metadata (8.7 kB)\n",
            "Collecting ipyvuetify<2,>=1.2.2 (from vaex-jupyter<0.9,>=0.8.2->vaex)\n",
            "  Downloading ipyvuetify-1.10.0-py2.py3-none-any.whl.metadata (7.5 kB)\n",
            "Requirement already satisfied: xarray in /usr/local/lib/python3.10/dist-packages (from vaex-jupyter<0.9,>=0.8.2->vaex) (2024.6.0)\n",
            "Requirement already satisfied: numba in /usr/local/lib/python3.10/dist-packages (from vaex-ml<0.19,>=0.18.3->vaex) (0.60.0)\n",
            "Requirement already satisfied: traitlets in /usr/local/lib/python3.10/dist-packages (from vaex-ml<0.19,>=0.18.3->vaex) (5.7.1)\n",
            "Requirement already satisfied: jinja2 in /usr/local/lib/python3.10/dist-packages (from vaex-ml<0.19,>=0.18.3->vaex) (3.1.4)\n",
            "Requirement already satisfied: tornado>4.1 in /usr/local/lib/python3.10/dist-packages (from vaex-server~=0.9.0->vaex) (6.3.3)\n",
            "Requirement already satisfied: cachetools in /usr/local/lib/python3.10/dist-packages (from vaex-server~=0.9.0->vaex) (5.5.0)\n",
            "Collecting fastapi (from vaex-server~=0.9.0->vaex)\n",
            "  Downloading fastapi-0.114.1-py3-none-any.whl.metadata (27 kB)\n",
            "Collecting uvicorn[standard] (from vaex-server~=0.9.0->vaex)\n",
            "  Downloading uvicorn-0.30.6-py3-none-any.whl.metadata (6.6 kB)\n",
            "Requirement already satisfied: matplotlib>=1.3.1 in /usr/local/lib/python3.10/dist-packages (from vaex-viz<0.6,>=0.5.4->vaex) (3.7.1)\n",
            "Requirement already satisfied: pillow in /usr/local/lib/python3.10/dist-packages (from vaex-viz<0.6,>=0.5.4->vaex) (9.4.0)\n",
            "Requirement already satisfied: ipywidgets<9,>=7.5.0 in /usr/local/lib/python3.10/dist-packages (from bqplot>=0.10.1->vaex-jupyter<0.9,>=0.8.2->vaex) (7.7.1)\n",
            "Requirement already satisfied: traittypes>=0.0.6 in /usr/local/lib/python3.10/dist-packages (from bqplot>=0.10.1->vaex-jupyter<0.9,>=0.8.2->vaex) (0.2.1)\n",
            "Requirement already satisfied: click>=8.1 in /usr/local/lib/python3.10/dist-packages (from dask!=2022.4.0->vaex-core~=4.17.1->vaex) (8.1.7)\n",
            "Requirement already satisfied: fsspec>=2021.09.0 in /usr/local/lib/python3.10/dist-packages (from dask!=2022.4.0->vaex-core~=4.17.1->vaex) (2024.6.1)\n",
            "Requirement already satisfied: packaging>=20.0 in /usr/local/lib/python3.10/dist-packages (from dask!=2022.4.0->vaex-core~=4.17.1->vaex) (24.1)\n",
            "Requirement already satisfied: partd>=1.4.0 in /usr/local/lib/python3.10/dist-packages (from dask!=2022.4.0->vaex-core~=4.17.1->vaex) (1.4.2)\n",
            "Requirement already satisfied: toolz>=0.10.0 in /usr/local/lib/python3.10/dist-packages (from dask!=2022.4.0->vaex-core~=4.17.1->vaex) (0.12.1)\n",
            "Requirement already satisfied: importlib-metadata>=4.13.0 in /usr/local/lib/python3.10/dist-packages (from dask!=2022.4.0->vaex-core~=4.17.1->vaex) (8.4.0)\n",
            "Collecting ipywebrtc (from ipyvolume>=0.4->vaex-jupyter<0.9,>=0.8.2->vaex)\n",
            "  Downloading ipywebrtc-0.6.0-py2.py3-none-any.whl.metadata (825 bytes)\n",
            "Collecting ipyvue>=1.7.0 (from ipyvolume>=0.4->vaex-jupyter<0.9,>=0.8.2->vaex)\n",
            "  Downloading ipyvue-1.11.1-py2.py3-none-any.whl.metadata (1.1 kB)\n",
            "Collecting pythreejs>=2.4.0 (from ipyvolume>=0.4->vaex-jupyter<0.9,>=0.8.2->vaex)\n",
            "  Downloading pythreejs-2.4.2-py3-none-any.whl.metadata (5.4 kB)\n",
            "Requirement already satisfied: contourpy>=1.0.1 in /usr/local/lib/python3.10/dist-packages (from matplotlib>=1.3.1->vaex-viz<0.6,>=0.5.4->vaex) (1.3.0)\n",
            "Requirement already satisfied: cycler>=0.10 in /usr/local/lib/python3.10/dist-packages (from matplotlib>=1.3.1->vaex-viz<0.6,>=0.5.4->vaex) (0.12.1)\n",
            "Requirement already satisfied: fonttools>=4.22.0 in /usr/local/lib/python3.10/dist-packages (from matplotlib>=1.3.1->vaex-viz<0.6,>=0.5.4->vaex) (4.53.1)\n",
            "Requirement already satisfied: kiwisolver>=1.0.1 in /usr/local/lib/python3.10/dist-packages (from matplotlib>=1.3.1->vaex-viz<0.6,>=0.5.4->vaex) (1.4.5)\n",
            "Requirement already satisfied: pyparsing>=2.3.1 in /usr/local/lib/python3.10/dist-packages (from matplotlib>=1.3.1->vaex-viz<0.6,>=0.5.4->vaex) (3.1.4)\n",
            "Requirement already satisfied: python-dateutil>=2.7 in /usr/local/lib/python3.10/dist-packages (from matplotlib>=1.3.1->vaex-viz<0.6,>=0.5.4->vaex) (2.8.2)\n",
            "Requirement already satisfied: pytz>=2020.1 in /usr/local/lib/python3.10/dist-packages (from pandas->vaex-core~=4.17.1->vaex) (2024.1)\n",
            "Requirement already satisfied: tzdata>=2022.1 in /usr/local/lib/python3.10/dist-packages (from pandas->vaex-core~=4.17.1->vaex) (2024.1)\n",
            "Requirement already satisfied: annotated-types>=0.4.0 in /usr/local/lib/python3.10/dist-packages (from pydantic>=1.8.0->vaex-core~=4.17.1->vaex) (0.7.0)\n",
            "Requirement already satisfied: pydantic-core==2.20.1 in /usr/local/lib/python3.10/dist-packages (from pydantic>=1.8.0->vaex-core~=4.17.1->vaex) (2.20.1)\n",
            "Requirement already satisfied: typing-extensions>=4.6.1 in /usr/local/lib/python3.10/dist-packages (from pydantic>=1.8.0->vaex-core~=4.17.1->vaex) (4.12.2)\n",
            "Requirement already satisfied: pyerfa>=2.0.1.1 in /usr/local/lib/python3.10/dist-packages (from astropy->vaex-astro<0.10,>=0.9.3->vaex) (2.0.1.4)\n",
            "Requirement already satisfied: astropy-iers-data>=0.2024.7.29.0.32.7 in /usr/local/lib/python3.10/dist-packages (from astropy->vaex-astro<0.10,>=0.9.3->vaex) (0.2024.8.27.10.28.29)\n",
            "Collecting starlette<0.39.0,>=0.37.2 (from fastapi->vaex-server~=0.9.0->vaex)\n",
            "  Downloading starlette-0.38.5-py3-none-any.whl.metadata (6.0 kB)\n",
            "Requirement already satisfied: xyzservices>=2021.8.1 in /usr/local/lib/python3.10/dist-packages (from ipyleaflet->vaex-jupyter<0.9,>=0.8.2->vaex) (2024.6.0)\n",
            "Requirement already satisfied: branca>=0.5.0 in /usr/local/lib/python3.10/dist-packages (from ipyleaflet->vaex-jupyter<0.9,>=0.8.2->vaex) (0.7.2)\n",
            "Requirement already satisfied: ipython-genutils in /usr/local/lib/python3.10/dist-packages (from ipympl->vaex-jupyter<0.9,>=0.8.2->vaex) (0.2.0)\n",
            "Requirement already satisfied: ipython<9 in /usr/local/lib/python3.10/dist-packages (from ipympl->vaex-jupyter<0.9,>=0.8.2->vaex) (7.34.0)\n",
            "Requirement already satisfied: MarkupSafe>=2.0 in /usr/local/lib/python3.10/dist-packages (from jinja2->vaex-ml<0.19,>=0.18.3->vaex) (2.1.5)\n",
            "Requirement already satisfied: llvmlite<0.44,>=0.43.0dev0 in /usr/local/lib/python3.10/dist-packages (from numba->vaex-ml<0.19,>=0.18.3->vaex) (0.43.0)\n",
            "Requirement already satisfied: python-utils>=3.0.0 in /usr/local/lib/python3.10/dist-packages (from progressbar2->vaex-core~=4.17.1->vaex) (3.8.2)\n",
            "Requirement already satisfied: charset-normalizer<4,>=2 in /usr/local/lib/python3.10/dist-packages (from requests->vaex-core~=4.17.1->vaex) (3.3.2)\n",
            "Requirement already satisfied: idna<4,>=2.5 in /usr/local/lib/python3.10/dist-packages (from requests->vaex-core~=4.17.1->vaex) (3.8)\n",
            "Requirement already satisfied: urllib3<3,>=1.21.1 in /usr/local/lib/python3.10/dist-packages (from requests->vaex-core~=4.17.1->vaex) (2.0.7)\n",
            "Requirement already satisfied: certifi>=2017.4.17 in /usr/local/lib/python3.10/dist-packages (from requests->vaex-core~=4.17.1->vaex) (2024.8.30)\n",
            "Requirement already satisfied: markdown-it-py>=2.2.0 in /usr/local/lib/python3.10/dist-packages (from rich->vaex-core~=4.17.1->vaex) (3.0.0)\n",
            "Requirement already satisfied: pygments<3.0.0,>=2.13.0 in /usr/local/lib/python3.10/dist-packages (from rich->vaex-core~=4.17.1->vaex) (2.16.1)\n",
            "Collecting h11>=0.8 (from uvicorn[standard]->vaex-server~=0.9.0->vaex)\n",
            "  Downloading h11-0.14.0-py3-none-any.whl.metadata (8.2 kB)\n",
            "Collecting httptools>=0.5.0 (from uvicorn[standard]->vaex-server~=0.9.0->vaex)\n",
            "  Downloading httptools-0.6.1-cp310-cp310-manylinux_2_5_x86_64.manylinux1_x86_64.manylinux_2_17_x86_64.manylinux2014_x86_64.whl.metadata (3.6 kB)\n",
            "Collecting python-dotenv>=0.13 (from uvicorn[standard]->vaex-server~=0.9.0->vaex)\n",
            "  Downloading python_dotenv-1.0.1-py3-none-any.whl.metadata (23 kB)\n",
            "Collecting uvloop!=0.15.0,!=0.15.1,>=0.14.0 (from uvicorn[standard]->vaex-server~=0.9.0->vaex)\n",
            "  Downloading uvloop-0.20.0-cp310-cp310-manylinux_2_17_x86_64.manylinux2014_x86_64.whl.metadata (4.9 kB)\n",
            "Collecting watchfiles>=0.13 (from uvicorn[standard]->vaex-server~=0.9.0->vaex)\n",
            "  Downloading watchfiles-0.24.0-cp310-cp310-manylinux_2_17_x86_64.manylinux2014_x86_64.whl.metadata (4.9 kB)\n",
            "Collecting websockets>=10.4 (from uvicorn[standard]->vaex-server~=0.9.0->vaex)\n",
            "  Downloading websockets-13.0.1-cp310-cp310-manylinux_2_5_x86_64.manylinux1_x86_64.manylinux_2_17_x86_64.manylinux2014_x86_64.whl.metadata (6.7 kB)\n",
            "Requirement already satisfied: zipp>=0.5 in /usr/local/lib/python3.10/dist-packages (from importlib-metadata>=4.13.0->dask!=2022.4.0->vaex-core~=4.17.1->vaex) (3.20.1)\n",
            "Requirement already satisfied: setuptools>=18.5 in /usr/local/lib/python3.10/dist-packages (from ipython<9->ipympl->vaex-jupyter<0.9,>=0.8.2->vaex) (71.0.4)\n",
            "Collecting jedi>=0.16 (from ipython<9->ipympl->vaex-jupyter<0.9,>=0.8.2->vaex)\n",
            "  Using cached jedi-0.19.1-py2.py3-none-any.whl.metadata (22 kB)\n",
            "Requirement already satisfied: decorator in /usr/local/lib/python3.10/dist-packages (from ipython<9->ipympl->vaex-jupyter<0.9,>=0.8.2->vaex) (4.4.2)\n",
            "Requirement already satisfied: pickleshare in /usr/local/lib/python3.10/dist-packages (from ipython<9->ipympl->vaex-jupyter<0.9,>=0.8.2->vaex) (0.7.5)\n",
            "Requirement already satisfied: prompt-toolkit!=3.0.0,!=3.0.1,<3.1.0,>=2.0.0 in /usr/local/lib/python3.10/dist-packages (from ipython<9->ipympl->vaex-jupyter<0.9,>=0.8.2->vaex) (3.0.47)\n",
            "Requirement already satisfied: backcall in /usr/local/lib/python3.10/dist-packages (from ipython<9->ipympl->vaex-jupyter<0.9,>=0.8.2->vaex) (0.2.0)\n",
            "Requirement already satisfied: matplotlib-inline in /usr/local/lib/python3.10/dist-packages (from ipython<9->ipympl->vaex-jupyter<0.9,>=0.8.2->vaex) (0.1.7)\n",
            "Requirement already satisfied: pexpect>4.3 in /usr/local/lib/python3.10/dist-packages (from ipython<9->ipympl->vaex-jupyter<0.9,>=0.8.2->vaex) (4.9.0)\n",
            "Requirement already satisfied: ipykernel>=4.5.1 in /usr/local/lib/python3.10/dist-packages (from ipywidgets<9,>=7.5.0->bqplot>=0.10.1->vaex-jupyter<0.9,>=0.8.2->vaex) (5.5.6)\n",
            "Requirement already satisfied: widgetsnbextension~=3.6.0 in /usr/local/lib/python3.10/dist-packages (from ipywidgets<9,>=7.5.0->bqplot>=0.10.1->vaex-jupyter<0.9,>=0.8.2->vaex) (3.6.8)\n",
            "Requirement already satisfied: jupyterlab-widgets>=1.0.0 in /usr/local/lib/python3.10/dist-packages (from ipywidgets<9,>=7.5.0->bqplot>=0.10.1->vaex-jupyter<0.9,>=0.8.2->vaex) (3.0.13)\n",
            "Requirement already satisfied: mdurl~=0.1 in /usr/local/lib/python3.10/dist-packages (from markdown-it-py>=2.2.0->rich->vaex-core~=4.17.1->vaex) (0.1.2)\n",
            "Requirement already satisfied: locket in /usr/local/lib/python3.10/dist-packages (from partd>=1.4.0->dask!=2022.4.0->vaex-core~=4.17.1->vaex) (1.0.0)\n",
            "Collecting ipydatawidgets>=1.1.1 (from pythreejs>=2.4.0->ipyvolume>=0.4->vaex-jupyter<0.9,>=0.8.2->vaex)\n",
            "  Downloading ipydatawidgets-4.3.5-py2.py3-none-any.whl.metadata (1.4 kB)\n",
            "Requirement already satisfied: anyio<5,>=3.4.0 in /usr/local/lib/python3.10/dist-packages (from starlette<0.39.0,>=0.37.2->fastapi->vaex-server~=0.9.0->vaex) (3.7.1)\n",
            "Requirement already satisfied: sniffio>=1.1 in /usr/local/lib/python3.10/dist-packages (from anyio<5,>=3.4.0->starlette<0.39.0,>=0.37.2->fastapi->vaex-server~=0.9.0->vaex) (1.3.1)\n",
            "Requirement already satisfied: exceptiongroup in /usr/local/lib/python3.10/dist-packages (from anyio<5,>=3.4.0->starlette<0.39.0,>=0.37.2->fastapi->vaex-server~=0.9.0->vaex) (1.2.2)\n",
            "Requirement already satisfied: jupyter-client in /usr/local/lib/python3.10/dist-packages (from ipykernel>=4.5.1->ipywidgets<9,>=7.5.0->bqplot>=0.10.1->vaex-jupyter<0.9,>=0.8.2->vaex) (6.1.12)\n",
            "Requirement already satisfied: parso<0.9.0,>=0.8.3 in /usr/local/lib/python3.10/dist-packages (from jedi>=0.16->ipython<9->ipympl->vaex-jupyter<0.9,>=0.8.2->vaex) (0.8.4)\n",
            "Requirement already satisfied: ptyprocess>=0.5 in /usr/local/lib/python3.10/dist-packages (from pexpect>4.3->ipython<9->ipympl->vaex-jupyter<0.9,>=0.8.2->vaex) (0.7.0)\n",
            "Requirement already satisfied: wcwidth in /usr/local/lib/python3.10/dist-packages (from prompt-toolkit!=3.0.0,!=3.0.1,<3.1.0,>=2.0.0->ipython<9->ipympl->vaex-jupyter<0.9,>=0.8.2->vaex) (0.2.13)\n",
            "Requirement already satisfied: notebook>=4.4.1 in /usr/local/lib/python3.10/dist-packages (from widgetsnbextension~=3.6.0->ipywidgets<9,>=7.5.0->bqplot>=0.10.1->vaex-jupyter<0.9,>=0.8.2->vaex) (6.5.5)\n",
            "Requirement already satisfied: pyzmq<25,>=17 in /usr/local/lib/python3.10/dist-packages (from notebook>=4.4.1->widgetsnbextension~=3.6.0->ipywidgets<9,>=7.5.0->bqplot>=0.10.1->vaex-jupyter<0.9,>=0.8.2->vaex) (24.0.1)\n",
            "Requirement already satisfied: argon2-cffi in /usr/local/lib/python3.10/dist-packages (from notebook>=4.4.1->widgetsnbextension~=3.6.0->ipywidgets<9,>=7.5.0->bqplot>=0.10.1->vaex-jupyter<0.9,>=0.8.2->vaex) (23.1.0)\n",
            "Requirement already satisfied: jupyter-core>=4.6.1 in /usr/local/lib/python3.10/dist-packages (from notebook>=4.4.1->widgetsnbextension~=3.6.0->ipywidgets<9,>=7.5.0->bqplot>=0.10.1->vaex-jupyter<0.9,>=0.8.2->vaex) (5.7.2)\n",
            "Requirement already satisfied: nbformat in /usr/local/lib/python3.10/dist-packages (from notebook>=4.4.1->widgetsnbextension~=3.6.0->ipywidgets<9,>=7.5.0->bqplot>=0.10.1->vaex-jupyter<0.9,>=0.8.2->vaex) (5.10.4)\n",
            "Requirement already satisfied: nbconvert>=5 in /usr/local/lib/python3.10/dist-packages (from notebook>=4.4.1->widgetsnbextension~=3.6.0->ipywidgets<9,>=7.5.0->bqplot>=0.10.1->vaex-jupyter<0.9,>=0.8.2->vaex) (6.5.4)\n",
            "Requirement already satisfied: Send2Trash>=1.8.0 in /usr/local/lib/python3.10/dist-packages (from notebook>=4.4.1->widgetsnbextension~=3.6.0->ipywidgets<9,>=7.5.0->bqplot>=0.10.1->vaex-jupyter<0.9,>=0.8.2->vaex) (1.8.3)\n",
            "Requirement already satisfied: terminado>=0.8.3 in /usr/local/lib/python3.10/dist-packages (from notebook>=4.4.1->widgetsnbextension~=3.6.0->ipywidgets<9,>=7.5.0->bqplot>=0.10.1->vaex-jupyter<0.9,>=0.8.2->vaex) (0.18.1)\n",
            "Requirement already satisfied: prometheus-client in /usr/local/lib/python3.10/dist-packages (from notebook>=4.4.1->widgetsnbextension~=3.6.0->ipywidgets<9,>=7.5.0->bqplot>=0.10.1->vaex-jupyter<0.9,>=0.8.2->vaex) (0.20.0)\n",
            "Requirement already satisfied: nbclassic>=0.4.7 in /usr/local/lib/python3.10/dist-packages (from notebook>=4.4.1->widgetsnbextension~=3.6.0->ipywidgets<9,>=7.5.0->bqplot>=0.10.1->vaex-jupyter<0.9,>=0.8.2->vaex) (1.1.0)\n",
            "Requirement already satisfied: platformdirs>=2.5 in /usr/local/lib/python3.10/dist-packages (from jupyter-core>=4.6.1->notebook>=4.4.1->widgetsnbextension~=3.6.0->ipywidgets<9,>=7.5.0->bqplot>=0.10.1->vaex-jupyter<0.9,>=0.8.2->vaex) (4.2.2)\n",
            "Requirement already satisfied: notebook-shim>=0.2.3 in /usr/local/lib/python3.10/dist-packages (from nbclassic>=0.4.7->notebook>=4.4.1->widgetsnbextension~=3.6.0->ipywidgets<9,>=7.5.0->bqplot>=0.10.1->vaex-jupyter<0.9,>=0.8.2->vaex) (0.2.4)\n",
            "Requirement already satisfied: lxml in /usr/local/lib/python3.10/dist-packages (from nbconvert>=5->notebook>=4.4.1->widgetsnbextension~=3.6.0->ipywidgets<9,>=7.5.0->bqplot>=0.10.1->vaex-jupyter<0.9,>=0.8.2->vaex) (4.9.4)\n",
            "Requirement already satisfied: beautifulsoup4 in /usr/local/lib/python3.10/dist-packages (from nbconvert>=5->notebook>=4.4.1->widgetsnbextension~=3.6.0->ipywidgets<9,>=7.5.0->bqplot>=0.10.1->vaex-jupyter<0.9,>=0.8.2->vaex) (4.12.3)\n",
            "Requirement already satisfied: bleach in /usr/local/lib/python3.10/dist-packages (from nbconvert>=5->notebook>=4.4.1->widgetsnbextension~=3.6.0->ipywidgets<9,>=7.5.0->bqplot>=0.10.1->vaex-jupyter<0.9,>=0.8.2->vaex) (6.1.0)\n",
            "Requirement already satisfied: defusedxml in /usr/local/lib/python3.10/dist-packages (from nbconvert>=5->notebook>=4.4.1->widgetsnbextension~=3.6.0->ipywidgets<9,>=7.5.0->bqplot>=0.10.1->vaex-jupyter<0.9,>=0.8.2->vaex) (0.7.1)\n",
            "Requirement already satisfied: entrypoints>=0.2.2 in /usr/local/lib/python3.10/dist-packages (from nbconvert>=5->notebook>=4.4.1->widgetsnbextension~=3.6.0->ipywidgets<9,>=7.5.0->bqplot>=0.10.1->vaex-jupyter<0.9,>=0.8.2->vaex) (0.4)\n",
            "Requirement already satisfied: jupyterlab-pygments in /usr/local/lib/python3.10/dist-packages (from nbconvert>=5->notebook>=4.4.1->widgetsnbextension~=3.6.0->ipywidgets<9,>=7.5.0->bqplot>=0.10.1->vaex-jupyter<0.9,>=0.8.2->vaex) (0.3.0)\n",
            "Requirement already satisfied: mistune<2,>=0.8.1 in /usr/local/lib/python3.10/dist-packages (from nbconvert>=5->notebook>=4.4.1->widgetsnbextension~=3.6.0->ipywidgets<9,>=7.5.0->bqplot>=0.10.1->vaex-jupyter<0.9,>=0.8.2->vaex) (0.8.4)\n",
            "Requirement already satisfied: nbclient>=0.5.0 in /usr/local/lib/python3.10/dist-packages (from nbconvert>=5->notebook>=4.4.1->widgetsnbextension~=3.6.0->ipywidgets<9,>=7.5.0->bqplot>=0.10.1->vaex-jupyter<0.9,>=0.8.2->vaex) (0.10.0)\n",
            "Requirement already satisfied: pandocfilters>=1.4.1 in /usr/local/lib/python3.10/dist-packages (from nbconvert>=5->notebook>=4.4.1->widgetsnbextension~=3.6.0->ipywidgets<9,>=7.5.0->bqplot>=0.10.1->vaex-jupyter<0.9,>=0.8.2->vaex) (1.5.1)\n",
            "Requirement already satisfied: tinycss2 in /usr/local/lib/python3.10/dist-packages (from nbconvert>=5->notebook>=4.4.1->widgetsnbextension~=3.6.0->ipywidgets<9,>=7.5.0->bqplot>=0.10.1->vaex-jupyter<0.9,>=0.8.2->vaex) (1.3.0)\n",
            "Requirement already satisfied: fastjsonschema>=2.15 in /usr/local/lib/python3.10/dist-packages (from nbformat->notebook>=4.4.1->widgetsnbextension~=3.6.0->ipywidgets<9,>=7.5.0->bqplot>=0.10.1->vaex-jupyter<0.9,>=0.8.2->vaex) (2.20.0)\n",
            "Requirement already satisfied: jsonschema>=2.6 in /usr/local/lib/python3.10/dist-packages (from nbformat->notebook>=4.4.1->widgetsnbextension~=3.6.0->ipywidgets<9,>=7.5.0->bqplot>=0.10.1->vaex-jupyter<0.9,>=0.8.2->vaex) (4.23.0)\n",
            "Requirement already satisfied: argon2-cffi-bindings in /usr/local/lib/python3.10/dist-packages (from argon2-cffi->notebook>=4.4.1->widgetsnbextension~=3.6.0->ipywidgets<9,>=7.5.0->bqplot>=0.10.1->vaex-jupyter<0.9,>=0.8.2->vaex) (21.2.0)\n",
            "Requirement already satisfied: attrs>=22.2.0 in /usr/local/lib/python3.10/dist-packages (from jsonschema>=2.6->nbformat->notebook>=4.4.1->widgetsnbextension~=3.6.0->ipywidgets<9,>=7.5.0->bqplot>=0.10.1->vaex-jupyter<0.9,>=0.8.2->vaex) (24.2.0)\n",
            "Requirement already satisfied: jsonschema-specifications>=2023.03.6 in /usr/local/lib/python3.10/dist-packages (from jsonschema>=2.6->nbformat->notebook>=4.4.1->widgetsnbextension~=3.6.0->ipywidgets<9,>=7.5.0->bqplot>=0.10.1->vaex-jupyter<0.9,>=0.8.2->vaex) (2023.12.1)\n",
            "Requirement already satisfied: referencing>=0.28.4 in /usr/local/lib/python3.10/dist-packages (from jsonschema>=2.6->nbformat->notebook>=4.4.1->widgetsnbextension~=3.6.0->ipywidgets<9,>=7.5.0->bqplot>=0.10.1->vaex-jupyter<0.9,>=0.8.2->vaex) (0.35.1)\n",
            "Requirement already satisfied: rpds-py>=0.7.1 in /usr/local/lib/python3.10/dist-packages (from jsonschema>=2.6->nbformat->notebook>=4.4.1->widgetsnbextension~=3.6.0->ipywidgets<9,>=7.5.0->bqplot>=0.10.1->vaex-jupyter<0.9,>=0.8.2->vaex) (0.20.0)\n",
            "Requirement already satisfied: jupyter-server<3,>=1.8 in /usr/local/lib/python3.10/dist-packages (from notebook-shim>=0.2.3->nbclassic>=0.4.7->notebook>=4.4.1->widgetsnbextension~=3.6.0->ipywidgets<9,>=7.5.0->bqplot>=0.10.1->vaex-jupyter<0.9,>=0.8.2->vaex) (1.24.0)\n",
            "Requirement already satisfied: cffi>=1.0.1 in /usr/local/lib/python3.10/dist-packages (from argon2-cffi-bindings->argon2-cffi->notebook>=4.4.1->widgetsnbextension~=3.6.0->ipywidgets<9,>=7.5.0->bqplot>=0.10.1->vaex-jupyter<0.9,>=0.8.2->vaex) (1.17.0)\n",
            "Requirement already satisfied: soupsieve>1.2 in /usr/local/lib/python3.10/dist-packages (from beautifulsoup4->nbconvert>=5->notebook>=4.4.1->widgetsnbextension~=3.6.0->ipywidgets<9,>=7.5.0->bqplot>=0.10.1->vaex-jupyter<0.9,>=0.8.2->vaex) (2.6)\n",
            "Requirement already satisfied: webencodings in /usr/local/lib/python3.10/dist-packages (from bleach->nbconvert>=5->notebook>=4.4.1->widgetsnbextension~=3.6.0->ipywidgets<9,>=7.5.0->bqplot>=0.10.1->vaex-jupyter<0.9,>=0.8.2->vaex) (0.5.1)\n",
            "Requirement already satisfied: pycparser in /usr/local/lib/python3.10/dist-packages (from cffi>=1.0.1->argon2-cffi-bindings->argon2-cffi->notebook>=4.4.1->widgetsnbextension~=3.6.0->ipywidgets<9,>=7.5.0->bqplot>=0.10.1->vaex-jupyter<0.9,>=0.8.2->vaex) (2.22)\n",
            "Requirement already satisfied: websocket-client in /usr/local/lib/python3.10/dist-packages (from jupyter-server<3,>=1.8->notebook-shim>=0.2.3->nbclassic>=0.4.7->notebook>=4.4.1->widgetsnbextension~=3.6.0->ipywidgets<9,>=7.5.0->bqplot>=0.10.1->vaex-jupyter<0.9,>=0.8.2->vaex) (1.8.0)\n",
            "Downloading vaex-4.17.0-py3-none-any.whl (4.8 kB)\n",
            "Downloading vaex_astro-0.9.3-py3-none-any.whl (20 kB)\n",
            "Downloading vaex_core-4.17.1-cp310-cp310-manylinux_2_17_x86_64.manylinux2014_x86_64.whl (4.5 MB)\n",
            "\u001b[2K   \u001b[90m━━━━━━━━━━━━━━━━━━━━━━━━━━━━━━━━━━━━━━━━\u001b[0m \u001b[32m4.5/4.5 MB\u001b[0m \u001b[31m18.8 MB/s\u001b[0m eta \u001b[36m0:00:00\u001b[0m\n",
            "\u001b[?25hDownloading vaex_hdf5-0.14.1-py3-none-any.whl (16 kB)\n",
            "Downloading vaex_jupyter-0.8.2-py3-none-any.whl (43 kB)\n",
            "\u001b[2K   \u001b[90m━━━━━━━━━━━━━━━━━━━━━━━━━━━━━━━━━━━━━━━━\u001b[0m \u001b[32m43.2/43.2 kB\u001b[0m \u001b[31m2.6 MB/s\u001b[0m eta \u001b[36m0:00:00\u001b[0m\n",
            "\u001b[?25hDownloading vaex_ml-0.18.3-py3-none-any.whl (58 kB)\n",
            "\u001b[2K   \u001b[90m━━━━━━━━━━━━━━━━━━━━━━━━━━━━━━━━━━━━━━━━\u001b[0m \u001b[32m58.2/58.2 kB\u001b[0m \u001b[31m3.7 MB/s\u001b[0m eta \u001b[36m0:00:00\u001b[0m\n",
            "\u001b[?25hDownloading vaex_server-0.9.0-py3-none-any.whl (23 kB)\n",
            "Downloading vaex_viz-0.5.4-py3-none-any.whl (19 kB)\n",
            "Downloading ipyvolume-0.6.3-py3-none-any.whl (1.6 MB)\n",
            "\u001b[2K   \u001b[90m━━━━━━━━━━━━━━━━━━━━━━━━━━━━━━━━━━━━━━━━\u001b[0m \u001b[32m1.6/1.6 MB\u001b[0m \u001b[31m49.1 MB/s\u001b[0m eta \u001b[36m0:00:00\u001b[0m\n",
            "\u001b[?25hDownloading ipyvuetify-1.10.0-py2.py3-none-any.whl (6.1 MB)\n",
            "\u001b[2K   \u001b[90m━━━━━━━━━━━━━━━━━━━━━━━━━━━━━━━━━━━━━━━━\u001b[0m \u001b[32m6.1/6.1 MB\u001b[0m \u001b[31m51.3 MB/s\u001b[0m eta \u001b[36m0:00:00\u001b[0m\n",
            "\u001b[?25hDownloading blake3-0.4.1-cp310-cp310-manylinux_2_17_x86_64.manylinux2014_x86_64.whl (1.3 MB)\n",
            "\u001b[2K   \u001b[90m━━━━━━━━━━━━━━━━━━━━━━━━━━━━━━━━━━━━━━━━\u001b[0m \u001b[32m1.3/1.3 MB\u001b[0m \u001b[31m11.4 MB/s\u001b[0m eta \u001b[36m0:00:00\u001b[0m\n",
            "\u001b[?25hDownloading fastapi-0.114.1-py3-none-any.whl (94 kB)\n",
            "\u001b[2K   \u001b[90m━━━━━━━━━━━━━━━━━━━━━━━━━━━━━━━━━━━━━━━━\u001b[0m \u001b[32m94.0/94.0 kB\u001b[0m \u001b[31m6.0 MB/s\u001b[0m eta \u001b[36m0:00:00\u001b[0m\n",
            "\u001b[?25hDownloading ipympl-0.9.4-py3-none-any.whl (516 kB)\n",
            "\u001b[2K   \u001b[90m━━━━━━━━━━━━━━━━━━━━━━━━━━━━━━━━━━━━━━━━\u001b[0m \u001b[32m516.3/516.3 kB\u001b[0m \u001b[31m26.0 MB/s\u001b[0m eta \u001b[36m0:00:00\u001b[0m\n",
            "\u001b[?25hDownloading h11-0.14.0-py3-none-any.whl (58 kB)\n",
            "\u001b[2K   \u001b[90m━━━━━━━━━━━━━━━━━━━━━━━━━━━━━━━━━━━━━━━━\u001b[0m \u001b[32m58.3/58.3 kB\u001b[0m \u001b[31m3.5 MB/s\u001b[0m eta \u001b[36m0:00:00\u001b[0m\n",
            "\u001b[?25hDownloading httptools-0.6.1-cp310-cp310-manylinux_2_5_x86_64.manylinux1_x86_64.manylinux_2_17_x86_64.manylinux2014_x86_64.whl (341 kB)\n",
            "\u001b[2K   \u001b[90m━━━━━━━━━━━━━━━━━━━━━━━━━━━━━━━━━━━━━━━━\u001b[0m \u001b[32m341.4/341.4 kB\u001b[0m \u001b[31m23.6 MB/s\u001b[0m eta \u001b[36m0:00:00\u001b[0m\n",
            "\u001b[?25hDownloading ipyvue-1.11.1-py2.py3-none-any.whl (2.7 MB)\n",
            "\u001b[2K   \u001b[90m━━━━━━━━━━━━━━━━━━━━━━━━━━━━━━━━━━━━━━━━\u001b[0m \u001b[32m2.7/2.7 MB\u001b[0m \u001b[31m63.0 MB/s\u001b[0m eta \u001b[36m0:00:00\u001b[0m\n",
            "\u001b[?25hDownloading python_dotenv-1.0.1-py3-none-any.whl (19 kB)\n",
            "Downloading pythreejs-2.4.2-py3-none-any.whl (3.4 MB)\n",
            "\u001b[2K   \u001b[90m━━━━━━━━━━━━━━━━━━━━━━━━━━━━━━━━━━━━━━━━\u001b[0m \u001b[32m3.4/3.4 MB\u001b[0m \u001b[31m46.2 MB/s\u001b[0m eta \u001b[36m0:00:00\u001b[0m\n",
            "\u001b[?25hDownloading starlette-0.38.5-py3-none-any.whl (71 kB)\n",
            "\u001b[2K   \u001b[90m━━━━━━━━━━━━━━━━━━━━━━━━━━━━━━━━━━━━━━━━\u001b[0m \u001b[32m71.4/71.4 kB\u001b[0m \u001b[31m5.1 MB/s\u001b[0m eta \u001b[36m0:00:00\u001b[0m\n",
            "\u001b[?25hDownloading uvloop-0.20.0-cp310-cp310-manylinux_2_17_x86_64.manylinux2014_x86_64.whl (3.4 MB)\n",
            "\u001b[2K   \u001b[90m━━━━━━━━━━━━━━━━━━━━━━━━━━━━━━━━━━━━━━━━\u001b[0m \u001b[32m3.4/3.4 MB\u001b[0m \u001b[31m49.4 MB/s\u001b[0m eta \u001b[36m0:00:00\u001b[0m\n",
            "\u001b[?25hDownloading watchfiles-0.24.0-cp310-cp310-manylinux_2_17_x86_64.manylinux2014_x86_64.whl (425 kB)\n",
            "\u001b[2K   \u001b[90m━━━━━━━━━━━━━━━━━━━━━━━━━━━━━━━━━━━━━━━━\u001b[0m \u001b[32m425.7/425.7 kB\u001b[0m \u001b[31m25.1 MB/s\u001b[0m eta \u001b[36m0:00:00\u001b[0m\n",
            "\u001b[?25hDownloading websockets-13.0.1-cp310-cp310-manylinux_2_5_x86_64.manylinux1_x86_64.manylinux_2_17_x86_64.manylinux2014_x86_64.whl (157 kB)\n",
            "\u001b[2K   \u001b[90m━━━━━━━━━━━━━━━━━━━━━━━━━━━━━━━━━━━━━━━━\u001b[0m \u001b[32m157.3/157.3 kB\u001b[0m \u001b[31m9.6 MB/s\u001b[0m eta \u001b[36m0:00:00\u001b[0m\n",
            "\u001b[?25hDownloading ipywebrtc-0.6.0-py2.py3-none-any.whl (260 kB)\n",
            "\u001b[2K   \u001b[90m━━━━━━━━━━━━━━━━━━━━━━━━━━━━━━━━━━━━━━━━\u001b[0m \u001b[32m260.7/260.7 kB\u001b[0m \u001b[31m11.2 MB/s\u001b[0m eta \u001b[36m0:00:00\u001b[0m\n",
            "\u001b[?25hDownloading uvicorn-0.30.6-py3-none-any.whl (62 kB)\n",
            "\u001b[2K   \u001b[90m━━━━━━━━━━━━━━━━━━━━━━━━━━━━━━━━━━━━━━━━\u001b[0m \u001b[32m62.8/62.8 kB\u001b[0m \u001b[31m4.0 MB/s\u001b[0m eta \u001b[36m0:00:00\u001b[0m\n",
            "\u001b[?25hDownloading ipydatawidgets-4.3.5-py2.py3-none-any.whl (271 kB)\n",
            "\u001b[2K   \u001b[90m━━━━━━━━━━━━━━━━━━━━━━━━━━━━━━━━━━━━━━━━\u001b[0m \u001b[32m271.7/271.7 kB\u001b[0m \u001b[31m16.5 MB/s\u001b[0m eta \u001b[36m0:00:00\u001b[0m\n",
            "\u001b[?25hUsing cached jedi-0.19.1-py2.py3-none-any.whl (1.6 MB)\n",
            "Building wheels for collected packages: aplus\n",
            "  Building wheel for aplus (setup.py) ... \u001b[?25l\u001b[?25hdone\n",
            "  Created wheel for aplus: filename=aplus-0.11.0-py3-none-any.whl size=4366 sha256=4dd790e150d0362cccc78d451ad141df2db3ac855ea6074dc4934ae5a221e12d\n",
            "  Stored in directory: /root/.cache/pip/wheels/74/ed/14/4d7bffd9475a07582e0c256b9b1ddbbc1f49c58e3150d356f4\n",
            "Successfully built aplus\n",
            "Installing collected packages: ipywebrtc, blake3, aplus, websockets, uvloop, python-dotenv, jedi, httptools, h11, watchfiles, uvicorn, starlette, vaex-core, fastapi, vaex-viz, vaex-server, vaex-ml, vaex-hdf5, vaex-astro, ipyvue, ipympl, ipydatawidgets, pythreejs, ipyvuetify, ipyvolume, vaex-jupyter, vaex\n",
            "Successfully installed aplus-0.11.0 blake3-0.4.1 fastapi-0.114.1 h11-0.14.0 httptools-0.6.1 ipydatawidgets-4.3.5 ipympl-0.9.4 ipyvolume-0.6.3 ipyvue-1.11.1 ipyvuetify-1.10.0 ipywebrtc-0.6.0 jedi-0.19.1 python-dotenv-1.0.1 pythreejs-2.4.2 starlette-0.38.5 uvicorn-0.30.6 uvloop-0.20.0 vaex-4.17.0 vaex-astro-0.9.3 vaex-core-4.17.1 vaex-hdf5-0.14.1 vaex-jupyter-0.8.2 vaex-ml-0.18.3 vaex-server-0.9.0 vaex-viz-0.5.4 watchfiles-0.24.0 websockets-13.0.1\n"
          ]
        }
      ]
    },
    {
      "cell_type": "code",
      "source": [
        "import vaex\n",
        "df_vaex = vaex.from_pandas(df)"
      ],
      "metadata": {
        "id": "aA7OM6mvOiXv"
      },
      "execution_count": 20,
      "outputs": []
    },
    {
      "cell_type": "code",
      "source": [
        "type(df_vaex)"
      ],
      "metadata": {
        "colab": {
          "base_uri": "https://localhost:8080/",
          "height": 121
        },
        "id": "-nElcpS1Ov3B",
        "outputId": "1042f054-57c5-4d8a-ae64-045fbc81e09b"
      },
      "execution_count": 21,
      "outputs": [
        {
          "output_type": "execute_result",
          "data": {
            "text/plain": [
              "vaex.dataframe.DataFrameLocal"
            ],
            "text/html": [
              "<div style=\"max-width:800px; border: 1px solid var(--colab-border-color);\"><style>\n",
              "      pre.function-repr-contents {\n",
              "        overflow-x: auto;\n",
              "        padding: 8px 12px;\n",
              "        max-height: 500px;\n",
              "      }\n",
              "\n",
              "      pre.function-repr-contents.function-repr-contents-collapsed {\n",
              "        cursor: pointer;\n",
              "        max-height: 100px;\n",
              "      }\n",
              "    </style>\n",
              "    <pre style=\"white-space: initial; background:\n",
              "         var(--colab-secondary-surface-color); padding: 8px 12px;\n",
              "         border-bottom: 1px solid var(--colab-border-color);\"><b>vaex.dataframe.DataFrameLocal</b><br/>def __call__(*expressions, **kwargs)</pre><pre class=\"function-repr-contents function-repr-contents-collapsed\" style=\"\"><a class=\"filepath\" style=\"display:none\" href=\"#\">/usr/local/lib/python3.10/dist-packages/vaex/dataframe.py</a>Base class for DataFrames that work with local file/data</pre>\n",
              "      <script>\n",
              "      if (google.colab.kernel.accessAllowed && google.colab.files && google.colab.files.view) {\n",
              "        for (const element of document.querySelectorAll('.filepath')) {\n",
              "          element.style.display = 'block'\n",
              "          element.onclick = (event) => {\n",
              "            event.preventDefault();\n",
              "            event.stopPropagation();\n",
              "            google.colab.files.view(element.textContent, 5703);\n",
              "          };\n",
              "        }\n",
              "      }\n",
              "      for (const element of document.querySelectorAll('.function-repr-contents')) {\n",
              "        element.onclick = (event) => {\n",
              "          event.preventDefault();\n",
              "          event.stopPropagation();\n",
              "          element.classList.toggle('function-repr-contents-collapsed');\n",
              "        };\n",
              "      }\n",
              "      </script>\n",
              "      </div>"
            ]
          },
          "metadata": {},
          "execution_count": 21
        }
      ]
    },
    {
      "cell_type": "code",
      "source": [
        "df_vaex.export_hdf5('large_train.hdf5')"
      ],
      "metadata": {
        "id": "Qwp_hkTgOz__"
      },
      "execution_count": 22,
      "outputs": []
    },
    {
      "cell_type": "code",
      "source": [
        "df_vaex = vaex.open('large_train.hdf5')"
      ],
      "metadata": {
        "id": "BwRIEPbKPDKW"
      },
      "execution_count": 23,
      "outputs": []
    },
    {
      "cell_type": "code",
      "source": [
        "df_vaex.head()"
      ],
      "metadata": {
        "colab": {
          "base_uri": "https://localhost:8080/",
          "height": 254
        },
        "id": "kdaUWFgqPScv",
        "outputId": "77c09460-3a19-4f1b-dbb7-deba7c41a83d"
      },
      "execution_count": 24,
      "outputs": [
        {
          "output_type": "execute_result",
          "data": {
            "text/html": [
              "<table>\n",
              "<thead>\n",
              "<tr><th>#                            </th><th>TITLE                                              </th><th style=\"text-align: right;\">  PRODUCT_LENGTH</th></tr>\n",
              "</thead>\n",
              "<tbody>\n",
              "<tr><td><i style='opacity: 0.6'>0</i></td><td>&#x27;ArtzFolio Tulip Flowers Blackout Curtain for Do...</td><td style=\"text-align: right;\">        2125.98 </td></tr>\n",
              "<tr><td><i style='opacity: 0.6'>1</i></td><td>&quot;Marks &amp; Spencer Girls&#x27; Pyjama Sets T86_2561C_Na...</td><td style=\"text-align: right;\">         393.7  </td></tr>\n",
              "<tr><td><i style='opacity: 0.6'>2</i></td><td>&#x27;PRIKNIK Horn Red Electric Air Horn Compressor I...</td><td style=\"text-align: right;\">         748.031</td></tr>\n",
              "<tr><td><i style='opacity: 0.6'>3</i></td><td>&quot;ALISHAH Women&#x27;s Cotton Ankle Length Leggings Co...</td><td style=\"text-align: right;\">         787.402</td></tr>\n",
              "<tr><td><i style='opacity: 0.6'>4</i></td><td>&#x27;The United Empire Loyalists: A Chronicle of the...</td><td style=\"text-align: right;\">         598.424</td></tr>\n",
              "<tr><td><i style='opacity: 0.6'>5</i></td><td>&#x27;HINS Metal Bucket Shape Plant Pot for Indoor &amp; ...</td><td style=\"text-align: right;\">         950    </td></tr>\n",
              "<tr><td><i style='opacity: 0.6'>6</i></td><td>Ungifted: My Life and Journey                      </td><td style=\"text-align: right;\">         598    </td></tr>\n",
              "<tr><td><i style='opacity: 0.6'>7</i></td><td>&#x27;Delavala Self Adhesive Kitchen Backsplash Wallp...</td><td style=\"text-align: right;\">         984.252</td></tr>\n",
              "<tr><td><i style='opacity: 0.6'>8</i></td><td>&quot;PUMA Cali Sport Clean Women&#x27;s Sneakers White Le...</td><td style=\"text-align: right;\">         393.7  </td></tr>\n",
              "<tr><td><i style='opacity: 0.6'>9</i></td><td>&#x27;Hexwell Essential oil for Home Fragrance Oil Ar...</td><td style=\"text-align: right;\">         393.701</td></tr>\n",
              "</tbody>\n",
              "</table>"
            ],
            "text/plain": [
              "  #  TITLE                                                  PRODUCT_LENGTH\n",
              "  0  'ArtzFolio Tulip Flowers Blackout Curtain for Do...          2125.98\n",
              "  1  \"Marks & Spencer Girls' Pyjama Sets T86_2561C_Na...           393.7\n",
              "  2  'PRIKNIK Horn Red Electric Air Horn Compressor I...           748.031\n",
              "  3  \"ALISHAH Women's Cotton Ankle Length Leggings Co...           787.402\n",
              "  4  'The United Empire Loyalists: A Chronicle of the...           598.424\n",
              "  5  'HINS Metal Bucket Shape Plant Pot for Indoor & ...           950\n",
              "  6  Ungifted: My Life and Journey                                 598\n",
              "  7  'Delavala Self Adhesive Kitchen Backsplash Wallp...           984.252\n",
              "  8  \"PUMA Cali Sport Clean Women's Sneakers White Le...           393.7\n",
              "  9  'Hexwell Essential oil for Home Fragrance Oil Ar...           393.701"
            ]
          },
          "metadata": {},
          "execution_count": 24
        }
      ]
    },
    {
      "cell_type": "code",
      "source": [
        "import nltk"
      ],
      "metadata": {
        "id": "E8UYvq6uPVkp"
      },
      "execution_count": 25,
      "outputs": []
    },
    {
      "cell_type": "code",
      "source": [
        "nltk.download('punkt')"
      ],
      "metadata": {
        "colab": {
          "base_uri": "https://localhost:8080/"
        },
        "id": "3q0zD98QQPY8",
        "outputId": "6ebdb2a3-d6e7-41f6-d5f6-a1e15d109609"
      },
      "execution_count": 26,
      "outputs": [
        {
          "output_type": "stream",
          "name": "stderr",
          "text": [
            "[nltk_data] Downloading package punkt to /root/nltk_data...\n",
            "[nltk_data]   Unzipping tokenizers/punkt.zip.\n"
          ]
        },
        {
          "output_type": "execute_result",
          "data": {
            "text/plain": [
              "True"
            ]
          },
          "metadata": {},
          "execution_count": 26
        }
      ]
    },
    {
      "cell_type": "code",
      "source": [
        "from nltk.corpus import stopwords\n",
        "nltk.download('stopwords')"
      ],
      "metadata": {
        "colab": {
          "base_uri": "https://localhost:8080/"
        },
        "id": "JvWFkSUJQSZz",
        "outputId": "686e28f0-cd56-489e-e77d-8514c215568e"
      },
      "execution_count": 27,
      "outputs": [
        {
          "output_type": "stream",
          "name": "stderr",
          "text": [
            "[nltk_data] Downloading package stopwords to /root/nltk_data...\n",
            "[nltk_data]   Unzipping corpora/stopwords.zip.\n"
          ]
        },
        {
          "output_type": "execute_result",
          "data": {
            "text/plain": [
              "True"
            ]
          },
          "metadata": {},
          "execution_count": 27
        }
      ]
    },
    {
      "cell_type": "code",
      "source": [
        "import string\n",
        "string.punctuation"
      ],
      "metadata": {
        "colab": {
          "base_uri": "https://localhost:8080/",
          "height": 35
        },
        "id": "cap1lI19QYTH",
        "outputId": "199b0ff7-ad5b-46d7-dac7-2f7f6fb82141"
      },
      "execution_count": 28,
      "outputs": [
        {
          "output_type": "execute_result",
          "data": {
            "text/plain": [
              "'!\"#$%&\\'()*+,-./:;<=>?@[\\\\]^_`{|}~'"
            ],
            "application/vnd.google.colaboratory.intrinsic+json": {
              "type": "string"
            }
          },
          "metadata": {},
          "execution_count": 28
        }
      ]
    },
    {
      "cell_type": "code",
      "source": [
        "from nltk.stem.porter import PorterStemmer\n",
        "ps = PorterStemmer()\n",
        "ps.stem('Dancing')"
      ],
      "metadata": {
        "colab": {
          "base_uri": "https://localhost:8080/",
          "height": 35
        },
        "id": "OBbDcq6EQa7W",
        "outputId": "dd120cbe-49ae-44e2-fe92-33ec3cef5c0f"
      },
      "execution_count": 29,
      "outputs": [
        {
          "output_type": "execute_result",
          "data": {
            "text/plain": [
              "'danc'"
            ],
            "application/vnd.google.colaboratory.intrinsic+json": {
              "type": "string"
            }
          },
          "metadata": {},
          "execution_count": 29
        }
      ]
    },
    {
      "cell_type": "code",
      "source": [
        "def text_transform(text):\n",
        "    text = text.lower()\n",
        "    text = nltk.word_tokenize(text)\n",
        "\n",
        "    y=[]\n",
        "    for i in text:\n",
        "        if i.isalnum():\n",
        "            y.append(i)\n",
        "    text = y[:]\n",
        "    y.clear()\n",
        "\n",
        "    for i in text:\n",
        "        if i not in stopwords.words('english') and i not in string.punctuation:\n",
        "            y.append(i)\n",
        "\n",
        "    text = y[:]\n",
        "    y.clear()\n",
        "\n",
        "    for i in text :\n",
        "        y.append(ps.stem(i))\n",
        "\n",
        "\n",
        "    return \" \".join(y)"
      ],
      "metadata": {
        "id": "y2899vJrQdUv"
      },
      "execution_count": 30,
      "outputs": []
    },
    {
      "cell_type": "code",
      "source": [
        "df_vaex['transformed_text']=df_vaex['TITLE'].apply(text_transform)"
      ],
      "metadata": {
        "id": "_IJfVLhLQgyL"
      },
      "execution_count": 31,
      "outputs": []
    },
    {
      "cell_type": "code",
      "source": [
        "df_vaex.head()"
      ],
      "metadata": {
        "colab": {
          "base_uri": "https://localhost:8080/",
          "height": 410
        },
        "id": "CIDuBiWRQqO7",
        "outputId": "b81b19f0-ecaf-42fb-c61b-5a0b62673a52"
      },
      "execution_count": 32,
      "outputs": [
        {
          "output_type": "execute_result",
          "data": {
            "text/html": [
              "<table>\n",
              "<thead>\n",
              "<tr><th>#                            </th><th>TITLE                                              </th><th style=\"text-align: right;\">  PRODUCT_LENGTH</th><th>transformed_text                                   </th></tr>\n",
              "</thead>\n",
              "<tbody>\n",
              "<tr><td><i style='opacity: 0.6'>0</i></td><td>&#x27;ArtzFolio Tulip Flowers Blackout Curtain for Do...</td><td style=\"text-align: right;\">        2125.98 </td><td>&#x27;artzfolio tulip flower blackout curtain door wi...</td></tr>\n",
              "<tr><td><i style='opacity: 0.6'>1</i></td><td>&quot;Marks &amp; Spencer Girls&#x27; Pyjama Sets T86_2561C_Na...</td><td style=\"text-align: right;\">         393.7  </td><td>mark spencer girl pyjama set                       </td></tr>\n",
              "<tr><td><i style='opacity: 0.6'>2</i></td><td>&#x27;PRIKNIK Horn Red Electric Air Horn Compressor I...</td><td style=\"text-align: right;\">         748.031</td><td>&#x27;priknik horn red electr air horn compressor int...</td></tr>\n",
              "<tr><td><i style='opacity: 0.6'>3</i></td><td>&quot;ALISHAH Women&#x27;s Cotton Ankle Length Leggings Co...</td><td style=\"text-align: right;\">         787.402</td><td>&#x27;alishah women cotton ankl length leg combo 2 pl...</td></tr>\n",
              "<tr><td><i style='opacity: 0.6'>4</i></td><td>&#x27;The United Empire Loyalists: A Chronicle of the...</td><td style=\"text-align: right;\">         598.424</td><td>unit empir loyalist chronicl great migrat          </td></tr>\n",
              "<tr><td><i style='opacity: 0.6'>5</i></td><td>&#x27;HINS Metal Bucket Shape Plant Pot for Indoor &amp; ...</td><td style=\"text-align: right;\">         950    </td><td>&#x27;hin metal bucket shape plant pot indoor outdoor...</td></tr>\n",
              "<tr><td><i style='opacity: 0.6'>6</i></td><td>Ungifted: My Life and Journey                      </td><td style=\"text-align: right;\">         598    </td><td>ungift life journey                                </td></tr>\n",
              "<tr><td><i style='opacity: 0.6'>7</i></td><td>&#x27;Delavala Self Adhesive Kitchen Backsplash Wallp...</td><td style=\"text-align: right;\">         984.252</td><td>&#x27;delavala self adhes kitchen backsplash wallpap ...</td></tr>\n",
              "<tr><td><i style='opacity: 0.6'>8</i></td><td>&quot;PUMA Cali Sport Clean Women&#x27;s Sneakers White Le...</td><td style=\"text-align: right;\">         393.7  </td><td>&#x27;puma cali sport clean women sneaker white leath...</td></tr>\n",
              "<tr><td><i style='opacity: 0.6'>9</i></td><td>&#x27;Hexwell Essential oil for Home Fragrance Oil Ar...</td><td style=\"text-align: right;\">         393.701</td><td>&#x27;hexwel essenti oil home fragranc oil aroma diff...</td></tr>\n",
              "</tbody>\n",
              "</table>"
            ],
            "text/plain": [
              "  #  TITLE                                                  PRODUCT_LENGTH  transformed_text\n",
              "  0  'ArtzFolio Tulip Flowers Blackout Curtain for Do...          2125.98   'artzfolio tulip flower blackout curtain door wi...\n",
              "  1  \"Marks & Spencer Girls' Pyjama Sets T86_2561C_Na...           393.7    mark spencer girl pyjama set\n",
              "  2  'PRIKNIK Horn Red Electric Air Horn Compressor I...           748.031  'priknik horn red electr air horn compressor int...\n",
              "  3  \"ALISHAH Women's Cotton Ankle Length Leggings Co...           787.402  'alishah women cotton ankl length leg combo 2 pl...\n",
              "  4  'The United Empire Loyalists: A Chronicle of the...           598.424  unit empir loyalist chronicl great migrat\n",
              "  5  'HINS Metal Bucket Shape Plant Pot for Indoor & ...           950      'hin metal bucket shape plant pot indoor outdoor...\n",
              "  6  Ungifted: My Life and Journey                                 598      ungift life journey\n",
              "  7  'Delavala Self Adhesive Kitchen Backsplash Wallp...           984.252  'delavala self adhes kitchen backsplash wallpap ...\n",
              "  8  \"PUMA Cali Sport Clean Women's Sneakers White Le...           393.7    'puma cali sport clean women sneaker white leath...\n",
              "  9  'Hexwell Essential oil for Home Fragrance Oil Ar...           393.701  'hexwel essenti oil home fragranc oil aroma diff..."
            ]
          },
          "metadata": {},
          "execution_count": 32
        }
      ]
    },
    {
      "cell_type": "code",
      "source": [
        "df_vaex.drop(columns=['TITLE'],inplace=True)"
      ],
      "metadata": {
        "colab": {
          "base_uri": "https://localhost:8080/",
          "height": 275
        },
        "id": "lPVr0jN7Qs3d",
        "outputId": "ef09d965-f5a2-4eec-f249-4c950e039606"
      },
      "execution_count": 33,
      "outputs": [
        {
          "output_type": "execute_result",
          "data": {
            "text/html": [
              "<table>\n",
              "<thead>\n",
              "<tr><th>#                                    </th><th>PRODUCT_LENGTH  </th><th>transformed_text                                   </th></tr>\n",
              "</thead>\n",
              "<tbody>\n",
              "<tr><td><i style='opacity: 0.6'>0</i>        </td><td>2125.98         </td><td>&#x27;artzfolio tulip flower blackout curtain door wi...</td></tr>\n",
              "<tr><td><i style='opacity: 0.6'>1</i>        </td><td>393.7           </td><td>mark spencer girl pyjama set                       </td></tr>\n",
              "<tr><td><i style='opacity: 0.6'>2</i>        </td><td>748.0314953     </td><td>&#x27;priknik horn red electr air horn compressor int...</td></tr>\n",
              "<tr><td><i style='opacity: 0.6'>3</i>        </td><td>787.401574      </td><td>&#x27;alishah women cotton ankl length leg combo 2 pl...</td></tr>\n",
              "<tr><td><i style='opacity: 0.6'>4</i>        </td><td>598.424         </td><td>unit empir loyalist chronicl great migrat          </td></tr>\n",
              "<tr><td>...                                  </td><td>...             </td><td>...                                                </td></tr>\n",
              "<tr><td><i style='opacity: 0.6'>2,249,680</i></td><td>1181.1          </td><td>nike women w ny df swsh hn kh bra smoke            </td></tr>\n",
              "<tr><td><i style='opacity: 0.6'>2,249,681</i></td><td>125.98425184    </td><td>&#x27;3pc goos game cute cartoon enamel pin funni kni...</td></tr>\n",
              "<tr><td><i style='opacity: 0.6'>2,249,682</i></td><td>1200.0          </td><td>&#x27;kangroo sweep movement print wooden wall clock ...</td></tr>\n",
              "<tr><td><i style='opacity: 0.6'>2,249,683</i></td><td>2900.0          </td><td>electro voic wall mount bracket black              </td></tr>\n",
              "<tr><td><i style='opacity: 0.6'>2,249,684</i></td><td>2000.0          </td><td>&#x27;skyjack c7360sp compon box pn c7360pk 4 lift in...</td></tr>\n",
              "</tbody>\n",
              "</table>"
            ],
            "text/plain": [
              "#          PRODUCT_LENGTH    transformed_text\n",
              "0          2125.98           'artzfolio tulip flower blackout curtain door wi...\n",
              "1          393.7             mark spencer girl pyjama set\n",
              "2          748.0314953       'priknik horn red electr air horn compressor int...\n",
              "3          787.401574        'alishah women cotton ankl length leg combo 2 pl...\n",
              "4          598.424           unit empir loyalist chronicl great migrat\n",
              "...        ...               ...\n",
              "2,249,680  1181.1            nike women w ny df swsh hn kh bra smoke\n",
              "2,249,681  125.98425184      '3pc goos game cute cartoon enamel pin funni kni...\n",
              "2,249,682  1200.0            'kangroo sweep movement print wooden wall clock ...\n",
              "2,249,683  2900.0            electro voic wall mount bracket black\n",
              "2,249,684  2000.0            'skyjack c7360sp compon box pn c7360pk 4 lift in..."
            ]
          },
          "metadata": {},
          "execution_count": 33
        }
      ]
    },
    {
      "cell_type": "code",
      "source": [
        "from sklearn.feature_extraction.text import CountVectorizer,TfidfVectorizer\n",
        "cv = CountVectorizer()\n",
        "tfidf = TfidfVectorizer(max_features=8000)\n",
        "# Convert the Vaex expression to a pandas DataFrame.\n",
        "# X = tfidf.fit_transform(df_vaex['transformed_text'].to_numpy().astype(str)).toarray()\n",
        "# tfidf.fit_transform(df_vaex['transformed_text'].to_numpy().toarray())\n",
        "\n",
        "df_vaex[\"array\"]= cv.fit_transform(df_vaex['transformed_text'].to_numpy().astype(str).toarray())"
      ],
      "metadata": {
        "colab": {
          "base_uri": "https://localhost:8080/",
          "height": 438
        },
        "id": "v0K-ev_ERblz",
        "outputId": "aaf10be7-0a0f-4948-f208-e15a4ee80218"
      },
      "execution_count": 43,
      "outputs": [
        {
          "output_type": "error",
          "ename": "KeyboardInterrupt",
          "evalue": "",
          "traceback": [
            "\u001b[0;31m---------------------------------------------------------------------------\u001b[0m",
            "\u001b[0;31mKeyboardInterrupt\u001b[0m                         Traceback (most recent call last)",
            "\u001b[0;32m<ipython-input-43-e0dec482c2de>\u001b[0m in \u001b[0;36m<cell line: 8>\u001b[0;34m()\u001b[0m\n\u001b[1;32m      6\u001b[0m \u001b[0;31m# tfidf.fit_transform(df_vaex['transformed_text'].to_numpy().toarray())\u001b[0m\u001b[0;34m\u001b[0m\u001b[0;34m\u001b[0m\u001b[0m\n\u001b[1;32m      7\u001b[0m \u001b[0;34m\u001b[0m\u001b[0m\n\u001b[0;32m----> 8\u001b[0;31m \u001b[0mdf_vaex\u001b[0m\u001b[0;34m[\u001b[0m\u001b[0;34m\"array\"\u001b[0m\u001b[0;34m]\u001b[0m\u001b[0;34m=\u001b[0m \u001b[0mcv\u001b[0m\u001b[0;34m.\u001b[0m\u001b[0mfit_transform\u001b[0m\u001b[0;34m(\u001b[0m\u001b[0mdf_vaex\u001b[0m\u001b[0;34m[\u001b[0m\u001b[0;34m'transformed_text'\u001b[0m\u001b[0;34m]\u001b[0m\u001b[0;34m.\u001b[0m\u001b[0mto_numpy\u001b[0m\u001b[0;34m(\u001b[0m\u001b[0;34m)\u001b[0m\u001b[0;34m.\u001b[0m\u001b[0mastype\u001b[0m\u001b[0;34m(\u001b[0m\u001b[0mstr\u001b[0m\u001b[0;34m)\u001b[0m\u001b[0;34m.\u001b[0m\u001b[0mtoarray\u001b[0m\u001b[0;34m(\u001b[0m\u001b[0;34m)\u001b[0m\u001b[0;34m)\u001b[0m\u001b[0;34m\u001b[0m\u001b[0;34m\u001b[0m\u001b[0m\n\u001b[0m",
            "\u001b[0;32m/usr/local/lib/python3.10/dist-packages/vaex/expression.py\u001b[0m in \u001b[0;36mto_numpy\u001b[0;34m(self, strict)\u001b[0m\n\u001b[1;32m    529\u001b[0m     \u001b[0;32mdef\u001b[0m \u001b[0mto_numpy\u001b[0m\u001b[0;34m(\u001b[0m\u001b[0mself\u001b[0m\u001b[0;34m,\u001b[0m \u001b[0mstrict\u001b[0m\u001b[0;34m=\u001b[0m\u001b[0;32mTrue\u001b[0m\u001b[0;34m)\u001b[0m\u001b[0;34m:\u001b[0m\u001b[0;34m\u001b[0m\u001b[0;34m\u001b[0m\u001b[0m\n\u001b[1;32m    530\u001b[0m         \u001b[0;34m\"\"\"Return a numpy representation of the data\"\"\"\u001b[0m\u001b[0;34m\u001b[0m\u001b[0;34m\u001b[0m\u001b[0m\n\u001b[0;32m--> 531\u001b[0;31m         \u001b[0mvalues\u001b[0m \u001b[0;34m=\u001b[0m \u001b[0mself\u001b[0m\u001b[0;34m.\u001b[0m\u001b[0mvalues\u001b[0m\u001b[0;34m\u001b[0m\u001b[0;34m\u001b[0m\u001b[0m\n\u001b[0m\u001b[1;32m    532\u001b[0m         \u001b[0;32mreturn\u001b[0m \u001b[0mvaex\u001b[0m\u001b[0;34m.\u001b[0m\u001b[0marray_types\u001b[0m\u001b[0;34m.\u001b[0m\u001b[0mto_numpy\u001b[0m\u001b[0;34m(\u001b[0m\u001b[0mvalues\u001b[0m\u001b[0;34m,\u001b[0m \u001b[0mstrict\u001b[0m\u001b[0;34m=\u001b[0m\u001b[0mstrict\u001b[0m\u001b[0;34m)\u001b[0m\u001b[0;34m\u001b[0m\u001b[0;34m\u001b[0m\u001b[0m\n\u001b[1;32m    533\u001b[0m \u001b[0;34m\u001b[0m\u001b[0m\n",
            "\u001b[0;32m/usr/local/lib/python3.10/dist-packages/vaex/expression.py\u001b[0m in \u001b[0;36mvalues\u001b[0;34m(self)\u001b[0m\n\u001b[1;32m    674\u001b[0m     \u001b[0;34m@\u001b[0m\u001b[0mproperty\u001b[0m\u001b[0;34m\u001b[0m\u001b[0;34m\u001b[0m\u001b[0m\n\u001b[1;32m    675\u001b[0m     \u001b[0;32mdef\u001b[0m \u001b[0mvalues\u001b[0m\u001b[0;34m(\u001b[0m\u001b[0mself\u001b[0m\u001b[0;34m)\u001b[0m\u001b[0;34m:\u001b[0m\u001b[0;34m\u001b[0m\u001b[0;34m\u001b[0m\u001b[0m\n\u001b[0;32m--> 676\u001b[0;31m         \u001b[0;32mreturn\u001b[0m \u001b[0mself\u001b[0m\u001b[0;34m.\u001b[0m\u001b[0mevaluate\u001b[0m\u001b[0;34m(\u001b[0m\u001b[0;34m)\u001b[0m\u001b[0;34m\u001b[0m\u001b[0;34m\u001b[0m\u001b[0m\n\u001b[0m\u001b[1;32m    677\u001b[0m \u001b[0;34m\u001b[0m\u001b[0m\n\u001b[1;32m    678\u001b[0m     \u001b[0;32mdef\u001b[0m \u001b[0mderivative\u001b[0m\u001b[0;34m(\u001b[0m\u001b[0mself\u001b[0m\u001b[0;34m,\u001b[0m \u001b[0mvar\u001b[0m\u001b[0;34m,\u001b[0m \u001b[0msimplify\u001b[0m\u001b[0;34m=\u001b[0m\u001b[0;32mTrue\u001b[0m\u001b[0;34m)\u001b[0m\u001b[0;34m:\u001b[0m\u001b[0;34m\u001b[0m\u001b[0;34m\u001b[0m\u001b[0m\n",
            "\u001b[0;32m/usr/local/lib/python3.10/dist-packages/vaex/expression.py\u001b[0m in \u001b[0;36mevaluate\u001b[0;34m(self, i1, i2, out, selection, parallel, array_type)\u001b[0m\n\u001b[1;32m   1084\u001b[0m \u001b[0;34m\u001b[0m\u001b[0m\n\u001b[1;32m   1085\u001b[0m     \u001b[0;32mdef\u001b[0m \u001b[0mevaluate\u001b[0m\u001b[0;34m(\u001b[0m\u001b[0mself\u001b[0m\u001b[0;34m,\u001b[0m \u001b[0mi1\u001b[0m\u001b[0;34m=\u001b[0m\u001b[0;32mNone\u001b[0m\u001b[0;34m,\u001b[0m \u001b[0mi2\u001b[0m\u001b[0;34m=\u001b[0m\u001b[0;32mNone\u001b[0m\u001b[0;34m,\u001b[0m \u001b[0mout\u001b[0m\u001b[0;34m=\u001b[0m\u001b[0;32mNone\u001b[0m\u001b[0;34m,\u001b[0m \u001b[0mselection\u001b[0m\u001b[0;34m=\u001b[0m\u001b[0;32mNone\u001b[0m\u001b[0;34m,\u001b[0m \u001b[0mparallel\u001b[0m\u001b[0;34m=\u001b[0m\u001b[0;32mTrue\u001b[0m\u001b[0;34m,\u001b[0m \u001b[0marray_type\u001b[0m\u001b[0;34m=\u001b[0m\u001b[0;32mNone\u001b[0m\u001b[0;34m)\u001b[0m\u001b[0;34m:\u001b[0m\u001b[0;34m\u001b[0m\u001b[0;34m\u001b[0m\u001b[0m\n\u001b[0;32m-> 1086\u001b[0;31m         \u001b[0;32mreturn\u001b[0m \u001b[0mself\u001b[0m\u001b[0;34m.\u001b[0m\u001b[0mds\u001b[0m\u001b[0;34m.\u001b[0m\u001b[0mevaluate\u001b[0m\u001b[0;34m(\u001b[0m\u001b[0mself\u001b[0m\u001b[0;34m,\u001b[0m \u001b[0mi1\u001b[0m\u001b[0;34m,\u001b[0m \u001b[0mi2\u001b[0m\u001b[0;34m,\u001b[0m \u001b[0mout\u001b[0m\u001b[0;34m=\u001b[0m\u001b[0mout\u001b[0m\u001b[0;34m,\u001b[0m \u001b[0mselection\u001b[0m\u001b[0;34m=\u001b[0m\u001b[0mselection\u001b[0m\u001b[0;34m,\u001b[0m \u001b[0marray_type\u001b[0m\u001b[0;34m=\u001b[0m\u001b[0marray_type\u001b[0m\u001b[0;34m,\u001b[0m \u001b[0mparallel\u001b[0m\u001b[0;34m=\u001b[0m\u001b[0mparallel\u001b[0m\u001b[0;34m)\u001b[0m\u001b[0;34m\u001b[0m\u001b[0;34m\u001b[0m\u001b[0m\n\u001b[0m\u001b[1;32m   1087\u001b[0m \u001b[0;34m\u001b[0m\u001b[0m\n\u001b[1;32m   1088\u001b[0m     \u001b[0;31m# TODO: it is not so elegant we need to have a custom version of this\u001b[0m\u001b[0;34m\u001b[0m\u001b[0;34m\u001b[0m\u001b[0m\n",
            "\u001b[0;32m/usr/local/lib/python3.10/dist-packages/vaex/dataframe.py\u001b[0m in \u001b[0;36mevaluate\u001b[0;34m(self, expression, i1, i2, out, selection, filtered, array_type, parallel, chunk_size, progress)\u001b[0m\n\u001b[1;32m   3093\u001b[0m             \u001b[0;32mreturn\u001b[0m \u001b[0mself\u001b[0m\u001b[0;34m.\u001b[0m\u001b[0mevaluate_iterator\u001b[0m\u001b[0;34m(\u001b[0m\u001b[0mexpression\u001b[0m\u001b[0;34m,\u001b[0m \u001b[0ms1\u001b[0m\u001b[0;34m=\u001b[0m\u001b[0mi1\u001b[0m\u001b[0;34m,\u001b[0m \u001b[0ms2\u001b[0m\u001b[0;34m=\u001b[0m\u001b[0mi2\u001b[0m\u001b[0;34m,\u001b[0m \u001b[0mout\u001b[0m\u001b[0;34m=\u001b[0m\u001b[0mout\u001b[0m\u001b[0;34m,\u001b[0m \u001b[0mselection\u001b[0m\u001b[0;34m=\u001b[0m\u001b[0mselection\u001b[0m\u001b[0;34m,\u001b[0m \u001b[0mfiltered\u001b[0m\u001b[0;34m=\u001b[0m\u001b[0mfiltered\u001b[0m\u001b[0;34m,\u001b[0m \u001b[0marray_type\u001b[0m\u001b[0;34m=\u001b[0m\u001b[0marray_type\u001b[0m\u001b[0;34m,\u001b[0m \u001b[0mparallel\u001b[0m\u001b[0;34m=\u001b[0m\u001b[0mparallel\u001b[0m\u001b[0;34m,\u001b[0m \u001b[0mchunk_size\u001b[0m\u001b[0;34m=\u001b[0m\u001b[0mchunk_size\u001b[0m\u001b[0;34m,\u001b[0m \u001b[0mprogress\u001b[0m\u001b[0;34m=\u001b[0m\u001b[0mprogress\u001b[0m\u001b[0;34m)\u001b[0m\u001b[0;34m\u001b[0m\u001b[0;34m\u001b[0m\u001b[0m\n\u001b[1;32m   3094\u001b[0m         \u001b[0;32melse\u001b[0m\u001b[0;34m:\u001b[0m\u001b[0;34m\u001b[0m\u001b[0;34m\u001b[0m\u001b[0m\n\u001b[0;32m-> 3095\u001b[0;31m             \u001b[0;32mreturn\u001b[0m \u001b[0mself\u001b[0m\u001b[0;34m.\u001b[0m\u001b[0m_evaluate_implementation\u001b[0m\u001b[0;34m(\u001b[0m\u001b[0mexpression\u001b[0m\u001b[0;34m,\u001b[0m \u001b[0mi1\u001b[0m\u001b[0;34m=\u001b[0m\u001b[0mi1\u001b[0m\u001b[0;34m,\u001b[0m \u001b[0mi2\u001b[0m\u001b[0;34m=\u001b[0m\u001b[0mi2\u001b[0m\u001b[0;34m,\u001b[0m \u001b[0mout\u001b[0m\u001b[0;34m=\u001b[0m\u001b[0mout\u001b[0m\u001b[0;34m,\u001b[0m \u001b[0mselection\u001b[0m\u001b[0;34m=\u001b[0m\u001b[0mselection\u001b[0m\u001b[0;34m,\u001b[0m \u001b[0mfiltered\u001b[0m\u001b[0;34m=\u001b[0m\u001b[0mfiltered\u001b[0m\u001b[0;34m,\u001b[0m \u001b[0marray_type\u001b[0m\u001b[0;34m=\u001b[0m\u001b[0marray_type\u001b[0m\u001b[0;34m,\u001b[0m \u001b[0mparallel\u001b[0m\u001b[0;34m=\u001b[0m\u001b[0mparallel\u001b[0m\u001b[0;34m,\u001b[0m \u001b[0mchunk_size\u001b[0m\u001b[0;34m=\u001b[0m\u001b[0mchunk_size\u001b[0m\u001b[0;34m,\u001b[0m \u001b[0mprogress\u001b[0m\u001b[0;34m=\u001b[0m\u001b[0mprogress\u001b[0m\u001b[0;34m)\u001b[0m\u001b[0;34m\u001b[0m\u001b[0;34m\u001b[0m\u001b[0m\n\u001b[0m\u001b[1;32m   3096\u001b[0m \u001b[0;34m\u001b[0m\u001b[0m\n\u001b[1;32m   3097\u001b[0m     \u001b[0;34m@\u001b[0m\u001b[0mdocsubst\u001b[0m\u001b[0;34m\u001b[0m\u001b[0;34m\u001b[0m\u001b[0m\n",
            "\u001b[0;32m/usr/local/lib/python3.10/dist-packages/vaex/dataframe.py\u001b[0m in \u001b[0;36m_evaluate_implementation\u001b[0;34m(self, expression, i1, i2, out, selection, filtered, array_type, parallel, chunk_size, raw, progress)\u001b[0m\n\u001b[1;32m   6492\u001b[0m                         \u001b[0marrays\u001b[0m\u001b[0;34m[\u001b[0m\u001b[0mexpression\u001b[0m\u001b[0;34m]\u001b[0m\u001b[0;34m[\u001b[0m\u001b[0mi1\u001b[0m\u001b[0;34m:\u001b[0m\u001b[0mi2\u001b[0m\u001b[0;34m]\u001b[0m \u001b[0;34m=\u001b[0m \u001b[0mblocks\u001b[0m\u001b[0;34m[\u001b[0m\u001b[0mi\u001b[0m\u001b[0;34m]\u001b[0m\u001b[0;34m\u001b[0m\u001b[0;34m\u001b[0m\u001b[0m\n\u001b[1;32m   6493\u001b[0m             \u001b[0;32mif\u001b[0m \u001b[0mexpression_to_evaluate\u001b[0m\u001b[0;34m:\u001b[0m\u001b[0;34m\u001b[0m\u001b[0;34m\u001b[0m\u001b[0m\n\u001b[0;32m-> 6494\u001b[0;31m                 \u001b[0mdf\u001b[0m\u001b[0;34m.\u001b[0m\u001b[0mmap_reduce\u001b[0m\u001b[0;34m(\u001b[0m\u001b[0massign\u001b[0m\u001b[0;34m,\u001b[0m \u001b[0;32mlambda\u001b[0m \u001b[0;34m*\u001b[0m\u001b[0m_\u001b[0m\u001b[0;34m:\u001b[0m \u001b[0;32mNone\u001b[0m\u001b[0;34m,\u001b[0m \u001b[0mexpression_to_evaluate\u001b[0m\u001b[0;34m,\u001b[0m \u001b[0mprogress\u001b[0m\u001b[0;34m=\u001b[0m\u001b[0mprogress\u001b[0m\u001b[0;34m,\u001b[0m \u001b[0mignore_filter\u001b[0m\u001b[0;34m=\u001b[0m\u001b[0;32mFalse\u001b[0m\u001b[0;34m,\u001b[0m \u001b[0mselection\u001b[0m\u001b[0;34m=\u001b[0m\u001b[0mselection\u001b[0m\u001b[0;34m,\u001b[0m \u001b[0mpre_filter\u001b[0m\u001b[0;34m=\u001b[0m\u001b[0muse_filter\u001b[0m\u001b[0;34m,\u001b[0m \u001b[0minfo\u001b[0m\u001b[0;34m=\u001b[0m\u001b[0;32mTrue\u001b[0m\u001b[0;34m,\u001b[0m \u001b[0mto_numpy\u001b[0m\u001b[0;34m=\u001b[0m\u001b[0;32mFalse\u001b[0m\u001b[0;34m,\u001b[0m \u001b[0mname\u001b[0m\u001b[0;34m=\u001b[0m\u001b[0;34m\"evaluate\"\u001b[0m\u001b[0;34m)\u001b[0m\u001b[0;34m\u001b[0m\u001b[0;34m\u001b[0m\u001b[0m\n\u001b[0m\u001b[1;32m   6495\u001b[0m             \u001b[0;32mdef\u001b[0m \u001b[0mfinalize_result\u001b[0m\u001b[0;34m(\u001b[0m\u001b[0mexpression\u001b[0m\u001b[0;34m)\u001b[0m\u001b[0;34m:\u001b[0m\u001b[0;34m\u001b[0m\u001b[0;34m\u001b[0m\u001b[0m\n\u001b[1;32m   6496\u001b[0m                 \u001b[0mexpression_obj\u001b[0m \u001b[0;34m=\u001b[0m \u001b[0mexpression\u001b[0m\u001b[0;34m\u001b[0m\u001b[0;34m\u001b[0m\u001b[0m\n",
            "\u001b[0;32m/usr/local/lib/python3.10/dist-packages/vaex/dataframe.py\u001b[0m in \u001b[0;36mmap_reduce\u001b[0;34m(self, map, reduce, arguments, progress, delay, info, to_numpy, ignore_filter, pre_filter, name, selection)\u001b[0m\n\u001b[1;32m    436\u001b[0m         \u001b[0mprogressbar\u001b[0m\u001b[0;34m.\u001b[0m\u001b[0madd_task\u001b[0m\u001b[0;34m(\u001b[0m\u001b[0mtask\u001b[0m\u001b[0;34m,\u001b[0m \u001b[0;34mf'map reduce: {name}'\u001b[0m\u001b[0;34m)\u001b[0m\u001b[0;34m\u001b[0m\u001b[0;34m\u001b[0m\u001b[0m\n\u001b[1;32m    437\u001b[0m         \u001b[0mtask\u001b[0m \u001b[0;34m=\u001b[0m \u001b[0mself\u001b[0m\u001b[0;34m.\u001b[0m\u001b[0mexecutor\u001b[0m\u001b[0;34m.\u001b[0m\u001b[0mschedule\u001b[0m\u001b[0;34m(\u001b[0m\u001b[0mtask\u001b[0m\u001b[0;34m)\u001b[0m\u001b[0;34m\u001b[0m\u001b[0;34m\u001b[0m\u001b[0m\n\u001b[0;32m--> 438\u001b[0;31m         \u001b[0;32mreturn\u001b[0m \u001b[0mself\u001b[0m\u001b[0;34m.\u001b[0m\u001b[0m_delay\u001b[0m\u001b[0;34m(\u001b[0m\u001b[0mdelay\u001b[0m\u001b[0;34m,\u001b[0m \u001b[0mtask\u001b[0m\u001b[0;34m)\u001b[0m\u001b[0;34m\u001b[0m\u001b[0;34m\u001b[0m\u001b[0m\n\u001b[0m\u001b[1;32m    439\u001b[0m \u001b[0;34m\u001b[0m\u001b[0m\n\u001b[1;32m    440\u001b[0m     \u001b[0;32mdef\u001b[0m \u001b[0mapply\u001b[0m\u001b[0;34m(\u001b[0m\u001b[0mself\u001b[0m\u001b[0;34m,\u001b[0m \u001b[0mf\u001b[0m\u001b[0;34m,\u001b[0m \u001b[0marguments\u001b[0m\u001b[0;34m=\u001b[0m\u001b[0;32mNone\u001b[0m\u001b[0;34m,\u001b[0m \u001b[0mvectorize\u001b[0m\u001b[0;34m=\u001b[0m\u001b[0;32mFalse\u001b[0m\u001b[0;34m,\u001b[0m \u001b[0mmultiprocessing\u001b[0m\u001b[0;34m=\u001b[0m\u001b[0;32mTrue\u001b[0m\u001b[0;34m)\u001b[0m\u001b[0;34m:\u001b[0m\u001b[0;34m\u001b[0m\u001b[0;34m\u001b[0m\u001b[0m\n",
            "\u001b[0;32m/usr/local/lib/python3.10/dist-packages/vaex/dataframe.py\u001b[0m in \u001b[0;36m_delay\u001b[0;34m(self, delay, task, progressbar)\u001b[0m\n\u001b[1;32m   1778\u001b[0m             \u001b[0;32mreturn\u001b[0m \u001b[0mtask\u001b[0m\u001b[0;34m\u001b[0m\u001b[0;34m\u001b[0m\u001b[0m\n\u001b[1;32m   1779\u001b[0m         \u001b[0;32melse\u001b[0m\u001b[0;34m:\u001b[0m\u001b[0;34m\u001b[0m\u001b[0;34m\u001b[0m\u001b[0m\n\u001b[0;32m-> 1780\u001b[0;31m             \u001b[0mself\u001b[0m\u001b[0;34m.\u001b[0m\u001b[0mexecute\u001b[0m\u001b[0;34m(\u001b[0m\u001b[0;34m)\u001b[0m\u001b[0;34m\u001b[0m\u001b[0;34m\u001b[0m\u001b[0m\n\u001b[0m\u001b[1;32m   1781\u001b[0m             \u001b[0;32mreturn\u001b[0m \u001b[0mtask\u001b[0m\u001b[0;34m.\u001b[0m\u001b[0mget\u001b[0m\u001b[0;34m(\u001b[0m\u001b[0;34m)\u001b[0m\u001b[0;34m\u001b[0m\u001b[0;34m\u001b[0m\u001b[0m\n\u001b[1;32m   1782\u001b[0m \u001b[0;34m\u001b[0m\u001b[0m\n",
            "\u001b[0;32m/usr/local/lib/python3.10/dist-packages/vaex/dataframe.py\u001b[0m in \u001b[0;36mexecute\u001b[0;34m(self)\u001b[0m\n\u001b[1;32m    419\u001b[0m                 \u001b[0mprint\u001b[0m\u001b[0;34m(\u001b[0m\u001b[0mrepr\u001b[0m\u001b[0;34m(\u001b[0m\u001b[0mtask\u001b[0m\u001b[0;34m)\u001b[0m\u001b[0;34m)\u001b[0m\u001b[0;34m\u001b[0m\u001b[0;34m\u001b[0m\u001b[0m\n\u001b[1;32m    420\u001b[0m         \u001b[0;32mif\u001b[0m \u001b[0mself\u001b[0m\u001b[0;34m.\u001b[0m\u001b[0mexecutor\u001b[0m\u001b[0;34m.\u001b[0m\u001b[0mtasks\u001b[0m\u001b[0;34m:\u001b[0m\u001b[0;34m\u001b[0m\u001b[0;34m\u001b[0m\u001b[0m\n\u001b[0;32m--> 421\u001b[0;31m             \u001b[0mself\u001b[0m\u001b[0;34m.\u001b[0m\u001b[0mexecutor\u001b[0m\u001b[0;34m.\u001b[0m\u001b[0mexecute\u001b[0m\u001b[0;34m(\u001b[0m\u001b[0;34m)\u001b[0m\u001b[0;34m\u001b[0m\u001b[0;34m\u001b[0m\u001b[0m\n\u001b[0m\u001b[1;32m    422\u001b[0m \u001b[0;34m\u001b[0m\u001b[0m\n\u001b[1;32m    423\u001b[0m     \u001b[0;32masync\u001b[0m \u001b[0;32mdef\u001b[0m \u001b[0mexecute_async\u001b[0m\u001b[0;34m(\u001b[0m\u001b[0mself\u001b[0m\u001b[0;34m)\u001b[0m\u001b[0;34m:\u001b[0m\u001b[0;34m\u001b[0m\u001b[0;34m\u001b[0m\u001b[0m\n",
            "\u001b[0;32m/usr/local/lib/python3.10/dist-packages/vaex/execution.py\u001b[0m in \u001b[0;36mexecute\u001b[0;34m(self)\u001b[0m\n\u001b[1;32m    306\u001b[0m \u001b[0;34m\u001b[0m\u001b[0m\n\u001b[1;32m    307\u001b[0m     \u001b[0;32mdef\u001b[0m \u001b[0mexecute\u001b[0m\u001b[0;34m(\u001b[0m\u001b[0mself\u001b[0m\u001b[0;34m)\u001b[0m\u001b[0;34m:\u001b[0m\u001b[0;34m\u001b[0m\u001b[0;34m\u001b[0m\u001b[0m\n\u001b[0;32m--> 308\u001b[0;31m         \u001b[0;32mfor\u001b[0m \u001b[0m_\u001b[0m \u001b[0;32min\u001b[0m \u001b[0mself\u001b[0m\u001b[0;34m.\u001b[0m\u001b[0mexecute_generator\u001b[0m\u001b[0;34m(\u001b[0m\u001b[0;34m)\u001b[0m\u001b[0;34m:\u001b[0m\u001b[0;34m\u001b[0m\u001b[0;34m\u001b[0m\u001b[0m\n\u001b[0m\u001b[1;32m    309\u001b[0m             \u001b[0;32mpass\u001b[0m  \u001b[0;31m# just eat all elements\u001b[0m\u001b[0;34m\u001b[0m\u001b[0;34m\u001b[0m\u001b[0m\n\u001b[1;32m    310\u001b[0m \u001b[0;34m\u001b[0m\u001b[0m\n",
            "\u001b[0;32m/usr/local/lib/python3.10/dist-packages/vaex/execution.py\u001b[0m in \u001b[0;36mexecute_generator\u001b[0;34m(self, use_async)\u001b[0m\n\u001b[1;32m    430\u001b[0m                         \u001b[0mlogger\u001b[0m\u001b[0;34m.\u001b[0m\u001b[0mdebug\u001b[0m\u001b[0;34m(\u001b[0m\u001b[0;34m\"Pass cancelled because of the global progress event: %r\"\u001b[0m\u001b[0;34m,\u001b[0m \u001b[0mself\u001b[0m\u001b[0;34m.\u001b[0m\u001b[0msignal_progress\u001b[0m\u001b[0;34m.\u001b[0m\u001b[0mcallbacks\u001b[0m\u001b[0;34m)\u001b[0m\u001b[0;34m\u001b[0m\u001b[0;34m\u001b[0m\u001b[0m\n\u001b[1;32m    431\u001b[0m                     \u001b[0;32mreturn\u001b[0m \u001b[0mok_tasks\u001b[0m \u001b[0;32mand\u001b[0m \u001b[0mok_executor\u001b[0m \u001b[0;32mand\u001b[0m \u001b[0;32mnot\u001b[0m \u001b[0mall_stopped\u001b[0m\u001b[0;34m\u001b[0m\u001b[0;34m\u001b[0m\u001b[0m\n\u001b[0;32m--> 432\u001b[0;31m                 yield from self.thread_pool.map(self.process_part, dataset.chunk_iterator(run.dataset_deps, chunk_size),\n\u001b[0m\u001b[1;32m    433\u001b[0m                                                     \u001b[0mdataset\u001b[0m\u001b[0;34m.\u001b[0m\u001b[0mrow_count\u001b[0m\u001b[0;34m,\u001b[0m\u001b[0;34m\u001b[0m\u001b[0;34m\u001b[0m\u001b[0m\n\u001b[1;32m    434\u001b[0m                                                     \u001b[0mprogress\u001b[0m\u001b[0;34m=\u001b[0m\u001b[0mprogress\u001b[0m\u001b[0;34m,\u001b[0m\u001b[0;34m\u001b[0m\u001b[0;34m\u001b[0m\u001b[0m\n",
            "\u001b[0;32m/usr/local/lib/python3.10/dist-packages/vaex/multithreading.py\u001b[0m in \u001b[0;36mmap\u001b[0;34m(self, callable, iterator, count, on_error, progress, cancel, unpack, use_async, **kwargs_extra)\u001b[0m\n\u001b[1;32m    102\u001b[0m         \u001b[0miterator\u001b[0m \u001b[0;34m=\u001b[0m \u001b[0miter\u001b[0m\u001b[0;34m(\u001b[0m\u001b[0mbuffer\u001b[0m\u001b[0;34m(\u001b[0m\u001b[0miterator\u001b[0m\u001b[0;34m,\u001b[0m \u001b[0mself\u001b[0m\u001b[0;34m.\u001b[0m\u001b[0m_max_workers\u001b[0m \u001b[0;34m+\u001b[0m \u001b[0;36m3\u001b[0m\u001b[0;34m)\u001b[0m\u001b[0;34m)\u001b[0m\u001b[0;34m\u001b[0m\u001b[0;34m\u001b[0m\u001b[0m\n\u001b[1;32m    103\u001b[0m         \u001b[0;32mtry\u001b[0m\u001b[0;34m:\u001b[0m\u001b[0;34m\u001b[0m\u001b[0;34m\u001b[0m\u001b[0m\n\u001b[0;32m--> 104\u001b[0;31m             \u001b[0;32mfor\u001b[0m \u001b[0mvalue\u001b[0m \u001b[0;32min\u001b[0m \u001b[0miterator\u001b[0m\u001b[0;34m:\u001b[0m\u001b[0;34m\u001b[0m\u001b[0;34m\u001b[0m\u001b[0m\n\u001b[0m\u001b[1;32m    105\u001b[0m                 \u001b[0;32mif\u001b[0m \u001b[0muse_async\u001b[0m\u001b[0;34m:\u001b[0m\u001b[0;34m\u001b[0m\u001b[0;34m\u001b[0m\u001b[0m\n\u001b[1;32m    106\u001b[0m                     \u001b[0mvalue\u001b[0m \u001b[0;34m=\u001b[0m \u001b[0;32myield\u001b[0m \u001b[0mvalue\u001b[0m\u001b[0;34m\u001b[0m\u001b[0;34m\u001b[0m\u001b[0m\n",
            "\u001b[0;32m/usr/local/lib/python3.10/dist-packages/vaex/itertools.py\u001b[0m in \u001b[0;36mbuffer\u001b[0;34m(i, n)\u001b[0m\n\u001b[1;32m      3\u001b[0m     \u001b[0;32mtry\u001b[0m\u001b[0;34m:\u001b[0m\u001b[0;34m\u001b[0m\u001b[0;34m\u001b[0m\u001b[0m\n\u001b[1;32m      4\u001b[0m         \u001b[0;32mfor\u001b[0m \u001b[0m_\u001b[0m \u001b[0;32min\u001b[0m \u001b[0mrange\u001b[0m\u001b[0;34m(\u001b[0m\u001b[0mn\u001b[0m\u001b[0;34m-\u001b[0m\u001b[0;36m1\u001b[0m\u001b[0;34m)\u001b[0m\u001b[0;34m:\u001b[0m\u001b[0;34m\u001b[0m\u001b[0;34m\u001b[0m\u001b[0m\n\u001b[0;32m----> 5\u001b[0;31m             \u001b[0mvalues\u001b[0m\u001b[0;34m.\u001b[0m\u001b[0mappend\u001b[0m\u001b[0;34m(\u001b[0m\u001b[0mnext\u001b[0m\u001b[0;34m(\u001b[0m\u001b[0mi\u001b[0m\u001b[0;34m)\u001b[0m\u001b[0;34m)\u001b[0m\u001b[0;34m\u001b[0m\u001b[0;34m\u001b[0m\u001b[0m\n\u001b[0m\u001b[1;32m      6\u001b[0m         \u001b[0;32mwhile\u001b[0m \u001b[0;32mTrue\u001b[0m\u001b[0;34m:\u001b[0m\u001b[0;34m\u001b[0m\u001b[0;34m\u001b[0m\u001b[0m\n\u001b[1;32m      7\u001b[0m             \u001b[0mvalues\u001b[0m\u001b[0;34m.\u001b[0m\u001b[0mappend\u001b[0m\u001b[0;34m(\u001b[0m\u001b[0mnext\u001b[0m\u001b[0;34m(\u001b[0m\u001b[0mi\u001b[0m\u001b[0;34m)\u001b[0m\u001b[0;34m)\u001b[0m\u001b[0;34m\u001b[0m\u001b[0;34m\u001b[0m\u001b[0m\n",
            "\u001b[0;32m/usr/lib/python3.10/concurrent/futures/_base.py\u001b[0m in \u001b[0;36mresult_iterator\u001b[0;34m()\u001b[0m\n\u001b[1;32m    619\u001b[0m                     \u001b[0;31m# Careful not to keep a reference to the popped future\u001b[0m\u001b[0;34m\u001b[0m\u001b[0;34m\u001b[0m\u001b[0m\n\u001b[1;32m    620\u001b[0m                     \u001b[0;32mif\u001b[0m \u001b[0mtimeout\u001b[0m \u001b[0;32mis\u001b[0m \u001b[0;32mNone\u001b[0m\u001b[0;34m:\u001b[0m\u001b[0;34m\u001b[0m\u001b[0;34m\u001b[0m\u001b[0m\n\u001b[0;32m--> 621\u001b[0;31m                         \u001b[0;32myield\u001b[0m \u001b[0m_result_or_cancel\u001b[0m\u001b[0;34m(\u001b[0m\u001b[0mfs\u001b[0m\u001b[0;34m.\u001b[0m\u001b[0mpop\u001b[0m\u001b[0;34m(\u001b[0m\u001b[0;34m)\u001b[0m\u001b[0;34m)\u001b[0m\u001b[0;34m\u001b[0m\u001b[0;34m\u001b[0m\u001b[0m\n\u001b[0m\u001b[1;32m    622\u001b[0m                     \u001b[0;32melse\u001b[0m\u001b[0;34m:\u001b[0m\u001b[0;34m\u001b[0m\u001b[0;34m\u001b[0m\u001b[0m\n\u001b[1;32m    623\u001b[0m                         \u001b[0;32myield\u001b[0m \u001b[0m_result_or_cancel\u001b[0m\u001b[0;34m(\u001b[0m\u001b[0mfs\u001b[0m\u001b[0;34m.\u001b[0m\u001b[0mpop\u001b[0m\u001b[0;34m(\u001b[0m\u001b[0;34m)\u001b[0m\u001b[0;34m,\u001b[0m \u001b[0mend_time\u001b[0m \u001b[0;34m-\u001b[0m \u001b[0mtime\u001b[0m\u001b[0;34m.\u001b[0m\u001b[0mmonotonic\u001b[0m\u001b[0;34m(\u001b[0m\u001b[0;34m)\u001b[0m\u001b[0;34m)\u001b[0m\u001b[0;34m\u001b[0m\u001b[0;34m\u001b[0m\u001b[0m\n",
            "\u001b[0;32m/usr/lib/python3.10/concurrent/futures/_base.py\u001b[0m in \u001b[0;36m_result_or_cancel\u001b[0;34m(***failed resolving arguments***)\u001b[0m\n\u001b[1;32m    317\u001b[0m     \u001b[0;32mtry\u001b[0m\u001b[0;34m:\u001b[0m\u001b[0;34m\u001b[0m\u001b[0;34m\u001b[0m\u001b[0m\n\u001b[1;32m    318\u001b[0m         \u001b[0;32mtry\u001b[0m\u001b[0;34m:\u001b[0m\u001b[0;34m\u001b[0m\u001b[0;34m\u001b[0m\u001b[0m\n\u001b[0;32m--> 319\u001b[0;31m             \u001b[0;32mreturn\u001b[0m \u001b[0mfut\u001b[0m\u001b[0;34m.\u001b[0m\u001b[0mresult\u001b[0m\u001b[0;34m(\u001b[0m\u001b[0mtimeout\u001b[0m\u001b[0;34m)\u001b[0m\u001b[0;34m\u001b[0m\u001b[0;34m\u001b[0m\u001b[0m\n\u001b[0m\u001b[1;32m    320\u001b[0m         \u001b[0;32mfinally\u001b[0m\u001b[0;34m:\u001b[0m\u001b[0;34m\u001b[0m\u001b[0;34m\u001b[0m\u001b[0m\n\u001b[1;32m    321\u001b[0m             \u001b[0mfut\u001b[0m\u001b[0;34m.\u001b[0m\u001b[0mcancel\u001b[0m\u001b[0;34m(\u001b[0m\u001b[0;34m)\u001b[0m\u001b[0;34m\u001b[0m\u001b[0;34m\u001b[0m\u001b[0m\n",
            "\u001b[0;32m/usr/lib/python3.10/concurrent/futures/_base.py\u001b[0m in \u001b[0;36mresult\u001b[0;34m(self, timeout)\u001b[0m\n\u001b[1;32m    451\u001b[0m                     \u001b[0;32mreturn\u001b[0m \u001b[0mself\u001b[0m\u001b[0;34m.\u001b[0m\u001b[0m__get_result\u001b[0m\u001b[0;34m(\u001b[0m\u001b[0;34m)\u001b[0m\u001b[0;34m\u001b[0m\u001b[0;34m\u001b[0m\u001b[0m\n\u001b[1;32m    452\u001b[0m \u001b[0;34m\u001b[0m\u001b[0m\n\u001b[0;32m--> 453\u001b[0;31m                 \u001b[0mself\u001b[0m\u001b[0;34m.\u001b[0m\u001b[0m_condition\u001b[0m\u001b[0;34m.\u001b[0m\u001b[0mwait\u001b[0m\u001b[0;34m(\u001b[0m\u001b[0mtimeout\u001b[0m\u001b[0;34m)\u001b[0m\u001b[0;34m\u001b[0m\u001b[0;34m\u001b[0m\u001b[0m\n\u001b[0m\u001b[1;32m    454\u001b[0m \u001b[0;34m\u001b[0m\u001b[0m\n\u001b[1;32m    455\u001b[0m                 \u001b[0;32mif\u001b[0m \u001b[0mself\u001b[0m\u001b[0;34m.\u001b[0m\u001b[0m_state\u001b[0m \u001b[0;32min\u001b[0m \u001b[0;34m[\u001b[0m\u001b[0mCANCELLED\u001b[0m\u001b[0;34m,\u001b[0m \u001b[0mCANCELLED_AND_NOTIFIED\u001b[0m\u001b[0;34m]\u001b[0m\u001b[0;34m:\u001b[0m\u001b[0;34m\u001b[0m\u001b[0;34m\u001b[0m\u001b[0m\n",
            "\u001b[0;32m/usr/lib/python3.10/threading.py\u001b[0m in \u001b[0;36mwait\u001b[0;34m(self, timeout)\u001b[0m\n\u001b[1;32m    318\u001b[0m         \u001b[0;32mtry\u001b[0m\u001b[0;34m:\u001b[0m    \u001b[0;31m# restore state no matter what (e.g., KeyboardInterrupt)\u001b[0m\u001b[0;34m\u001b[0m\u001b[0;34m\u001b[0m\u001b[0m\n\u001b[1;32m    319\u001b[0m             \u001b[0;32mif\u001b[0m \u001b[0mtimeout\u001b[0m \u001b[0;32mis\u001b[0m \u001b[0;32mNone\u001b[0m\u001b[0;34m:\u001b[0m\u001b[0;34m\u001b[0m\u001b[0;34m\u001b[0m\u001b[0m\n\u001b[0;32m--> 320\u001b[0;31m                 \u001b[0mwaiter\u001b[0m\u001b[0;34m.\u001b[0m\u001b[0macquire\u001b[0m\u001b[0;34m(\u001b[0m\u001b[0;34m)\u001b[0m\u001b[0;34m\u001b[0m\u001b[0;34m\u001b[0m\u001b[0m\n\u001b[0m\u001b[1;32m    321\u001b[0m                 \u001b[0mgotit\u001b[0m \u001b[0;34m=\u001b[0m \u001b[0;32mTrue\u001b[0m\u001b[0;34m\u001b[0m\u001b[0;34m\u001b[0m\u001b[0m\n\u001b[1;32m    322\u001b[0m             \u001b[0;32melse\u001b[0m\u001b[0;34m:\u001b[0m\u001b[0;34m\u001b[0m\u001b[0;34m\u001b[0m\u001b[0m\n",
            "\u001b[0;31mKeyboardInterrupt\u001b[0m: "
          ]
        }
      ]
    },
    {
      "cell_type": "code",
      "source": [
        "df_vaex = df_vaex.shuffle()\n",
        "df_train,df_test = df_vaex.ml.train_test_split(test_size=0.2)"
      ],
      "metadata": {
        "colab": {
          "base_uri": "https://localhost:8080/"
        },
        "id": "GbYLcyJFmC3w",
        "outputId": "4c88e373-f4eb-466a-e554-e533af36a6fd"
      },
      "execution_count": 49,
      "outputs": [
        {
          "output_type": "stream",
          "name": "stderr",
          "text": [
            "/usr/local/lib/python3.10/dist-packages/vaex/ml/__init__.py:28: UserWarning: Make sure the DataFrame is shuffled\n",
            "  warnings.warn('Make sure the DataFrame is shuffled')\n"
          ]
        }
      ]
    },
    {
      "cell_type": "code",
      "source": [
        "df_train.shape"
      ],
      "metadata": {
        "colab": {
          "base_uri": "https://localhost:8080/",
          "height": 1000
        },
        "id": "Zh14k7a2nT-8",
        "outputId": "dd2ae979-1ce8-4517-a249-f53055874e2f"
      },
      "execution_count": null,
      "outputs": [
        {
          "output_type": "display_data",
          "data": {
            "text/plain": [
              "\u001b[2;36m[09/11/24 10:25:34]\u001b[0m\u001b[2;36m \u001b[0m\u001b[1;31mERROR   \u001b[0m error evaluating: transformed_text at rows \u001b[1;36m0\u001b[0m-\u001b[1;36m5\u001b[0m                       \u001b]8;id=841839;file:///usr/local/lib/python3.10/dist-packages/vaex/dataframe.py\u001b\\\u001b[2mdataframe.py\u001b[0m\u001b]8;;\u001b\\\u001b[2m:\u001b[0m\u001b]8;id=81624;file:///usr/local/lib/python3.10/dist-packages/vaex/dataframe.py#4101\u001b\\\u001b[2m4101\u001b[0m\u001b]8;;\u001b\\\n",
              "\u001b[2;36m                    \u001b[0m         Traceback \u001b[1m(\u001b[0mmost recent call last\u001b[1m)\u001b[0m:                                   \u001b[2m                 \u001b[0m\n",
              "\u001b[2;36m                    \u001b[0m           File \u001b[32m\"/usr/local/lib/python3.10/dist-packages/vaex/dataframe.py\"\u001b[0m,  \u001b[2m                 \u001b[0m\n",
              "\u001b[2;36m                    \u001b[0m         line \u001b[1;36m4093\u001b[0m, in table_part                                             \u001b[2m                 \u001b[0m\n",
              "\u001b[2;36m                    \u001b[0m             values = \u001b[1;35mdict\u001b[0m\u001b[1m(\u001b[0m\u001b[1;35mzip\u001b[0m\u001b[1m(\u001b[0mcolumn_names, \u001b[1;35mdf.evaluate\u001b[0m\u001b[1m(\u001b[0mcolumn_names\u001b[1m)\u001b[0m\u001b[1m)\u001b[0m\u001b[1m)\u001b[0m      \u001b[2m                 \u001b[0m\n",
              "\u001b[2;36m                    \u001b[0m           File \u001b[32m\"/usr/local/lib/python3.10/dist-packages/vaex/dataframe.py\"\u001b[0m,  \u001b[2m                 \u001b[0m\n",
              "\u001b[2;36m                    \u001b[0m         line \u001b[1;36m3095\u001b[0m, in evaluate                                               \u001b[2m                 \u001b[0m\n",
              "\u001b[2;36m                    \u001b[0m             return \u001b[1;35mself._evaluate_implementation\u001b[0m\u001b[1m(\u001b[0mexpression, \u001b[33mi1\u001b[0m=\u001b[35mi1\u001b[0m, \u001b[33mi2\u001b[0m=\u001b[35mi2\u001b[0m,   \u001b[2m                 \u001b[0m\n",
              "\u001b[2;36m                    \u001b[0m         \u001b[33mout\u001b[0m=\u001b[35mout\u001b[0m, \u001b[33mselection\u001b[0m=\u001b[35mselection\u001b[0m, \u001b[33mfiltered\u001b[0m=\u001b[35mfiltered\u001b[0m,                     \u001b[2m                 \u001b[0m\n",
              "\u001b[2;36m                    \u001b[0m         \u001b[33marray_type\u001b[0m=\u001b[35marray_type\u001b[0m, \u001b[33mparallel\u001b[0m=\u001b[35mparallel\u001b[0m, \u001b[33mchunk_size\u001b[0m=\u001b[35mchunk_size\u001b[0m,     \u001b[2m                 \u001b[0m\n",
              "\u001b[2;36m                    \u001b[0m         \u001b[33mprogress\u001b[0m=\u001b[35mprogress\u001b[0m\u001b[1m)\u001b[0m                                                   \u001b[2m                 \u001b[0m\n",
              "\u001b[2;36m                    \u001b[0m           File \u001b[32m\"/usr/local/lib/python3.10/dist-packages/vaex/dataframe.py\"\u001b[0m,  \u001b[2m                 \u001b[0m\n",
              "\u001b[2;36m                    \u001b[0m         line \u001b[1;36m6494\u001b[0m, in _evaluate_implementation                               \u001b[2m                 \u001b[0m\n",
              "\u001b[2;36m                    \u001b[0m             \u001b[1;35mdf.map_reduce\u001b[0m\u001b[1m(\u001b[0massign, lambda *_: \u001b[3;35mNone\u001b[0m, expression_to_evaluate,   \u001b[2m                 \u001b[0m\n",
              "\u001b[2;36m                    \u001b[0m         \u001b[33mprogress\u001b[0m=\u001b[35mprogress\u001b[0m, \u001b[33mignore_filter\u001b[0m=\u001b[3;91mFalse\u001b[0m, \u001b[33mselection\u001b[0m=\u001b[35mselection\u001b[0m,         \u001b[2m                 \u001b[0m\n",
              "\u001b[2;36m                    \u001b[0m         \u001b[33mpre_filter\u001b[0m=\u001b[35muse_filter\u001b[0m, \u001b[33minfo\u001b[0m=\u001b[3;92mTrue\u001b[0m, \u001b[33mto_numpy\u001b[0m=\u001b[3;91mFalse\u001b[0m, \u001b[33mname\u001b[0m=\u001b[32m\"evaluate\"\u001b[0m\u001b[1m)\u001b[0m   \u001b[2m                 \u001b[0m\n",
              "\u001b[2;36m                    \u001b[0m           File \u001b[32m\"/usr/local/lib/python3.10/dist-packages/vaex/dataframe.py\"\u001b[0m,  \u001b[2m                 \u001b[0m\n",
              "\u001b[2;36m                    \u001b[0m         line \u001b[1;36m438\u001b[0m, in map_reduce                                              \u001b[2m                 \u001b[0m\n",
              "\u001b[2;36m                    \u001b[0m             return \u001b[1;35mself._delay\u001b[0m\u001b[1m(\u001b[0mdelay, task\u001b[1m)\u001b[0m                                  \u001b[2m                 \u001b[0m\n",
              "\u001b[2;36m                    \u001b[0m           File \u001b[32m\"/usr/local/lib/python3.10/dist-packages/vaex/dataframe.py\"\u001b[0m,  \u001b[2m                 \u001b[0m\n",
              "\u001b[2;36m                    \u001b[0m         line \u001b[1;36m1780\u001b[0m, in _delay                                                 \u001b[2m                 \u001b[0m\n",
              "\u001b[2;36m                    \u001b[0m             \u001b[1;35mself.execute\u001b[0m\u001b[1m(\u001b[0m\u001b[1m)\u001b[0m                                                   \u001b[2m                 \u001b[0m\n",
              "\u001b[2;36m                    \u001b[0m           File \u001b[32m\"/usr/local/lib/python3.10/dist-packages/vaex/dataframe.py\"\u001b[0m,  \u001b[2m                 \u001b[0m\n",
              "\u001b[2;36m                    \u001b[0m         line \u001b[1;36m421\u001b[0m, in execute                                                 \u001b[2m                 \u001b[0m\n",
              "\u001b[2;36m                    \u001b[0m             \u001b[1;35mself.executor.execute\u001b[0m\u001b[1m(\u001b[0m\u001b[1m)\u001b[0m                                          \u001b[2m                 \u001b[0m\n",
              "\u001b[2;36m                    \u001b[0m           File \u001b[32m\"/usr/local/lib/python3.10/dist-packages/vaex/execution.py\"\u001b[0m,  \u001b[2m                 \u001b[0m\n",
              "\u001b[2;36m                    \u001b[0m         line \u001b[1;36m308\u001b[0m, in execute                                                 \u001b[2m                 \u001b[0m\n",
              "\u001b[2;36m                    \u001b[0m             for _ in \u001b[1;35mself.execute_generator\u001b[0m\u001b[1m(\u001b[0m\u001b[1m)\u001b[0m:                               \u001b[2m                 \u001b[0m\n",
              "\u001b[2;36m                    \u001b[0m           File \u001b[32m\"/usr/local/lib/python3.10/dist-packages/vaex/execution.py\"\u001b[0m,  \u001b[2m                 \u001b[0m\n",
              "\u001b[2;36m                    \u001b[0m         line \u001b[1;36m432\u001b[0m, in execute_generator                                       \u001b[2m                 \u001b[0m\n",
              "\u001b[2;36m                    \u001b[0m             yield from \u001b[1;35mself.thread_pool.map\u001b[0m\u001b[1m(\u001b[0mself.process_part,               \u001b[2m                 \u001b[0m\n",
              "\u001b[2;36m                    \u001b[0m         \u001b[1;35mdataset.chunk_iterator\u001b[0m\u001b[1m(\u001b[0mrun.dataset_deps, chunk_size\u001b[1m)\u001b[0m,                \u001b[2m                 \u001b[0m\n",
              "\u001b[2;36m                    \u001b[0m           File                                                               \u001b[2m                 \u001b[0m\n",
              "\u001b[2;36m                    \u001b[0m         \u001b[32m\"/usr/local/lib/python3.10/dist-packages/vaex/multithreading.py\"\u001b[0m,    \u001b[2m                 \u001b[0m\n",
              "\u001b[2;36m                    \u001b[0m         line \u001b[1;36m104\u001b[0m, in map                                                     \u001b[2m                 \u001b[0m\n",
              "\u001b[2;36m                    \u001b[0m             for value in iterator:                                           \u001b[2m                 \u001b[0m\n",
              "\u001b[2;36m                    \u001b[0m           File \u001b[32m\"/usr/local/lib/python3.10/dist-packages/vaex/itertools.py\"\u001b[0m,  \u001b[2m                 \u001b[0m\n",
              "\u001b[2;36m                    \u001b[0m         line \u001b[1;36m5\u001b[0m, in buffer                                                    \u001b[2m                 \u001b[0m\n",
              "\u001b[2;36m                    \u001b[0m             \u001b[1;35mvalues.append\u001b[0m\u001b[1m(\u001b[0m\u001b[1;35mnext\u001b[0m\u001b[1m(\u001b[0mi\u001b[1m)\u001b[0m\u001b[1m)\u001b[0m                                           \u001b[2m                 \u001b[0m\n",
              "\u001b[2;36m                    \u001b[0m           File \u001b[32m\"/usr/lib/python3.10/concurrent/futures/_base.py\"\u001b[0m, line \u001b[1;36m621\u001b[0m,  \u001b[2m                 \u001b[0m\n",
              "\u001b[2;36m                    \u001b[0m         in result_iterator                                                   \u001b[2m                 \u001b[0m\n",
              "\u001b[2;36m                    \u001b[0m             yield \u001b[1;35m_result_or_cancel\u001b[0m\u001b[1m(\u001b[0m\u001b[1;35mfs.pop\u001b[0m\u001b[1m(\u001b[0m\u001b[1m)\u001b[0m\u001b[1m)\u001b[0m                                \u001b[2m                 \u001b[0m\n",
              "\u001b[2;36m                    \u001b[0m           File \u001b[32m\"/usr/lib/python3.10/concurrent/futures/_base.py\"\u001b[0m, line \u001b[1;36m319\u001b[0m,  \u001b[2m                 \u001b[0m\n",
              "\u001b[2;36m                    \u001b[0m         in _result_or_cancel                                                 \u001b[2m                 \u001b[0m\n",
              "\u001b[2;36m                    \u001b[0m             return \u001b[1;35mfut.result\u001b[0m\u001b[1m(\u001b[0mtimeout\u001b[1m)\u001b[0m                                       \u001b[2m                 \u001b[0m\n",
              "\u001b[2;36m                    \u001b[0m           File \u001b[32m\"/usr/lib/python3.10/concurrent/futures/_base.py\"\u001b[0m, line \u001b[1;36m453\u001b[0m,  \u001b[2m                 \u001b[0m\n",
              "\u001b[2;36m                    \u001b[0m         in result                                                            \u001b[2m                 \u001b[0m\n",
              "\u001b[2;36m                    \u001b[0m             \u001b[1;35mself._condition.wait\u001b[0m\u001b[1m(\u001b[0mtimeout\u001b[1m)\u001b[0m                                    \u001b[2m                 \u001b[0m\n",
              "\u001b[2;36m                    \u001b[0m           File \u001b[32m\"/usr/lib/python3.10/threading.py\"\u001b[0m, line \u001b[1;36m320\u001b[0m, in wait         \u001b[2m                 \u001b[0m\n",
              "\u001b[2;36m                    \u001b[0m             \u001b[1;35mwaiter.acquire\u001b[0m\u001b[1m(\u001b[0m\u001b[1m)\u001b[0m                                                 \u001b[2m                 \u001b[0m\n",
              "\u001b[2;36m                    \u001b[0m         KeyboardInterrupt                                                    \u001b[2m                 \u001b[0m\n",
              "\u001b[2;36m                    \u001b[0m                                                                              \u001b[2m                 \u001b[0m\n",
              "\u001b[2;36m                    \u001b[0m         During handling of the above exception, another exception occurred:  \u001b[2m                 \u001b[0m\n",
              "\u001b[2;36m                    \u001b[0m                                                                              \u001b[2m                 \u001b[0m\n",
              "\u001b[2;36m                    \u001b[0m         Traceback \u001b[1m(\u001b[0mmost recent call last\u001b[1m)\u001b[0m:                                   \u001b[2m                 \u001b[0m\n",
              "\u001b[2;36m                    \u001b[0m           File \u001b[32m\"/usr/local/lib/python3.10/dist-packages/vaex/dataframe.py\"\u001b[0m,  \u001b[2m                 \u001b[0m\n",
              "\u001b[2;36m                    \u001b[0m         line \u001b[1;36m4098\u001b[0m, in table_part                                             \u001b[2m                 \u001b[0m\n",
              "\u001b[2;36m                    \u001b[0m             values\u001b[1m[\u001b[0mname\u001b[1m]\u001b[0m = \u001b[1;35mdf.evaluate\u001b[0m\u001b[1m(\u001b[0mname\u001b[1m)\u001b[0m                                 \u001b[2m                 \u001b[0m\n",
              "\u001b[2;36m                    \u001b[0m           File \u001b[32m\"/usr/local/lib/python3.10/dist-packages/vaex/dataframe.py\"\u001b[0m,  \u001b[2m                 \u001b[0m\n",
              "\u001b[2;36m                    \u001b[0m         line \u001b[1;36m3095\u001b[0m, in evaluate                                               \u001b[2m                 \u001b[0m\n",
              "\u001b[2;36m                    \u001b[0m             return \u001b[1;35mself._evaluate_implementation\u001b[0m\u001b[1m(\u001b[0mexpression, \u001b[33mi1\u001b[0m=\u001b[35mi1\u001b[0m, \u001b[33mi2\u001b[0m=\u001b[35mi2\u001b[0m,   \u001b[2m                 \u001b[0m\n",
              "\u001b[2;36m                    \u001b[0m         \u001b[33mout\u001b[0m=\u001b[35mout\u001b[0m, \u001b[33mselection\u001b[0m=\u001b[35mselection\u001b[0m, \u001b[33mfiltered\u001b[0m=\u001b[35mfiltered\u001b[0m,                     \u001b[2m                 \u001b[0m\n",
              "\u001b[2;36m                    \u001b[0m         \u001b[33marray_type\u001b[0m=\u001b[35marray_type\u001b[0m, \u001b[33mparallel\u001b[0m=\u001b[35mparallel\u001b[0m, \u001b[33mchunk_size\u001b[0m=\u001b[35mchunk_size\u001b[0m,     \u001b[2m                 \u001b[0m\n",
              "\u001b[2;36m                    \u001b[0m         \u001b[33mprogress\u001b[0m=\u001b[35mprogress\u001b[0m\u001b[1m)\u001b[0m                                                   \u001b[2m                 \u001b[0m\n",
              "\u001b[2;36m                    \u001b[0m           File \u001b[32m\"/usr/local/lib/python3.10/dist-packages/vaex/dataframe.py\"\u001b[0m,  \u001b[2m                 \u001b[0m\n",
              "\u001b[2;36m                    \u001b[0m         line \u001b[1;36m6494\u001b[0m, in _evaluate_implementation                               \u001b[2m                 \u001b[0m\n",
              "\u001b[2;36m                    \u001b[0m             \u001b[1;35mdf.map_reduce\u001b[0m\u001b[1m(\u001b[0massign, lambda *_: \u001b[3;35mNone\u001b[0m, expression_to_evaluate,   \u001b[2m                 \u001b[0m\n",
              "\u001b[2;36m                    \u001b[0m         \u001b[33mprogress\u001b[0m=\u001b[35mprogress\u001b[0m, \u001b[33mignore_filter\u001b[0m=\u001b[3;91mFalse\u001b[0m, \u001b[33mselection\u001b[0m=\u001b[35mselection\u001b[0m,         \u001b[2m                 \u001b[0m\n",
              "\u001b[2;36m                    \u001b[0m         \u001b[33mpre_filter\u001b[0m=\u001b[35muse_filter\u001b[0m, \u001b[33minfo\u001b[0m=\u001b[3;92mTrue\u001b[0m, \u001b[33mto_numpy\u001b[0m=\u001b[3;91mFalse\u001b[0m, \u001b[33mname\u001b[0m=\u001b[32m\"evaluate\"\u001b[0m\u001b[1m)\u001b[0m   \u001b[2m                 \u001b[0m\n",
              "\u001b[2;36m                    \u001b[0m           File \u001b[32m\"/usr/local/lib/python3.10/dist-packages/vaex/dataframe.py\"\u001b[0m,  \u001b[2m                 \u001b[0m\n",
              "\u001b[2;36m                    \u001b[0m         line \u001b[1;36m438\u001b[0m, in map_reduce                                              \u001b[2m                 \u001b[0m\n",
              "\u001b[2;36m                    \u001b[0m             return \u001b[1;35mself._delay\u001b[0m\u001b[1m(\u001b[0mdelay, task\u001b[1m)\u001b[0m                                  \u001b[2m                 \u001b[0m\n",
              "\u001b[2;36m                    \u001b[0m           File \u001b[32m\"/usr/local/lib/python3.10/dist-packages/vaex/dataframe.py\"\u001b[0m,  \u001b[2m                 \u001b[0m\n",
              "\u001b[2;36m                    \u001b[0m         line \u001b[1;36m1780\u001b[0m, in _delay                                                 \u001b[2m                 \u001b[0m\n",
              "\u001b[2;36m                    \u001b[0m             \u001b[1;35mself.execute\u001b[0m\u001b[1m(\u001b[0m\u001b[1m)\u001b[0m                                                   \u001b[2m                 \u001b[0m\n",
              "\u001b[2;36m                    \u001b[0m           File \u001b[32m\"/usr/local/lib/python3.10/dist-packages/vaex/dataframe.py\"\u001b[0m,  \u001b[2m                 \u001b[0m\n",
              "\u001b[2;36m                    \u001b[0m         line \u001b[1;36m421\u001b[0m, in execute                                                 \u001b[2m                 \u001b[0m\n",
              "\u001b[2;36m                    \u001b[0m             \u001b[1;35mself.executor.execute\u001b[0m\u001b[1m(\u001b[0m\u001b[1m)\u001b[0m                                          \u001b[2m                 \u001b[0m\n",
              "\u001b[2;36m                    \u001b[0m           File \u001b[32m\"/usr/local/lib/python3.10/dist-packages/vaex/execution.py\"\u001b[0m,  \u001b[2m                 \u001b[0m\n",
              "\u001b[2;36m                    \u001b[0m         line \u001b[1;36m308\u001b[0m, in execute                                                 \u001b[2m                 \u001b[0m\n",
              "\u001b[2;36m                    \u001b[0m             for _ in \u001b[1;35mself.execute_generator\u001b[0m\u001b[1m(\u001b[0m\u001b[1m)\u001b[0m:                               \u001b[2m                 \u001b[0m\n",
              "\u001b[2;36m                    \u001b[0m           File \u001b[32m\"/usr/local/lib/python3.10/dist-packages/vaex/execution.py\"\u001b[0m,  \u001b[2m                 \u001b[0m\n",
              "\u001b[2;36m                    \u001b[0m         line \u001b[1;36m432\u001b[0m, in execute_generator                                       \u001b[2m                 \u001b[0m\n",
              "\u001b[2;36m                    \u001b[0m             yield from \u001b[1;35mself.thread_pool.map\u001b[0m\u001b[1m(\u001b[0mself.process_part,               \u001b[2m                 \u001b[0m\n",
              "\u001b[2;36m                    \u001b[0m         \u001b[1;35mdataset.chunk_iterator\u001b[0m\u001b[1m(\u001b[0mrun.dataset_deps, chunk_size\u001b[1m)\u001b[0m,                \u001b[2m                 \u001b[0m\n",
              "\u001b[2;36m                    \u001b[0m           File                                                               \u001b[2m                 \u001b[0m\n",
              "\u001b[2;36m                    \u001b[0m         \u001b[32m\"/usr/local/lib/python3.10/dist-packages/vaex/multithreading.py\"\u001b[0m,    \u001b[2m                 \u001b[0m\n",
              "\u001b[2;36m                    \u001b[0m         line \u001b[1;36m104\u001b[0m, in map                                                     \u001b[2m                 \u001b[0m\n",
              "\u001b[2;36m                    \u001b[0m             for value in iterator:                                           \u001b[2m                 \u001b[0m\n",
              "\u001b[2;36m                    \u001b[0m           File \u001b[32m\"/usr/local/lib/python3.10/dist-packages/vaex/itertools.py\"\u001b[0m,  \u001b[2m                 \u001b[0m\n",
              "\u001b[2;36m                    \u001b[0m         line \u001b[1;36m5\u001b[0m, in buffer                                                    \u001b[2m                 \u001b[0m\n",
              "\u001b[2;36m                    \u001b[0m             \u001b[1;35mvalues.append\u001b[0m\u001b[1m(\u001b[0m\u001b[1;35mnext\u001b[0m\u001b[1m(\u001b[0mi\u001b[1m)\u001b[0m\u001b[1m)\u001b[0m                                           \u001b[2m                 \u001b[0m\n",
              "\u001b[2;36m                    \u001b[0m           File \u001b[32m\"/usr/lib/python3.10/concurrent/futures/_base.py\"\u001b[0m, line \u001b[1;36m621\u001b[0m,  \u001b[2m                 \u001b[0m\n",
              "\u001b[2;36m                    \u001b[0m         in result_iterator                                                   \u001b[2m                 \u001b[0m\n",
              "\u001b[2;36m                    \u001b[0m             yield \u001b[1;35m_result_or_cancel\u001b[0m\u001b[1m(\u001b[0m\u001b[1;35mfs.pop\u001b[0m\u001b[1m(\u001b[0m\u001b[1m)\u001b[0m\u001b[1m)\u001b[0m                                \u001b[2m                 \u001b[0m\n",
              "\u001b[2;36m                    \u001b[0m           File \u001b[32m\"/usr/lib/python3.10/concurrent/futures/_base.py\"\u001b[0m, line \u001b[1;36m319\u001b[0m,  \u001b[2m                 \u001b[0m\n",
              "\u001b[2;36m                    \u001b[0m         in _result_or_cancel                                                 \u001b[2m                 \u001b[0m\n",
              "\u001b[2;36m                    \u001b[0m             return \u001b[1;35mfut.result\u001b[0m\u001b[1m(\u001b[0mtimeout\u001b[1m)\u001b[0m                                       \u001b[2m                 \u001b[0m\n",
              "\u001b[2;36m                    \u001b[0m           File \u001b[32m\"/usr/lib/python3.10/concurrent/futures/_base.py\"\u001b[0m, line \u001b[1;36m453\u001b[0m,  \u001b[2m                 \u001b[0m\n",
              "\u001b[2;36m                    \u001b[0m         in result                                                            \u001b[2m                 \u001b[0m\n",
              "\u001b[2;36m                    \u001b[0m             \u001b[1;35mself._condition.wait\u001b[0m\u001b[1m(\u001b[0mtimeout\u001b[1m)\u001b[0m                                    \u001b[2m                 \u001b[0m\n",
              "\u001b[2;36m                    \u001b[0m           File \u001b[32m\"/usr/lib/python3.10/threading.py\"\u001b[0m, line \u001b[1;36m320\u001b[0m, in wait         \u001b[2m                 \u001b[0m\n",
              "\u001b[2;36m                    \u001b[0m             \u001b[1;35mwaiter.acquire\u001b[0m\u001b[1m(\u001b[0m\u001b[1m)\u001b[0m                                                 \u001b[2m                 \u001b[0m\n",
              "\u001b[2;36m                    \u001b[0m         KeyboardInterrupt                                                    \u001b[2m                 \u001b[0m\n"
            ],
            "text/html": [
              "<pre style=\"white-space:pre;overflow-x:auto;line-height:normal;font-family:Menlo,'DejaVu Sans Mono',consolas,'Courier New',monospace\"><span style=\"color: #7fbfbf; text-decoration-color: #7fbfbf\">[09/11/24 10:25:34] </span><span style=\"color: #800000; text-decoration-color: #800000; font-weight: bold\">ERROR   </span> error evaluating: transformed_text at rows <span style=\"color: #008080; text-decoration-color: #008080; font-weight: bold\">0</span>-<span style=\"color: #008080; text-decoration-color: #008080; font-weight: bold\">5</span>                       <a href=\"file:///usr/local/lib/python3.10/dist-packages/vaex/dataframe.py\" target=\"_blank\"><span style=\"color: #7f7f7f; text-decoration-color: #7f7f7f\">dataframe.py</span></a><span style=\"color: #7f7f7f; text-decoration-color: #7f7f7f\">:</span><a href=\"file:///usr/local/lib/python3.10/dist-packages/vaex/dataframe.py#4101\" target=\"_blank\"><span style=\"color: #7f7f7f; text-decoration-color: #7f7f7f\">4101</span></a>\n",
              "<span style=\"color: #7fbfbf; text-decoration-color: #7fbfbf\">                    </span>         Traceback <span style=\"font-weight: bold\">(</span>most recent call last<span style=\"font-weight: bold\">)</span>:                                   <span style=\"color: #7f7f7f; text-decoration-color: #7f7f7f\">                 </span>\n",
              "<span style=\"color: #7fbfbf; text-decoration-color: #7fbfbf\">                    </span>           File <span style=\"color: #008000; text-decoration-color: #008000\">\"/usr/local/lib/python3.10/dist-packages/vaex/dataframe.py\"</span>,  <span style=\"color: #7f7f7f; text-decoration-color: #7f7f7f\">                 </span>\n",
              "<span style=\"color: #7fbfbf; text-decoration-color: #7fbfbf\">                    </span>         line <span style=\"color: #008080; text-decoration-color: #008080; font-weight: bold\">4093</span>, in table_part                                             <span style=\"color: #7f7f7f; text-decoration-color: #7f7f7f\">                 </span>\n",
              "<span style=\"color: #7fbfbf; text-decoration-color: #7fbfbf\">                    </span>             values = <span style=\"color: #800080; text-decoration-color: #800080; font-weight: bold\">dict</span><span style=\"font-weight: bold\">(</span><span style=\"color: #800080; text-decoration-color: #800080; font-weight: bold\">zip</span><span style=\"font-weight: bold\">(</span>column_names, <span style=\"color: #800080; text-decoration-color: #800080; font-weight: bold\">df.evaluate</span><span style=\"font-weight: bold\">(</span>column_names<span style=\"font-weight: bold\">)))</span>      <span style=\"color: #7f7f7f; text-decoration-color: #7f7f7f\">                 </span>\n",
              "<span style=\"color: #7fbfbf; text-decoration-color: #7fbfbf\">                    </span>           File <span style=\"color: #008000; text-decoration-color: #008000\">\"/usr/local/lib/python3.10/dist-packages/vaex/dataframe.py\"</span>,  <span style=\"color: #7f7f7f; text-decoration-color: #7f7f7f\">                 </span>\n",
              "<span style=\"color: #7fbfbf; text-decoration-color: #7fbfbf\">                    </span>         line <span style=\"color: #008080; text-decoration-color: #008080; font-weight: bold\">3095</span>, in evaluate                                               <span style=\"color: #7f7f7f; text-decoration-color: #7f7f7f\">                 </span>\n",
              "<span style=\"color: #7fbfbf; text-decoration-color: #7fbfbf\">                    </span>             return <span style=\"color: #800080; text-decoration-color: #800080; font-weight: bold\">self._evaluate_implementation</span><span style=\"font-weight: bold\">(</span>expression, <span style=\"color: #808000; text-decoration-color: #808000\">i1</span>=<span style=\"color: #800080; text-decoration-color: #800080\">i1</span>, <span style=\"color: #808000; text-decoration-color: #808000\">i2</span>=<span style=\"color: #800080; text-decoration-color: #800080\">i2</span>,   <span style=\"color: #7f7f7f; text-decoration-color: #7f7f7f\">                 </span>\n",
              "<span style=\"color: #7fbfbf; text-decoration-color: #7fbfbf\">                    </span>         <span style=\"color: #808000; text-decoration-color: #808000\">out</span>=<span style=\"color: #800080; text-decoration-color: #800080\">out</span>, <span style=\"color: #808000; text-decoration-color: #808000\">selection</span>=<span style=\"color: #800080; text-decoration-color: #800080\">selection</span>, <span style=\"color: #808000; text-decoration-color: #808000\">filtered</span>=<span style=\"color: #800080; text-decoration-color: #800080\">filtered</span>,                     <span style=\"color: #7f7f7f; text-decoration-color: #7f7f7f\">                 </span>\n",
              "<span style=\"color: #7fbfbf; text-decoration-color: #7fbfbf\">                    </span>         <span style=\"color: #808000; text-decoration-color: #808000\">array_type</span>=<span style=\"color: #800080; text-decoration-color: #800080\">array_type</span>, <span style=\"color: #808000; text-decoration-color: #808000\">parallel</span>=<span style=\"color: #800080; text-decoration-color: #800080\">parallel</span>, <span style=\"color: #808000; text-decoration-color: #808000\">chunk_size</span>=<span style=\"color: #800080; text-decoration-color: #800080\">chunk_size</span>,     <span style=\"color: #7f7f7f; text-decoration-color: #7f7f7f\">                 </span>\n",
              "<span style=\"color: #7fbfbf; text-decoration-color: #7fbfbf\">                    </span>         <span style=\"color: #808000; text-decoration-color: #808000\">progress</span>=<span style=\"color: #800080; text-decoration-color: #800080\">progress</span><span style=\"font-weight: bold\">)</span>                                                   <span style=\"color: #7f7f7f; text-decoration-color: #7f7f7f\">                 </span>\n",
              "<span style=\"color: #7fbfbf; text-decoration-color: #7fbfbf\">                    </span>           File <span style=\"color: #008000; text-decoration-color: #008000\">\"/usr/local/lib/python3.10/dist-packages/vaex/dataframe.py\"</span>,  <span style=\"color: #7f7f7f; text-decoration-color: #7f7f7f\">                 </span>\n",
              "<span style=\"color: #7fbfbf; text-decoration-color: #7fbfbf\">                    </span>         line <span style=\"color: #008080; text-decoration-color: #008080; font-weight: bold\">6494</span>, in _evaluate_implementation                               <span style=\"color: #7f7f7f; text-decoration-color: #7f7f7f\">                 </span>\n",
              "<span style=\"color: #7fbfbf; text-decoration-color: #7fbfbf\">                    </span>             <span style=\"color: #800080; text-decoration-color: #800080; font-weight: bold\">df.map_reduce</span><span style=\"font-weight: bold\">(</span>assign, lambda *_: <span style=\"color: #800080; text-decoration-color: #800080; font-style: italic\">None</span>, expression_to_evaluate,   <span style=\"color: #7f7f7f; text-decoration-color: #7f7f7f\">                 </span>\n",
              "<span style=\"color: #7fbfbf; text-decoration-color: #7fbfbf\">                    </span>         <span style=\"color: #808000; text-decoration-color: #808000\">progress</span>=<span style=\"color: #800080; text-decoration-color: #800080\">progress</span>, <span style=\"color: #808000; text-decoration-color: #808000\">ignore_filter</span>=<span style=\"color: #ff0000; text-decoration-color: #ff0000; font-style: italic\">False</span>, <span style=\"color: #808000; text-decoration-color: #808000\">selection</span>=<span style=\"color: #800080; text-decoration-color: #800080\">selection</span>,         <span style=\"color: #7f7f7f; text-decoration-color: #7f7f7f\">                 </span>\n",
              "<span style=\"color: #7fbfbf; text-decoration-color: #7fbfbf\">                    </span>         <span style=\"color: #808000; text-decoration-color: #808000\">pre_filter</span>=<span style=\"color: #800080; text-decoration-color: #800080\">use_filter</span>, <span style=\"color: #808000; text-decoration-color: #808000\">info</span>=<span style=\"color: #00ff00; text-decoration-color: #00ff00; font-style: italic\">True</span>, <span style=\"color: #808000; text-decoration-color: #808000\">to_numpy</span>=<span style=\"color: #ff0000; text-decoration-color: #ff0000; font-style: italic\">False</span>, <span style=\"color: #808000; text-decoration-color: #808000\">name</span>=<span style=\"color: #008000; text-decoration-color: #008000\">\"evaluate\"</span><span style=\"font-weight: bold\">)</span>   <span style=\"color: #7f7f7f; text-decoration-color: #7f7f7f\">                 </span>\n",
              "<span style=\"color: #7fbfbf; text-decoration-color: #7fbfbf\">                    </span>           File <span style=\"color: #008000; text-decoration-color: #008000\">\"/usr/local/lib/python3.10/dist-packages/vaex/dataframe.py\"</span>,  <span style=\"color: #7f7f7f; text-decoration-color: #7f7f7f\">                 </span>\n",
              "<span style=\"color: #7fbfbf; text-decoration-color: #7fbfbf\">                    </span>         line <span style=\"color: #008080; text-decoration-color: #008080; font-weight: bold\">438</span>, in map_reduce                                              <span style=\"color: #7f7f7f; text-decoration-color: #7f7f7f\">                 </span>\n",
              "<span style=\"color: #7fbfbf; text-decoration-color: #7fbfbf\">                    </span>             return <span style=\"color: #800080; text-decoration-color: #800080; font-weight: bold\">self._delay</span><span style=\"font-weight: bold\">(</span>delay, task<span style=\"font-weight: bold\">)</span>                                  <span style=\"color: #7f7f7f; text-decoration-color: #7f7f7f\">                 </span>\n",
              "<span style=\"color: #7fbfbf; text-decoration-color: #7fbfbf\">                    </span>           File <span style=\"color: #008000; text-decoration-color: #008000\">\"/usr/local/lib/python3.10/dist-packages/vaex/dataframe.py\"</span>,  <span style=\"color: #7f7f7f; text-decoration-color: #7f7f7f\">                 </span>\n",
              "<span style=\"color: #7fbfbf; text-decoration-color: #7fbfbf\">                    </span>         line <span style=\"color: #008080; text-decoration-color: #008080; font-weight: bold\">1780</span>, in _delay                                                 <span style=\"color: #7f7f7f; text-decoration-color: #7f7f7f\">                 </span>\n",
              "<span style=\"color: #7fbfbf; text-decoration-color: #7fbfbf\">                    </span>             <span style=\"color: #800080; text-decoration-color: #800080; font-weight: bold\">self.execute</span><span style=\"font-weight: bold\">()</span>                                                   <span style=\"color: #7f7f7f; text-decoration-color: #7f7f7f\">                 </span>\n",
              "<span style=\"color: #7fbfbf; text-decoration-color: #7fbfbf\">                    </span>           File <span style=\"color: #008000; text-decoration-color: #008000\">\"/usr/local/lib/python3.10/dist-packages/vaex/dataframe.py\"</span>,  <span style=\"color: #7f7f7f; text-decoration-color: #7f7f7f\">                 </span>\n",
              "<span style=\"color: #7fbfbf; text-decoration-color: #7fbfbf\">                    </span>         line <span style=\"color: #008080; text-decoration-color: #008080; font-weight: bold\">421</span>, in execute                                                 <span style=\"color: #7f7f7f; text-decoration-color: #7f7f7f\">                 </span>\n",
              "<span style=\"color: #7fbfbf; text-decoration-color: #7fbfbf\">                    </span>             <span style=\"color: #800080; text-decoration-color: #800080; font-weight: bold\">self.executor.execute</span><span style=\"font-weight: bold\">()</span>                                          <span style=\"color: #7f7f7f; text-decoration-color: #7f7f7f\">                 </span>\n",
              "<span style=\"color: #7fbfbf; text-decoration-color: #7fbfbf\">                    </span>           File <span style=\"color: #008000; text-decoration-color: #008000\">\"/usr/local/lib/python3.10/dist-packages/vaex/execution.py\"</span>,  <span style=\"color: #7f7f7f; text-decoration-color: #7f7f7f\">                 </span>\n",
              "<span style=\"color: #7fbfbf; text-decoration-color: #7fbfbf\">                    </span>         line <span style=\"color: #008080; text-decoration-color: #008080; font-weight: bold\">308</span>, in execute                                                 <span style=\"color: #7f7f7f; text-decoration-color: #7f7f7f\">                 </span>\n",
              "<span style=\"color: #7fbfbf; text-decoration-color: #7fbfbf\">                    </span>             for _ in <span style=\"color: #800080; text-decoration-color: #800080; font-weight: bold\">self.execute_generator</span><span style=\"font-weight: bold\">()</span>:                               <span style=\"color: #7f7f7f; text-decoration-color: #7f7f7f\">                 </span>\n",
              "<span style=\"color: #7fbfbf; text-decoration-color: #7fbfbf\">                    </span>           File <span style=\"color: #008000; text-decoration-color: #008000\">\"/usr/local/lib/python3.10/dist-packages/vaex/execution.py\"</span>,  <span style=\"color: #7f7f7f; text-decoration-color: #7f7f7f\">                 </span>\n",
              "<span style=\"color: #7fbfbf; text-decoration-color: #7fbfbf\">                    </span>         line <span style=\"color: #008080; text-decoration-color: #008080; font-weight: bold\">432</span>, in execute_generator                                       <span style=\"color: #7f7f7f; text-decoration-color: #7f7f7f\">                 </span>\n",
              "<span style=\"color: #7fbfbf; text-decoration-color: #7fbfbf\">                    </span>             yield from <span style=\"color: #800080; text-decoration-color: #800080; font-weight: bold\">self.thread_pool.map</span><span style=\"font-weight: bold\">(</span>self.process_part,               <span style=\"color: #7f7f7f; text-decoration-color: #7f7f7f\">                 </span>\n",
              "<span style=\"color: #7fbfbf; text-decoration-color: #7fbfbf\">                    </span>         <span style=\"color: #800080; text-decoration-color: #800080; font-weight: bold\">dataset.chunk_iterator</span><span style=\"font-weight: bold\">(</span>run.dataset_deps, chunk_size<span style=\"font-weight: bold\">)</span>,                <span style=\"color: #7f7f7f; text-decoration-color: #7f7f7f\">                 </span>\n",
              "<span style=\"color: #7fbfbf; text-decoration-color: #7fbfbf\">                    </span>           File                                                               <span style=\"color: #7f7f7f; text-decoration-color: #7f7f7f\">                 </span>\n",
              "<span style=\"color: #7fbfbf; text-decoration-color: #7fbfbf\">                    </span>         <span style=\"color: #008000; text-decoration-color: #008000\">\"/usr/local/lib/python3.10/dist-packages/vaex/multithreading.py\"</span>,    <span style=\"color: #7f7f7f; text-decoration-color: #7f7f7f\">                 </span>\n",
              "<span style=\"color: #7fbfbf; text-decoration-color: #7fbfbf\">                    </span>         line <span style=\"color: #008080; text-decoration-color: #008080; font-weight: bold\">104</span>, in map                                                     <span style=\"color: #7f7f7f; text-decoration-color: #7f7f7f\">                 </span>\n",
              "<span style=\"color: #7fbfbf; text-decoration-color: #7fbfbf\">                    </span>             for value in iterator:                                           <span style=\"color: #7f7f7f; text-decoration-color: #7f7f7f\">                 </span>\n",
              "<span style=\"color: #7fbfbf; text-decoration-color: #7fbfbf\">                    </span>           File <span style=\"color: #008000; text-decoration-color: #008000\">\"/usr/local/lib/python3.10/dist-packages/vaex/itertools.py\"</span>,  <span style=\"color: #7f7f7f; text-decoration-color: #7f7f7f\">                 </span>\n",
              "<span style=\"color: #7fbfbf; text-decoration-color: #7fbfbf\">                    </span>         line <span style=\"color: #008080; text-decoration-color: #008080; font-weight: bold\">5</span>, in buffer                                                    <span style=\"color: #7f7f7f; text-decoration-color: #7f7f7f\">                 </span>\n",
              "<span style=\"color: #7fbfbf; text-decoration-color: #7fbfbf\">                    </span>             <span style=\"color: #800080; text-decoration-color: #800080; font-weight: bold\">values.append</span><span style=\"font-weight: bold\">(</span><span style=\"color: #800080; text-decoration-color: #800080; font-weight: bold\">next</span><span style=\"font-weight: bold\">(</span>i<span style=\"font-weight: bold\">))</span>                                           <span style=\"color: #7f7f7f; text-decoration-color: #7f7f7f\">                 </span>\n",
              "<span style=\"color: #7fbfbf; text-decoration-color: #7fbfbf\">                    </span>           File <span style=\"color: #008000; text-decoration-color: #008000\">\"/usr/lib/python3.10/concurrent/futures/_base.py\"</span>, line <span style=\"color: #008080; text-decoration-color: #008080; font-weight: bold\">621</span>,  <span style=\"color: #7f7f7f; text-decoration-color: #7f7f7f\">                 </span>\n",
              "<span style=\"color: #7fbfbf; text-decoration-color: #7fbfbf\">                    </span>         in result_iterator                                                   <span style=\"color: #7f7f7f; text-decoration-color: #7f7f7f\">                 </span>\n",
              "<span style=\"color: #7fbfbf; text-decoration-color: #7fbfbf\">                    </span>             yield <span style=\"color: #800080; text-decoration-color: #800080; font-weight: bold\">_result_or_cancel</span><span style=\"font-weight: bold\">(</span><span style=\"color: #800080; text-decoration-color: #800080; font-weight: bold\">fs.pop</span><span style=\"font-weight: bold\">())</span>                                <span style=\"color: #7f7f7f; text-decoration-color: #7f7f7f\">                 </span>\n",
              "<span style=\"color: #7fbfbf; text-decoration-color: #7fbfbf\">                    </span>           File <span style=\"color: #008000; text-decoration-color: #008000\">\"/usr/lib/python3.10/concurrent/futures/_base.py\"</span>, line <span style=\"color: #008080; text-decoration-color: #008080; font-weight: bold\">319</span>,  <span style=\"color: #7f7f7f; text-decoration-color: #7f7f7f\">                 </span>\n",
              "<span style=\"color: #7fbfbf; text-decoration-color: #7fbfbf\">                    </span>         in _result_or_cancel                                                 <span style=\"color: #7f7f7f; text-decoration-color: #7f7f7f\">                 </span>\n",
              "<span style=\"color: #7fbfbf; text-decoration-color: #7fbfbf\">                    </span>             return <span style=\"color: #800080; text-decoration-color: #800080; font-weight: bold\">fut.result</span><span style=\"font-weight: bold\">(</span>timeout<span style=\"font-weight: bold\">)</span>                                       <span style=\"color: #7f7f7f; text-decoration-color: #7f7f7f\">                 </span>\n",
              "<span style=\"color: #7fbfbf; text-decoration-color: #7fbfbf\">                    </span>           File <span style=\"color: #008000; text-decoration-color: #008000\">\"/usr/lib/python3.10/concurrent/futures/_base.py\"</span>, line <span style=\"color: #008080; text-decoration-color: #008080; font-weight: bold\">453</span>,  <span style=\"color: #7f7f7f; text-decoration-color: #7f7f7f\">                 </span>\n",
              "<span style=\"color: #7fbfbf; text-decoration-color: #7fbfbf\">                    </span>         in result                                                            <span style=\"color: #7f7f7f; text-decoration-color: #7f7f7f\">                 </span>\n",
              "<span style=\"color: #7fbfbf; text-decoration-color: #7fbfbf\">                    </span>             <span style=\"color: #800080; text-decoration-color: #800080; font-weight: bold\">self._condition.wait</span><span style=\"font-weight: bold\">(</span>timeout<span style=\"font-weight: bold\">)</span>                                    <span style=\"color: #7f7f7f; text-decoration-color: #7f7f7f\">                 </span>\n",
              "<span style=\"color: #7fbfbf; text-decoration-color: #7fbfbf\">                    </span>           File <span style=\"color: #008000; text-decoration-color: #008000\">\"/usr/lib/python3.10/threading.py\"</span>, line <span style=\"color: #008080; text-decoration-color: #008080; font-weight: bold\">320</span>, in wait         <span style=\"color: #7f7f7f; text-decoration-color: #7f7f7f\">                 </span>\n",
              "<span style=\"color: #7fbfbf; text-decoration-color: #7fbfbf\">                    </span>             <span style=\"color: #800080; text-decoration-color: #800080; font-weight: bold\">waiter.acquire</span><span style=\"font-weight: bold\">()</span>                                                 <span style=\"color: #7f7f7f; text-decoration-color: #7f7f7f\">                 </span>\n",
              "<span style=\"color: #7fbfbf; text-decoration-color: #7fbfbf\">                    </span>         KeyboardInterrupt                                                    <span style=\"color: #7f7f7f; text-decoration-color: #7f7f7f\">                 </span>\n",
              "<span style=\"color: #7fbfbf; text-decoration-color: #7fbfbf\">                    </span>                                                                              <span style=\"color: #7f7f7f; text-decoration-color: #7f7f7f\">                 </span>\n",
              "<span style=\"color: #7fbfbf; text-decoration-color: #7fbfbf\">                    </span>         During handling of the above exception, another exception occurred:  <span style=\"color: #7f7f7f; text-decoration-color: #7f7f7f\">                 </span>\n",
              "<span style=\"color: #7fbfbf; text-decoration-color: #7fbfbf\">                    </span>                                                                              <span style=\"color: #7f7f7f; text-decoration-color: #7f7f7f\">                 </span>\n",
              "<span style=\"color: #7fbfbf; text-decoration-color: #7fbfbf\">                    </span>         Traceback <span style=\"font-weight: bold\">(</span>most recent call last<span style=\"font-weight: bold\">)</span>:                                   <span style=\"color: #7f7f7f; text-decoration-color: #7f7f7f\">                 </span>\n",
              "<span style=\"color: #7fbfbf; text-decoration-color: #7fbfbf\">                    </span>           File <span style=\"color: #008000; text-decoration-color: #008000\">\"/usr/local/lib/python3.10/dist-packages/vaex/dataframe.py\"</span>,  <span style=\"color: #7f7f7f; text-decoration-color: #7f7f7f\">                 </span>\n",
              "<span style=\"color: #7fbfbf; text-decoration-color: #7fbfbf\">                    </span>         line <span style=\"color: #008080; text-decoration-color: #008080; font-weight: bold\">4098</span>, in table_part                                             <span style=\"color: #7f7f7f; text-decoration-color: #7f7f7f\">                 </span>\n",
              "<span style=\"color: #7fbfbf; text-decoration-color: #7fbfbf\">                    </span>             values<span style=\"font-weight: bold\">[</span>name<span style=\"font-weight: bold\">]</span> = <span style=\"color: #800080; text-decoration-color: #800080; font-weight: bold\">df.evaluate</span><span style=\"font-weight: bold\">(</span>name<span style=\"font-weight: bold\">)</span>                                 <span style=\"color: #7f7f7f; text-decoration-color: #7f7f7f\">                 </span>\n",
              "<span style=\"color: #7fbfbf; text-decoration-color: #7fbfbf\">                    </span>           File <span style=\"color: #008000; text-decoration-color: #008000\">\"/usr/local/lib/python3.10/dist-packages/vaex/dataframe.py\"</span>,  <span style=\"color: #7f7f7f; text-decoration-color: #7f7f7f\">                 </span>\n",
              "<span style=\"color: #7fbfbf; text-decoration-color: #7fbfbf\">                    </span>         line <span style=\"color: #008080; text-decoration-color: #008080; font-weight: bold\">3095</span>, in evaluate                                               <span style=\"color: #7f7f7f; text-decoration-color: #7f7f7f\">                 </span>\n",
              "<span style=\"color: #7fbfbf; text-decoration-color: #7fbfbf\">                    </span>             return <span style=\"color: #800080; text-decoration-color: #800080; font-weight: bold\">self._evaluate_implementation</span><span style=\"font-weight: bold\">(</span>expression, <span style=\"color: #808000; text-decoration-color: #808000\">i1</span>=<span style=\"color: #800080; text-decoration-color: #800080\">i1</span>, <span style=\"color: #808000; text-decoration-color: #808000\">i2</span>=<span style=\"color: #800080; text-decoration-color: #800080\">i2</span>,   <span style=\"color: #7f7f7f; text-decoration-color: #7f7f7f\">                 </span>\n",
              "<span style=\"color: #7fbfbf; text-decoration-color: #7fbfbf\">                    </span>         <span style=\"color: #808000; text-decoration-color: #808000\">out</span>=<span style=\"color: #800080; text-decoration-color: #800080\">out</span>, <span style=\"color: #808000; text-decoration-color: #808000\">selection</span>=<span style=\"color: #800080; text-decoration-color: #800080\">selection</span>, <span style=\"color: #808000; text-decoration-color: #808000\">filtered</span>=<span style=\"color: #800080; text-decoration-color: #800080\">filtered</span>,                     <span style=\"color: #7f7f7f; text-decoration-color: #7f7f7f\">                 </span>\n",
              "<span style=\"color: #7fbfbf; text-decoration-color: #7fbfbf\">                    </span>         <span style=\"color: #808000; text-decoration-color: #808000\">array_type</span>=<span style=\"color: #800080; text-decoration-color: #800080\">array_type</span>, <span style=\"color: #808000; text-decoration-color: #808000\">parallel</span>=<span style=\"color: #800080; text-decoration-color: #800080\">parallel</span>, <span style=\"color: #808000; text-decoration-color: #808000\">chunk_size</span>=<span style=\"color: #800080; text-decoration-color: #800080\">chunk_size</span>,     <span style=\"color: #7f7f7f; text-decoration-color: #7f7f7f\">                 </span>\n",
              "<span style=\"color: #7fbfbf; text-decoration-color: #7fbfbf\">                    </span>         <span style=\"color: #808000; text-decoration-color: #808000\">progress</span>=<span style=\"color: #800080; text-decoration-color: #800080\">progress</span><span style=\"font-weight: bold\">)</span>                                                   <span style=\"color: #7f7f7f; text-decoration-color: #7f7f7f\">                 </span>\n",
              "<span style=\"color: #7fbfbf; text-decoration-color: #7fbfbf\">                    </span>           File <span style=\"color: #008000; text-decoration-color: #008000\">\"/usr/local/lib/python3.10/dist-packages/vaex/dataframe.py\"</span>,  <span style=\"color: #7f7f7f; text-decoration-color: #7f7f7f\">                 </span>\n",
              "<span style=\"color: #7fbfbf; text-decoration-color: #7fbfbf\">                    </span>         line <span style=\"color: #008080; text-decoration-color: #008080; font-weight: bold\">6494</span>, in _evaluate_implementation                               <span style=\"color: #7f7f7f; text-decoration-color: #7f7f7f\">                 </span>\n",
              "<span style=\"color: #7fbfbf; text-decoration-color: #7fbfbf\">                    </span>             <span style=\"color: #800080; text-decoration-color: #800080; font-weight: bold\">df.map_reduce</span><span style=\"font-weight: bold\">(</span>assign, lambda *_: <span style=\"color: #800080; text-decoration-color: #800080; font-style: italic\">None</span>, expression_to_evaluate,   <span style=\"color: #7f7f7f; text-decoration-color: #7f7f7f\">                 </span>\n",
              "<span style=\"color: #7fbfbf; text-decoration-color: #7fbfbf\">                    </span>         <span style=\"color: #808000; text-decoration-color: #808000\">progress</span>=<span style=\"color: #800080; text-decoration-color: #800080\">progress</span>, <span style=\"color: #808000; text-decoration-color: #808000\">ignore_filter</span>=<span style=\"color: #ff0000; text-decoration-color: #ff0000; font-style: italic\">False</span>, <span style=\"color: #808000; text-decoration-color: #808000\">selection</span>=<span style=\"color: #800080; text-decoration-color: #800080\">selection</span>,         <span style=\"color: #7f7f7f; text-decoration-color: #7f7f7f\">                 </span>\n",
              "<span style=\"color: #7fbfbf; text-decoration-color: #7fbfbf\">                    </span>         <span style=\"color: #808000; text-decoration-color: #808000\">pre_filter</span>=<span style=\"color: #800080; text-decoration-color: #800080\">use_filter</span>, <span style=\"color: #808000; text-decoration-color: #808000\">info</span>=<span style=\"color: #00ff00; text-decoration-color: #00ff00; font-style: italic\">True</span>, <span style=\"color: #808000; text-decoration-color: #808000\">to_numpy</span>=<span style=\"color: #ff0000; text-decoration-color: #ff0000; font-style: italic\">False</span>, <span style=\"color: #808000; text-decoration-color: #808000\">name</span>=<span style=\"color: #008000; text-decoration-color: #008000\">\"evaluate\"</span><span style=\"font-weight: bold\">)</span>   <span style=\"color: #7f7f7f; text-decoration-color: #7f7f7f\">                 </span>\n",
              "<span style=\"color: #7fbfbf; text-decoration-color: #7fbfbf\">                    </span>           File <span style=\"color: #008000; text-decoration-color: #008000\">\"/usr/local/lib/python3.10/dist-packages/vaex/dataframe.py\"</span>,  <span style=\"color: #7f7f7f; text-decoration-color: #7f7f7f\">                 </span>\n",
              "<span style=\"color: #7fbfbf; text-decoration-color: #7fbfbf\">                    </span>         line <span style=\"color: #008080; text-decoration-color: #008080; font-weight: bold\">438</span>, in map_reduce                                              <span style=\"color: #7f7f7f; text-decoration-color: #7f7f7f\">                 </span>\n",
              "<span style=\"color: #7fbfbf; text-decoration-color: #7fbfbf\">                    </span>             return <span style=\"color: #800080; text-decoration-color: #800080; font-weight: bold\">self._delay</span><span style=\"font-weight: bold\">(</span>delay, task<span style=\"font-weight: bold\">)</span>                                  <span style=\"color: #7f7f7f; text-decoration-color: #7f7f7f\">                 </span>\n",
              "<span style=\"color: #7fbfbf; text-decoration-color: #7fbfbf\">                    </span>           File <span style=\"color: #008000; text-decoration-color: #008000\">\"/usr/local/lib/python3.10/dist-packages/vaex/dataframe.py\"</span>,  <span style=\"color: #7f7f7f; text-decoration-color: #7f7f7f\">                 </span>\n",
              "<span style=\"color: #7fbfbf; text-decoration-color: #7fbfbf\">                    </span>         line <span style=\"color: #008080; text-decoration-color: #008080; font-weight: bold\">1780</span>, in _delay                                                 <span style=\"color: #7f7f7f; text-decoration-color: #7f7f7f\">                 </span>\n",
              "<span style=\"color: #7fbfbf; text-decoration-color: #7fbfbf\">                    </span>             <span style=\"color: #800080; text-decoration-color: #800080; font-weight: bold\">self.execute</span><span style=\"font-weight: bold\">()</span>                                                   <span style=\"color: #7f7f7f; text-decoration-color: #7f7f7f\">                 </span>\n",
              "<span style=\"color: #7fbfbf; text-decoration-color: #7fbfbf\">                    </span>           File <span style=\"color: #008000; text-decoration-color: #008000\">\"/usr/local/lib/python3.10/dist-packages/vaex/dataframe.py\"</span>,  <span style=\"color: #7f7f7f; text-decoration-color: #7f7f7f\">                 </span>\n",
              "<span style=\"color: #7fbfbf; text-decoration-color: #7fbfbf\">                    </span>         line <span style=\"color: #008080; text-decoration-color: #008080; font-weight: bold\">421</span>, in execute                                                 <span style=\"color: #7f7f7f; text-decoration-color: #7f7f7f\">                 </span>\n",
              "<span style=\"color: #7fbfbf; text-decoration-color: #7fbfbf\">                    </span>             <span style=\"color: #800080; text-decoration-color: #800080; font-weight: bold\">self.executor.execute</span><span style=\"font-weight: bold\">()</span>                                          <span style=\"color: #7f7f7f; text-decoration-color: #7f7f7f\">                 </span>\n",
              "<span style=\"color: #7fbfbf; text-decoration-color: #7fbfbf\">                    </span>           File <span style=\"color: #008000; text-decoration-color: #008000\">\"/usr/local/lib/python3.10/dist-packages/vaex/execution.py\"</span>,  <span style=\"color: #7f7f7f; text-decoration-color: #7f7f7f\">                 </span>\n",
              "<span style=\"color: #7fbfbf; text-decoration-color: #7fbfbf\">                    </span>         line <span style=\"color: #008080; text-decoration-color: #008080; font-weight: bold\">308</span>, in execute                                                 <span style=\"color: #7f7f7f; text-decoration-color: #7f7f7f\">                 </span>\n",
              "<span style=\"color: #7fbfbf; text-decoration-color: #7fbfbf\">                    </span>             for _ in <span style=\"color: #800080; text-decoration-color: #800080; font-weight: bold\">self.execute_generator</span><span style=\"font-weight: bold\">()</span>:                               <span style=\"color: #7f7f7f; text-decoration-color: #7f7f7f\">                 </span>\n",
              "<span style=\"color: #7fbfbf; text-decoration-color: #7fbfbf\">                    </span>           File <span style=\"color: #008000; text-decoration-color: #008000\">\"/usr/local/lib/python3.10/dist-packages/vaex/execution.py\"</span>,  <span style=\"color: #7f7f7f; text-decoration-color: #7f7f7f\">                 </span>\n",
              "<span style=\"color: #7fbfbf; text-decoration-color: #7fbfbf\">                    </span>         line <span style=\"color: #008080; text-decoration-color: #008080; font-weight: bold\">432</span>, in execute_generator                                       <span style=\"color: #7f7f7f; text-decoration-color: #7f7f7f\">                 </span>\n",
              "<span style=\"color: #7fbfbf; text-decoration-color: #7fbfbf\">                    </span>             yield from <span style=\"color: #800080; text-decoration-color: #800080; font-weight: bold\">self.thread_pool.map</span><span style=\"font-weight: bold\">(</span>self.process_part,               <span style=\"color: #7f7f7f; text-decoration-color: #7f7f7f\">                 </span>\n",
              "<span style=\"color: #7fbfbf; text-decoration-color: #7fbfbf\">                    </span>         <span style=\"color: #800080; text-decoration-color: #800080; font-weight: bold\">dataset.chunk_iterator</span><span style=\"font-weight: bold\">(</span>run.dataset_deps, chunk_size<span style=\"font-weight: bold\">)</span>,                <span style=\"color: #7f7f7f; text-decoration-color: #7f7f7f\">                 </span>\n",
              "<span style=\"color: #7fbfbf; text-decoration-color: #7fbfbf\">                    </span>           File                                                               <span style=\"color: #7f7f7f; text-decoration-color: #7f7f7f\">                 </span>\n",
              "<span style=\"color: #7fbfbf; text-decoration-color: #7fbfbf\">                    </span>         <span style=\"color: #008000; text-decoration-color: #008000\">\"/usr/local/lib/python3.10/dist-packages/vaex/multithreading.py\"</span>,    <span style=\"color: #7f7f7f; text-decoration-color: #7f7f7f\">                 </span>\n",
              "<span style=\"color: #7fbfbf; text-decoration-color: #7fbfbf\">                    </span>         line <span style=\"color: #008080; text-decoration-color: #008080; font-weight: bold\">104</span>, in map                                                     <span style=\"color: #7f7f7f; text-decoration-color: #7f7f7f\">                 </span>\n",
              "<span style=\"color: #7fbfbf; text-decoration-color: #7fbfbf\">                    </span>             for value in iterator:                                           <span style=\"color: #7f7f7f; text-decoration-color: #7f7f7f\">                 </span>\n",
              "<span style=\"color: #7fbfbf; text-decoration-color: #7fbfbf\">                    </span>           File <span style=\"color: #008000; text-decoration-color: #008000\">\"/usr/local/lib/python3.10/dist-packages/vaex/itertools.py\"</span>,  <span style=\"color: #7f7f7f; text-decoration-color: #7f7f7f\">                 </span>\n",
              "<span style=\"color: #7fbfbf; text-decoration-color: #7fbfbf\">                    </span>         line <span style=\"color: #008080; text-decoration-color: #008080; font-weight: bold\">5</span>, in buffer                                                    <span style=\"color: #7f7f7f; text-decoration-color: #7f7f7f\">                 </span>\n",
              "<span style=\"color: #7fbfbf; text-decoration-color: #7fbfbf\">                    </span>             <span style=\"color: #800080; text-decoration-color: #800080; font-weight: bold\">values.append</span><span style=\"font-weight: bold\">(</span><span style=\"color: #800080; text-decoration-color: #800080; font-weight: bold\">next</span><span style=\"font-weight: bold\">(</span>i<span style=\"font-weight: bold\">))</span>                                           <span style=\"color: #7f7f7f; text-decoration-color: #7f7f7f\">                 </span>\n",
              "<span style=\"color: #7fbfbf; text-decoration-color: #7fbfbf\">                    </span>           File <span style=\"color: #008000; text-decoration-color: #008000\">\"/usr/lib/python3.10/concurrent/futures/_base.py\"</span>, line <span style=\"color: #008080; text-decoration-color: #008080; font-weight: bold\">621</span>,  <span style=\"color: #7f7f7f; text-decoration-color: #7f7f7f\">                 </span>\n",
              "<span style=\"color: #7fbfbf; text-decoration-color: #7fbfbf\">                    </span>         in result_iterator                                                   <span style=\"color: #7f7f7f; text-decoration-color: #7f7f7f\">                 </span>\n",
              "<span style=\"color: #7fbfbf; text-decoration-color: #7fbfbf\">                    </span>             yield <span style=\"color: #800080; text-decoration-color: #800080; font-weight: bold\">_result_or_cancel</span><span style=\"font-weight: bold\">(</span><span style=\"color: #800080; text-decoration-color: #800080; font-weight: bold\">fs.pop</span><span style=\"font-weight: bold\">())</span>                                <span style=\"color: #7f7f7f; text-decoration-color: #7f7f7f\">                 </span>\n",
              "<span style=\"color: #7fbfbf; text-decoration-color: #7fbfbf\">                    </span>           File <span style=\"color: #008000; text-decoration-color: #008000\">\"/usr/lib/python3.10/concurrent/futures/_base.py\"</span>, line <span style=\"color: #008080; text-decoration-color: #008080; font-weight: bold\">319</span>,  <span style=\"color: #7f7f7f; text-decoration-color: #7f7f7f\">                 </span>\n",
              "<span style=\"color: #7fbfbf; text-decoration-color: #7fbfbf\">                    </span>         in _result_or_cancel                                                 <span style=\"color: #7f7f7f; text-decoration-color: #7f7f7f\">                 </span>\n",
              "<span style=\"color: #7fbfbf; text-decoration-color: #7fbfbf\">                    </span>             return <span style=\"color: #800080; text-decoration-color: #800080; font-weight: bold\">fut.result</span><span style=\"font-weight: bold\">(</span>timeout<span style=\"font-weight: bold\">)</span>                                       <span style=\"color: #7f7f7f; text-decoration-color: #7f7f7f\">                 </span>\n",
              "<span style=\"color: #7fbfbf; text-decoration-color: #7fbfbf\">                    </span>           File <span style=\"color: #008000; text-decoration-color: #008000\">\"/usr/lib/python3.10/concurrent/futures/_base.py\"</span>, line <span style=\"color: #008080; text-decoration-color: #008080; font-weight: bold\">453</span>,  <span style=\"color: #7f7f7f; text-decoration-color: #7f7f7f\">                 </span>\n",
              "<span style=\"color: #7fbfbf; text-decoration-color: #7fbfbf\">                    </span>         in result                                                            <span style=\"color: #7f7f7f; text-decoration-color: #7f7f7f\">                 </span>\n",
              "<span style=\"color: #7fbfbf; text-decoration-color: #7fbfbf\">                    </span>             <span style=\"color: #800080; text-decoration-color: #800080; font-weight: bold\">self._condition.wait</span><span style=\"font-weight: bold\">(</span>timeout<span style=\"font-weight: bold\">)</span>                                    <span style=\"color: #7f7f7f; text-decoration-color: #7f7f7f\">                 </span>\n",
              "<span style=\"color: #7fbfbf; text-decoration-color: #7fbfbf\">                    </span>           File <span style=\"color: #008000; text-decoration-color: #008000\">\"/usr/lib/python3.10/threading.py\"</span>, line <span style=\"color: #008080; text-decoration-color: #008080; font-weight: bold\">320</span>, in wait         <span style=\"color: #7f7f7f; text-decoration-color: #7f7f7f\">                 </span>\n",
              "<span style=\"color: #7fbfbf; text-decoration-color: #7fbfbf\">                    </span>             <span style=\"color: #800080; text-decoration-color: #800080; font-weight: bold\">waiter.acquire</span><span style=\"font-weight: bold\">()</span>                                                 <span style=\"color: #7f7f7f; text-decoration-color: #7f7f7f\">                 </span>\n",
              "<span style=\"color: #7fbfbf; text-decoration-color: #7fbfbf\">                    </span>         KeyboardInterrupt                                                    <span style=\"color: #7f7f7f; text-decoration-color: #7f7f7f\">                 </span>\n",
              "</pre>\n"
            ]
          },
          "metadata": {}
        },
        {
          "output_type": "stream",
          "name": "stderr",
          "text": [
            "ERROR:vaex:error evaluating: transformed_text at rows 0-5\n",
            "Traceback (most recent call last):\n",
            "  File \"/usr/local/lib/python3.10/dist-packages/vaex/dataframe.py\", line 4093, in table_part\n",
            "    values = dict(zip(column_names, df.evaluate(column_names)))\n",
            "  File \"/usr/local/lib/python3.10/dist-packages/vaex/dataframe.py\", line 3095, in evaluate\n",
            "    return self._evaluate_implementation(expression, i1=i1, i2=i2, out=out, selection=selection, filtered=filtered, array_type=array_type, parallel=parallel, chunk_size=chunk_size, progress=progress)\n",
            "  File \"/usr/local/lib/python3.10/dist-packages/vaex/dataframe.py\", line 6494, in _evaluate_implementation\n",
            "    df.map_reduce(assign, lambda *_: None, expression_to_evaluate, progress=progress, ignore_filter=False, selection=selection, pre_filter=use_filter, info=True, to_numpy=False, name=\"evaluate\")\n",
            "  File \"/usr/local/lib/python3.10/dist-packages/vaex/dataframe.py\", line 438, in map_reduce\n",
            "    return self._delay(delay, task)\n",
            "  File \"/usr/local/lib/python3.10/dist-packages/vaex/dataframe.py\", line 1780, in _delay\n",
            "    self.execute()\n",
            "  File \"/usr/local/lib/python3.10/dist-packages/vaex/dataframe.py\", line 421, in execute\n",
            "    self.executor.execute()\n",
            "  File \"/usr/local/lib/python3.10/dist-packages/vaex/execution.py\", line 308, in execute\n",
            "    for _ in self.execute_generator():\n",
            "  File \"/usr/local/lib/python3.10/dist-packages/vaex/execution.py\", line 432, in execute_generator\n",
            "    yield from self.thread_pool.map(self.process_part, dataset.chunk_iterator(run.dataset_deps, chunk_size),\n",
            "  File \"/usr/local/lib/python3.10/dist-packages/vaex/multithreading.py\", line 104, in map\n",
            "    for value in iterator:\n",
            "  File \"/usr/local/lib/python3.10/dist-packages/vaex/itertools.py\", line 5, in buffer\n",
            "    values.append(next(i))\n",
            "  File \"/usr/lib/python3.10/concurrent/futures/_base.py\", line 621, in result_iterator\n",
            "    yield _result_or_cancel(fs.pop())\n",
            "  File \"/usr/lib/python3.10/concurrent/futures/_base.py\", line 319, in _result_or_cancel\n",
            "    return fut.result(timeout)\n",
            "  File \"/usr/lib/python3.10/concurrent/futures/_base.py\", line 453, in result\n",
            "    self._condition.wait(timeout)\n",
            "  File \"/usr/lib/python3.10/threading.py\", line 320, in wait\n",
            "    waiter.acquire()\n",
            "KeyboardInterrupt\n",
            "\n",
            "During handling of the above exception, another exception occurred:\n",
            "\n",
            "Traceback (most recent call last):\n",
            "  File \"/usr/local/lib/python3.10/dist-packages/vaex/dataframe.py\", line 4098, in table_part\n",
            "    values[name] = df.evaluate(name)\n",
            "  File \"/usr/local/lib/python3.10/dist-packages/vaex/dataframe.py\", line 3095, in evaluate\n",
            "    return self._evaluate_implementation(expression, i1=i1, i2=i2, out=out, selection=selection, filtered=filtered, array_type=array_type, parallel=parallel, chunk_size=chunk_size, progress=progress)\n",
            "  File \"/usr/local/lib/python3.10/dist-packages/vaex/dataframe.py\", line 6494, in _evaluate_implementation\n",
            "    df.map_reduce(assign, lambda *_: None, expression_to_evaluate, progress=progress, ignore_filter=False, selection=selection, pre_filter=use_filter, info=True, to_numpy=False, name=\"evaluate\")\n",
            "  File \"/usr/local/lib/python3.10/dist-packages/vaex/dataframe.py\", line 438, in map_reduce\n",
            "    return self._delay(delay, task)\n",
            "  File \"/usr/local/lib/python3.10/dist-packages/vaex/dataframe.py\", line 1780, in _delay\n",
            "    self.execute()\n",
            "  File \"/usr/local/lib/python3.10/dist-packages/vaex/dataframe.py\", line 421, in execute\n",
            "    self.executor.execute()\n",
            "  File \"/usr/local/lib/python3.10/dist-packages/vaex/execution.py\", line 308, in execute\n",
            "    for _ in self.execute_generator():\n",
            "  File \"/usr/local/lib/python3.10/dist-packages/vaex/execution.py\", line 432, in execute_generator\n",
            "    yield from self.thread_pool.map(self.process_part, dataset.chunk_iterator(run.dataset_deps, chunk_size),\n",
            "  File \"/usr/local/lib/python3.10/dist-packages/vaex/multithreading.py\", line 104, in map\n",
            "    for value in iterator:\n",
            "  File \"/usr/local/lib/python3.10/dist-packages/vaex/itertools.py\", line 5, in buffer\n",
            "    values.append(next(i))\n",
            "  File \"/usr/lib/python3.10/concurrent/futures/_base.py\", line 621, in result_iterator\n",
            "    yield _result_or_cancel(fs.pop())\n",
            "  File \"/usr/lib/python3.10/concurrent/futures/_base.py\", line 319, in _result_or_cancel\n",
            "    return fut.result(timeout)\n",
            "  File \"/usr/lib/python3.10/concurrent/futures/_base.py\", line 453, in result\n",
            "    self._condition.wait(timeout)\n",
            "  File \"/usr/lib/python3.10/threading.py\", line 320, in wait\n",
            "    waiter.acquire()\n",
            "KeyboardInterrupt\n"
          ]
        },
        {
          "output_type": "display_data",
          "data": {
            "text/plain": [
              "\u001b[2;36m[09/11/24 10:25:53]\u001b[0m\u001b[2;36m \u001b[0m\u001b[1;31mERROR   \u001b[0m error evaluating: transformed_text at rows \u001b[1;36m1799743\u001b[0m-\u001b[1;36m1799748\u001b[0m           \u001b]8;id=751357;file:///usr/local/lib/python3.10/dist-packages/vaex/dataframe.py\u001b\\\u001b[2mdataframe.py\u001b[0m\u001b]8;;\u001b\\\u001b[2m:\u001b[0m\u001b]8;id=501767;file:///usr/local/lib/python3.10/dist-packages/vaex/dataframe.py#4101\u001b\\\u001b[2m4101\u001b[0m\u001b]8;;\u001b\\\n",
              "\u001b[2;36m                    \u001b[0m         Traceback \u001b[1m(\u001b[0mmost recent call last\u001b[1m)\u001b[0m:                                   \u001b[2m                 \u001b[0m\n",
              "\u001b[2;36m                    \u001b[0m           File \u001b[32m\"/usr/local/lib/python3.10/dist-packages/vaex/dataframe.py\"\u001b[0m,  \u001b[2m                 \u001b[0m\n",
              "\u001b[2;36m                    \u001b[0m         line \u001b[1;36m4093\u001b[0m, in table_part                                             \u001b[2m                 \u001b[0m\n",
              "\u001b[2;36m                    \u001b[0m             values = \u001b[1;35mdict\u001b[0m\u001b[1m(\u001b[0m\u001b[1;35mzip\u001b[0m\u001b[1m(\u001b[0mcolumn_names, \u001b[1;35mdf.evaluate\u001b[0m\u001b[1m(\u001b[0mcolumn_names\u001b[1m)\u001b[0m\u001b[1m)\u001b[0m\u001b[1m)\u001b[0m      \u001b[2m                 \u001b[0m\n",
              "\u001b[2;36m                    \u001b[0m           File \u001b[32m\"/usr/local/lib/python3.10/dist-packages/vaex/dataframe.py\"\u001b[0m,  \u001b[2m                 \u001b[0m\n",
              "\u001b[2;36m                    \u001b[0m         line \u001b[1;36m3095\u001b[0m, in evaluate                                               \u001b[2m                 \u001b[0m\n",
              "\u001b[2;36m                    \u001b[0m             return \u001b[1;35mself._evaluate_implementation\u001b[0m\u001b[1m(\u001b[0mexpression, \u001b[33mi1\u001b[0m=\u001b[35mi1\u001b[0m, \u001b[33mi2\u001b[0m=\u001b[35mi2\u001b[0m,   \u001b[2m                 \u001b[0m\n",
              "\u001b[2;36m                    \u001b[0m         \u001b[33mout\u001b[0m=\u001b[35mout\u001b[0m, \u001b[33mselection\u001b[0m=\u001b[35mselection\u001b[0m, \u001b[33mfiltered\u001b[0m=\u001b[35mfiltered\u001b[0m,                     \u001b[2m                 \u001b[0m\n",
              "\u001b[2;36m                    \u001b[0m         \u001b[33marray_type\u001b[0m=\u001b[35marray_type\u001b[0m, \u001b[33mparallel\u001b[0m=\u001b[35mparallel\u001b[0m, \u001b[33mchunk_size\u001b[0m=\u001b[35mchunk_size\u001b[0m,     \u001b[2m                 \u001b[0m\n",
              "\u001b[2;36m                    \u001b[0m         \u001b[33mprogress\u001b[0m=\u001b[35mprogress\u001b[0m\u001b[1m)\u001b[0m                                                   \u001b[2m                 \u001b[0m\n",
              "\u001b[2;36m                    \u001b[0m           File \u001b[32m\"/usr/local/lib/python3.10/dist-packages/vaex/dataframe.py\"\u001b[0m,  \u001b[2m                 \u001b[0m\n",
              "\u001b[2;36m                    \u001b[0m         line \u001b[1;36m6494\u001b[0m, in _evaluate_implementation                               \u001b[2m                 \u001b[0m\n",
              "\u001b[2;36m                    \u001b[0m             \u001b[1;35mdf.map_reduce\u001b[0m\u001b[1m(\u001b[0massign, lambda *_: \u001b[3;35mNone\u001b[0m, expression_to_evaluate,   \u001b[2m                 \u001b[0m\n",
              "\u001b[2;36m                    \u001b[0m         \u001b[33mprogress\u001b[0m=\u001b[35mprogress\u001b[0m, \u001b[33mignore_filter\u001b[0m=\u001b[3;91mFalse\u001b[0m, \u001b[33mselection\u001b[0m=\u001b[35mselection\u001b[0m,         \u001b[2m                 \u001b[0m\n",
              "\u001b[2;36m                    \u001b[0m         \u001b[33mpre_filter\u001b[0m=\u001b[35muse_filter\u001b[0m, \u001b[33minfo\u001b[0m=\u001b[3;92mTrue\u001b[0m, \u001b[33mto_numpy\u001b[0m=\u001b[3;91mFalse\u001b[0m, \u001b[33mname\u001b[0m=\u001b[32m\"evaluate\"\u001b[0m\u001b[1m)\u001b[0m   \u001b[2m                 \u001b[0m\n",
              "\u001b[2;36m                    \u001b[0m           File \u001b[32m\"/usr/local/lib/python3.10/dist-packages/vaex/dataframe.py\"\u001b[0m,  \u001b[2m                 \u001b[0m\n",
              "\u001b[2;36m                    \u001b[0m         line \u001b[1;36m438\u001b[0m, in map_reduce                                              \u001b[2m                 \u001b[0m\n",
              "\u001b[2;36m                    \u001b[0m             return \u001b[1;35mself._delay\u001b[0m\u001b[1m(\u001b[0mdelay, task\u001b[1m)\u001b[0m                                  \u001b[2m                 \u001b[0m\n",
              "\u001b[2;36m                    \u001b[0m           File \u001b[32m\"/usr/local/lib/python3.10/dist-packages/vaex/dataframe.py\"\u001b[0m,  \u001b[2m                 \u001b[0m\n",
              "\u001b[2;36m                    \u001b[0m         line \u001b[1;36m1780\u001b[0m, in _delay                                                 \u001b[2m                 \u001b[0m\n",
              "\u001b[2;36m                    \u001b[0m             \u001b[1;35mself.execute\u001b[0m\u001b[1m(\u001b[0m\u001b[1m)\u001b[0m                                                   \u001b[2m                 \u001b[0m\n",
              "\u001b[2;36m                    \u001b[0m           File \u001b[32m\"/usr/local/lib/python3.10/dist-packages/vaex/dataframe.py\"\u001b[0m,  \u001b[2m                 \u001b[0m\n",
              "\u001b[2;36m                    \u001b[0m         line \u001b[1;36m421\u001b[0m, in execute                                                 \u001b[2m                 \u001b[0m\n",
              "\u001b[2;36m                    \u001b[0m             \u001b[1;35mself.executor.execute\u001b[0m\u001b[1m(\u001b[0m\u001b[1m)\u001b[0m                                          \u001b[2m                 \u001b[0m\n",
              "\u001b[2;36m                    \u001b[0m           File \u001b[32m\"/usr/local/lib/python3.10/dist-packages/vaex/execution.py\"\u001b[0m,  \u001b[2m                 \u001b[0m\n",
              "\u001b[2;36m                    \u001b[0m         line \u001b[1;36m308\u001b[0m, in execute                                                 \u001b[2m                 \u001b[0m\n",
              "\u001b[2;36m                    \u001b[0m             for _ in \u001b[1;35mself.execute_generator\u001b[0m\u001b[1m(\u001b[0m\u001b[1m)\u001b[0m:                               \u001b[2m                 \u001b[0m\n",
              "\u001b[2;36m                    \u001b[0m           File \u001b[32m\"/usr/local/lib/python3.10/dist-packages/vaex/execution.py\"\u001b[0m,  \u001b[2m                 \u001b[0m\n",
              "\u001b[2;36m                    \u001b[0m         line \u001b[1;36m432\u001b[0m, in execute_generator                                       \u001b[2m                 \u001b[0m\n",
              "\u001b[2;36m                    \u001b[0m             yield from \u001b[1;35mself.thread_pool.map\u001b[0m\u001b[1m(\u001b[0mself.process_part,               \u001b[2m                 \u001b[0m\n",
              "\u001b[2;36m                    \u001b[0m         \u001b[1;35mdataset.chunk_iterator\u001b[0m\u001b[1m(\u001b[0mrun.dataset_deps, chunk_size\u001b[1m)\u001b[0m,                \u001b[2m                 \u001b[0m\n",
              "\u001b[2;36m                    \u001b[0m           File                                                               \u001b[2m                 \u001b[0m\n",
              "\u001b[2;36m                    \u001b[0m         \u001b[32m\"/usr/local/lib/python3.10/dist-packages/vaex/multithreading.py\"\u001b[0m,    \u001b[2m                 \u001b[0m\n",
              "\u001b[2;36m                    \u001b[0m         line \u001b[1;36m104\u001b[0m, in map                                                     \u001b[2m                 \u001b[0m\n",
              "\u001b[2;36m                    \u001b[0m             for value in iterator:                                           \u001b[2m                 \u001b[0m\n",
              "\u001b[2;36m                    \u001b[0m           File \u001b[32m\"/usr/local/lib/python3.10/dist-packages/vaex/itertools.py\"\u001b[0m,  \u001b[2m                 \u001b[0m\n",
              "\u001b[2;36m                    \u001b[0m         line \u001b[1;36m5\u001b[0m, in buffer                                                    \u001b[2m                 \u001b[0m\n",
              "\u001b[2;36m                    \u001b[0m             \u001b[1;35mvalues.append\u001b[0m\u001b[1m(\u001b[0m\u001b[1;35mnext\u001b[0m\u001b[1m(\u001b[0mi\u001b[1m)\u001b[0m\u001b[1m)\u001b[0m                                           \u001b[2m                 \u001b[0m\n",
              "\u001b[2;36m                    \u001b[0m           File \u001b[32m\"/usr/lib/python3.10/concurrent/futures/_base.py\"\u001b[0m, line \u001b[1;36m621\u001b[0m,  \u001b[2m                 \u001b[0m\n",
              "\u001b[2;36m                    \u001b[0m         in result_iterator                                                   \u001b[2m                 \u001b[0m\n",
              "\u001b[2;36m                    \u001b[0m             yield \u001b[1;35m_result_or_cancel\u001b[0m\u001b[1m(\u001b[0m\u001b[1;35mfs.pop\u001b[0m\u001b[1m(\u001b[0m\u001b[1m)\u001b[0m\u001b[1m)\u001b[0m                                \u001b[2m                 \u001b[0m\n",
              "\u001b[2;36m                    \u001b[0m           File \u001b[32m\"/usr/lib/python3.10/concurrent/futures/_base.py\"\u001b[0m, line \u001b[1;36m319\u001b[0m,  \u001b[2m                 \u001b[0m\n",
              "\u001b[2;36m                    \u001b[0m         in _result_or_cancel                                                 \u001b[2m                 \u001b[0m\n",
              "\u001b[2;36m                    \u001b[0m             return \u001b[1;35mfut.result\u001b[0m\u001b[1m(\u001b[0mtimeout\u001b[1m)\u001b[0m                                       \u001b[2m                 \u001b[0m\n",
              "\u001b[2;36m                    \u001b[0m           File \u001b[32m\"/usr/lib/python3.10/concurrent/futures/_base.py\"\u001b[0m, line \u001b[1;36m453\u001b[0m,  \u001b[2m                 \u001b[0m\n",
              "\u001b[2;36m                    \u001b[0m         in result                                                            \u001b[2m                 \u001b[0m\n",
              "\u001b[2;36m                    \u001b[0m             \u001b[1;35mself._condition.wait\u001b[0m\u001b[1m(\u001b[0mtimeout\u001b[1m)\u001b[0m                                    \u001b[2m                 \u001b[0m\n",
              "\u001b[2;36m                    \u001b[0m           File \u001b[32m\"/usr/lib/python3.10/threading.py\"\u001b[0m, line \u001b[1;36m320\u001b[0m, in wait         \u001b[2m                 \u001b[0m\n",
              "\u001b[2;36m                    \u001b[0m             \u001b[1;35mwaiter.acquire\u001b[0m\u001b[1m(\u001b[0m\u001b[1m)\u001b[0m                                                 \u001b[2m                 \u001b[0m\n",
              "\u001b[2;36m                    \u001b[0m         KeyboardInterrupt                                                    \u001b[2m                 \u001b[0m\n",
              "\u001b[2;36m                    \u001b[0m                                                                              \u001b[2m                 \u001b[0m\n",
              "\u001b[2;36m                    \u001b[0m         During handling of the above exception, another exception occurred:  \u001b[2m                 \u001b[0m\n",
              "\u001b[2;36m                    \u001b[0m                                                                              \u001b[2m                 \u001b[0m\n",
              "\u001b[2;36m                    \u001b[0m         Traceback \u001b[1m(\u001b[0mmost recent call last\u001b[1m)\u001b[0m:                                   \u001b[2m                 \u001b[0m\n",
              "\u001b[2;36m                    \u001b[0m           File \u001b[32m\"/usr/local/lib/python3.10/dist-packages/vaex/dataframe.py\"\u001b[0m,  \u001b[2m                 \u001b[0m\n",
              "\u001b[2;36m                    \u001b[0m         line \u001b[1;36m4098\u001b[0m, in table_part                                             \u001b[2m                 \u001b[0m\n",
              "\u001b[2;36m                    \u001b[0m             values\u001b[1m[\u001b[0mname\u001b[1m]\u001b[0m = \u001b[1;35mdf.evaluate\u001b[0m\u001b[1m(\u001b[0mname\u001b[1m)\u001b[0m                                 \u001b[2m                 \u001b[0m\n",
              "\u001b[2;36m                    \u001b[0m           File \u001b[32m\"/usr/local/lib/python3.10/dist-packages/vaex/dataframe.py\"\u001b[0m,  \u001b[2m                 \u001b[0m\n",
              "\u001b[2;36m                    \u001b[0m         line \u001b[1;36m3095\u001b[0m, in evaluate                                               \u001b[2m                 \u001b[0m\n",
              "\u001b[2;36m                    \u001b[0m             return \u001b[1;35mself._evaluate_implementation\u001b[0m\u001b[1m(\u001b[0mexpression, \u001b[33mi1\u001b[0m=\u001b[35mi1\u001b[0m, \u001b[33mi2\u001b[0m=\u001b[35mi2\u001b[0m,   \u001b[2m                 \u001b[0m\n",
              "\u001b[2;36m                    \u001b[0m         \u001b[33mout\u001b[0m=\u001b[35mout\u001b[0m, \u001b[33mselection\u001b[0m=\u001b[35mselection\u001b[0m, \u001b[33mfiltered\u001b[0m=\u001b[35mfiltered\u001b[0m,                     \u001b[2m                 \u001b[0m\n",
              "\u001b[2;36m                    \u001b[0m         \u001b[33marray_type\u001b[0m=\u001b[35marray_type\u001b[0m, \u001b[33mparallel\u001b[0m=\u001b[35mparallel\u001b[0m, \u001b[33mchunk_size\u001b[0m=\u001b[35mchunk_size\u001b[0m,     \u001b[2m                 \u001b[0m\n",
              "\u001b[2;36m                    \u001b[0m         \u001b[33mprogress\u001b[0m=\u001b[35mprogress\u001b[0m\u001b[1m)\u001b[0m                                                   \u001b[2m                 \u001b[0m\n",
              "\u001b[2;36m                    \u001b[0m           File \u001b[32m\"/usr/local/lib/python3.10/dist-packages/vaex/dataframe.py\"\u001b[0m,  \u001b[2m                 \u001b[0m\n",
              "\u001b[2;36m                    \u001b[0m         line \u001b[1;36m6494\u001b[0m, in _evaluate_implementation                               \u001b[2m                 \u001b[0m\n",
              "\u001b[2;36m                    \u001b[0m             \u001b[1;35mdf.map_reduce\u001b[0m\u001b[1m(\u001b[0massign, lambda *_: \u001b[3;35mNone\u001b[0m, expression_to_evaluate,   \u001b[2m                 \u001b[0m\n",
              "\u001b[2;36m                    \u001b[0m         \u001b[33mprogress\u001b[0m=\u001b[35mprogress\u001b[0m, \u001b[33mignore_filter\u001b[0m=\u001b[3;91mFalse\u001b[0m, \u001b[33mselection\u001b[0m=\u001b[35mselection\u001b[0m,         \u001b[2m                 \u001b[0m\n",
              "\u001b[2;36m                    \u001b[0m         \u001b[33mpre_filter\u001b[0m=\u001b[35muse_filter\u001b[0m, \u001b[33minfo\u001b[0m=\u001b[3;92mTrue\u001b[0m, \u001b[33mto_numpy\u001b[0m=\u001b[3;91mFalse\u001b[0m, \u001b[33mname\u001b[0m=\u001b[32m\"evaluate\"\u001b[0m\u001b[1m)\u001b[0m   \u001b[2m                 \u001b[0m\n",
              "\u001b[2;36m                    \u001b[0m           File \u001b[32m\"/usr/local/lib/python3.10/dist-packages/vaex/dataframe.py\"\u001b[0m,  \u001b[2m                 \u001b[0m\n",
              "\u001b[2;36m                    \u001b[0m         line \u001b[1;36m438\u001b[0m, in map_reduce                                              \u001b[2m                 \u001b[0m\n",
              "\u001b[2;36m                    \u001b[0m             return \u001b[1;35mself._delay\u001b[0m\u001b[1m(\u001b[0mdelay, task\u001b[1m)\u001b[0m                                  \u001b[2m                 \u001b[0m\n",
              "\u001b[2;36m                    \u001b[0m           File \u001b[32m\"/usr/local/lib/python3.10/dist-packages/vaex/dataframe.py\"\u001b[0m,  \u001b[2m                 \u001b[0m\n",
              "\u001b[2;36m                    \u001b[0m         line \u001b[1;36m1780\u001b[0m, in _delay                                                 \u001b[2m                 \u001b[0m\n",
              "\u001b[2;36m                    \u001b[0m             \u001b[1;35mself.execute\u001b[0m\u001b[1m(\u001b[0m\u001b[1m)\u001b[0m                                                   \u001b[2m                 \u001b[0m\n",
              "\u001b[2;36m                    \u001b[0m           File \u001b[32m\"/usr/local/lib/python3.10/dist-packages/vaex/dataframe.py\"\u001b[0m,  \u001b[2m                 \u001b[0m\n",
              "\u001b[2;36m                    \u001b[0m         line \u001b[1;36m421\u001b[0m, in execute                                                 \u001b[2m                 \u001b[0m\n",
              "\u001b[2;36m                    \u001b[0m             \u001b[1;35mself.executor.execute\u001b[0m\u001b[1m(\u001b[0m\u001b[1m)\u001b[0m                                          \u001b[2m                 \u001b[0m\n",
              "\u001b[2;36m                    \u001b[0m           File \u001b[32m\"/usr/local/lib/python3.10/dist-packages/vaex/execution.py\"\u001b[0m,  \u001b[2m                 \u001b[0m\n",
              "\u001b[2;36m                    \u001b[0m         line \u001b[1;36m308\u001b[0m, in execute                                                 \u001b[2m                 \u001b[0m\n",
              "\u001b[2;36m                    \u001b[0m             for _ in \u001b[1;35mself.execute_generator\u001b[0m\u001b[1m(\u001b[0m\u001b[1m)\u001b[0m:                               \u001b[2m                 \u001b[0m\n",
              "\u001b[2;36m                    \u001b[0m           File \u001b[32m\"/usr/local/lib/python3.10/dist-packages/vaex/execution.py\"\u001b[0m,  \u001b[2m                 \u001b[0m\n",
              "\u001b[2;36m                    \u001b[0m         line \u001b[1;36m432\u001b[0m, in execute_generator                                       \u001b[2m                 \u001b[0m\n",
              "\u001b[2;36m                    \u001b[0m             yield from \u001b[1;35mself.thread_pool.map\u001b[0m\u001b[1m(\u001b[0mself.process_part,               \u001b[2m                 \u001b[0m\n",
              "\u001b[2;36m                    \u001b[0m         \u001b[1;35mdataset.chunk_iterator\u001b[0m\u001b[1m(\u001b[0mrun.dataset_deps, chunk_size\u001b[1m)\u001b[0m,                \u001b[2m                 \u001b[0m\n",
              "\u001b[2;36m                    \u001b[0m           File                                                               \u001b[2m                 \u001b[0m\n",
              "\u001b[2;36m                    \u001b[0m         \u001b[32m\"/usr/local/lib/python3.10/dist-packages/vaex/multithreading.py\"\u001b[0m,    \u001b[2m                 \u001b[0m\n",
              "\u001b[2;36m                    \u001b[0m         line \u001b[1;36m104\u001b[0m, in map                                                     \u001b[2m                 \u001b[0m\n",
              "\u001b[2;36m                    \u001b[0m             for value in iterator:                                           \u001b[2m                 \u001b[0m\n",
              "\u001b[2;36m                    \u001b[0m           File \u001b[32m\"/usr/local/lib/python3.10/dist-packages/vaex/itertools.py\"\u001b[0m,  \u001b[2m                 \u001b[0m\n",
              "\u001b[2;36m                    \u001b[0m         line \u001b[1;36m5\u001b[0m, in buffer                                                    \u001b[2m                 \u001b[0m\n",
              "\u001b[2;36m                    \u001b[0m             \u001b[1;35mvalues.append\u001b[0m\u001b[1m(\u001b[0m\u001b[1;35mnext\u001b[0m\u001b[1m(\u001b[0mi\u001b[1m)\u001b[0m\u001b[1m)\u001b[0m                                           \u001b[2m                 \u001b[0m\n",
              "\u001b[2;36m                    \u001b[0m           File \u001b[32m\"/usr/lib/python3.10/concurrent/futures/_base.py\"\u001b[0m, line \u001b[1;36m621\u001b[0m,  \u001b[2m                 \u001b[0m\n",
              "\u001b[2;36m                    \u001b[0m         in result_iterator                                                   \u001b[2m                 \u001b[0m\n",
              "\u001b[2;36m                    \u001b[0m             yield \u001b[1;35m_result_or_cancel\u001b[0m\u001b[1m(\u001b[0m\u001b[1;35mfs.pop\u001b[0m\u001b[1m(\u001b[0m\u001b[1m)\u001b[0m\u001b[1m)\u001b[0m                                \u001b[2m                 \u001b[0m\n",
              "\u001b[2;36m                    \u001b[0m           File \u001b[32m\"/usr/lib/python3.10/concurrent/futures/_base.py\"\u001b[0m, line \u001b[1;36m319\u001b[0m,  \u001b[2m                 \u001b[0m\n",
              "\u001b[2;36m                    \u001b[0m         in _result_or_cancel                                                 \u001b[2m                 \u001b[0m\n",
              "\u001b[2;36m                    \u001b[0m             return \u001b[1;35mfut.result\u001b[0m\u001b[1m(\u001b[0mtimeout\u001b[1m)\u001b[0m                                       \u001b[2m                 \u001b[0m\n",
              "\u001b[2;36m                    \u001b[0m           File \u001b[32m\"/usr/lib/python3.10/concurrent/futures/_base.py\"\u001b[0m, line \u001b[1;36m453\u001b[0m,  \u001b[2m                 \u001b[0m\n",
              "\u001b[2;36m                    \u001b[0m         in result                                                            \u001b[2m                 \u001b[0m\n",
              "\u001b[2;36m                    \u001b[0m             \u001b[1;35mself._condition.wait\u001b[0m\u001b[1m(\u001b[0mtimeout\u001b[1m)\u001b[0m                                    \u001b[2m                 \u001b[0m\n",
              "\u001b[2;36m                    \u001b[0m           File \u001b[32m\"/usr/lib/python3.10/threading.py\"\u001b[0m, line \u001b[1;36m320\u001b[0m, in wait         \u001b[2m                 \u001b[0m\n",
              "\u001b[2;36m                    \u001b[0m             \u001b[1;35mwaiter.acquire\u001b[0m\u001b[1m(\u001b[0m\u001b[1m)\u001b[0m                                                 \u001b[2m                 \u001b[0m\n",
              "\u001b[2;36m                    \u001b[0m         KeyboardInterrupt                                                    \u001b[2m                 \u001b[0m\n"
            ],
            "text/html": [
              "<pre style=\"white-space:pre;overflow-x:auto;line-height:normal;font-family:Menlo,'DejaVu Sans Mono',consolas,'Courier New',monospace\"><span style=\"color: #7fbfbf; text-decoration-color: #7fbfbf\">[09/11/24 10:25:53] </span><span style=\"color: #800000; text-decoration-color: #800000; font-weight: bold\">ERROR   </span> error evaluating: transformed_text at rows <span style=\"color: #008080; text-decoration-color: #008080; font-weight: bold\">1799743</span>-<span style=\"color: #008080; text-decoration-color: #008080; font-weight: bold\">1799748</span>           <a href=\"file:///usr/local/lib/python3.10/dist-packages/vaex/dataframe.py\" target=\"_blank\"><span style=\"color: #7f7f7f; text-decoration-color: #7f7f7f\">dataframe.py</span></a><span style=\"color: #7f7f7f; text-decoration-color: #7f7f7f\">:</span><a href=\"file:///usr/local/lib/python3.10/dist-packages/vaex/dataframe.py#4101\" target=\"_blank\"><span style=\"color: #7f7f7f; text-decoration-color: #7f7f7f\">4101</span></a>\n",
              "<span style=\"color: #7fbfbf; text-decoration-color: #7fbfbf\">                    </span>         Traceback <span style=\"font-weight: bold\">(</span>most recent call last<span style=\"font-weight: bold\">)</span>:                                   <span style=\"color: #7f7f7f; text-decoration-color: #7f7f7f\">                 </span>\n",
              "<span style=\"color: #7fbfbf; text-decoration-color: #7fbfbf\">                    </span>           File <span style=\"color: #008000; text-decoration-color: #008000\">\"/usr/local/lib/python3.10/dist-packages/vaex/dataframe.py\"</span>,  <span style=\"color: #7f7f7f; text-decoration-color: #7f7f7f\">                 </span>\n",
              "<span style=\"color: #7fbfbf; text-decoration-color: #7fbfbf\">                    </span>         line <span style=\"color: #008080; text-decoration-color: #008080; font-weight: bold\">4093</span>, in table_part                                             <span style=\"color: #7f7f7f; text-decoration-color: #7f7f7f\">                 </span>\n",
              "<span style=\"color: #7fbfbf; text-decoration-color: #7fbfbf\">                    </span>             values = <span style=\"color: #800080; text-decoration-color: #800080; font-weight: bold\">dict</span><span style=\"font-weight: bold\">(</span><span style=\"color: #800080; text-decoration-color: #800080; font-weight: bold\">zip</span><span style=\"font-weight: bold\">(</span>column_names, <span style=\"color: #800080; text-decoration-color: #800080; font-weight: bold\">df.evaluate</span><span style=\"font-weight: bold\">(</span>column_names<span style=\"font-weight: bold\">)))</span>      <span style=\"color: #7f7f7f; text-decoration-color: #7f7f7f\">                 </span>\n",
              "<span style=\"color: #7fbfbf; text-decoration-color: #7fbfbf\">                    </span>           File <span style=\"color: #008000; text-decoration-color: #008000\">\"/usr/local/lib/python3.10/dist-packages/vaex/dataframe.py\"</span>,  <span style=\"color: #7f7f7f; text-decoration-color: #7f7f7f\">                 </span>\n",
              "<span style=\"color: #7fbfbf; text-decoration-color: #7fbfbf\">                    </span>         line <span style=\"color: #008080; text-decoration-color: #008080; font-weight: bold\">3095</span>, in evaluate                                               <span style=\"color: #7f7f7f; text-decoration-color: #7f7f7f\">                 </span>\n",
              "<span style=\"color: #7fbfbf; text-decoration-color: #7fbfbf\">                    </span>             return <span style=\"color: #800080; text-decoration-color: #800080; font-weight: bold\">self._evaluate_implementation</span><span style=\"font-weight: bold\">(</span>expression, <span style=\"color: #808000; text-decoration-color: #808000\">i1</span>=<span style=\"color: #800080; text-decoration-color: #800080\">i1</span>, <span style=\"color: #808000; text-decoration-color: #808000\">i2</span>=<span style=\"color: #800080; text-decoration-color: #800080\">i2</span>,   <span style=\"color: #7f7f7f; text-decoration-color: #7f7f7f\">                 </span>\n",
              "<span style=\"color: #7fbfbf; text-decoration-color: #7fbfbf\">                    </span>         <span style=\"color: #808000; text-decoration-color: #808000\">out</span>=<span style=\"color: #800080; text-decoration-color: #800080\">out</span>, <span style=\"color: #808000; text-decoration-color: #808000\">selection</span>=<span style=\"color: #800080; text-decoration-color: #800080\">selection</span>, <span style=\"color: #808000; text-decoration-color: #808000\">filtered</span>=<span style=\"color: #800080; text-decoration-color: #800080\">filtered</span>,                     <span style=\"color: #7f7f7f; text-decoration-color: #7f7f7f\">                 </span>\n",
              "<span style=\"color: #7fbfbf; text-decoration-color: #7fbfbf\">                    </span>         <span style=\"color: #808000; text-decoration-color: #808000\">array_type</span>=<span style=\"color: #800080; text-decoration-color: #800080\">array_type</span>, <span style=\"color: #808000; text-decoration-color: #808000\">parallel</span>=<span style=\"color: #800080; text-decoration-color: #800080\">parallel</span>, <span style=\"color: #808000; text-decoration-color: #808000\">chunk_size</span>=<span style=\"color: #800080; text-decoration-color: #800080\">chunk_size</span>,     <span style=\"color: #7f7f7f; text-decoration-color: #7f7f7f\">                 </span>\n",
              "<span style=\"color: #7fbfbf; text-decoration-color: #7fbfbf\">                    </span>         <span style=\"color: #808000; text-decoration-color: #808000\">progress</span>=<span style=\"color: #800080; text-decoration-color: #800080\">progress</span><span style=\"font-weight: bold\">)</span>                                                   <span style=\"color: #7f7f7f; text-decoration-color: #7f7f7f\">                 </span>\n",
              "<span style=\"color: #7fbfbf; text-decoration-color: #7fbfbf\">                    </span>           File <span style=\"color: #008000; text-decoration-color: #008000\">\"/usr/local/lib/python3.10/dist-packages/vaex/dataframe.py\"</span>,  <span style=\"color: #7f7f7f; text-decoration-color: #7f7f7f\">                 </span>\n",
              "<span style=\"color: #7fbfbf; text-decoration-color: #7fbfbf\">                    </span>         line <span style=\"color: #008080; text-decoration-color: #008080; font-weight: bold\">6494</span>, in _evaluate_implementation                               <span style=\"color: #7f7f7f; text-decoration-color: #7f7f7f\">                 </span>\n",
              "<span style=\"color: #7fbfbf; text-decoration-color: #7fbfbf\">                    </span>             <span style=\"color: #800080; text-decoration-color: #800080; font-weight: bold\">df.map_reduce</span><span style=\"font-weight: bold\">(</span>assign, lambda *_: <span style=\"color: #800080; text-decoration-color: #800080; font-style: italic\">None</span>, expression_to_evaluate,   <span style=\"color: #7f7f7f; text-decoration-color: #7f7f7f\">                 </span>\n",
              "<span style=\"color: #7fbfbf; text-decoration-color: #7fbfbf\">                    </span>         <span style=\"color: #808000; text-decoration-color: #808000\">progress</span>=<span style=\"color: #800080; text-decoration-color: #800080\">progress</span>, <span style=\"color: #808000; text-decoration-color: #808000\">ignore_filter</span>=<span style=\"color: #ff0000; text-decoration-color: #ff0000; font-style: italic\">False</span>, <span style=\"color: #808000; text-decoration-color: #808000\">selection</span>=<span style=\"color: #800080; text-decoration-color: #800080\">selection</span>,         <span style=\"color: #7f7f7f; text-decoration-color: #7f7f7f\">                 </span>\n",
              "<span style=\"color: #7fbfbf; text-decoration-color: #7fbfbf\">                    </span>         <span style=\"color: #808000; text-decoration-color: #808000\">pre_filter</span>=<span style=\"color: #800080; text-decoration-color: #800080\">use_filter</span>, <span style=\"color: #808000; text-decoration-color: #808000\">info</span>=<span style=\"color: #00ff00; text-decoration-color: #00ff00; font-style: italic\">True</span>, <span style=\"color: #808000; text-decoration-color: #808000\">to_numpy</span>=<span style=\"color: #ff0000; text-decoration-color: #ff0000; font-style: italic\">False</span>, <span style=\"color: #808000; text-decoration-color: #808000\">name</span>=<span style=\"color: #008000; text-decoration-color: #008000\">\"evaluate\"</span><span style=\"font-weight: bold\">)</span>   <span style=\"color: #7f7f7f; text-decoration-color: #7f7f7f\">                 </span>\n",
              "<span style=\"color: #7fbfbf; text-decoration-color: #7fbfbf\">                    </span>           File <span style=\"color: #008000; text-decoration-color: #008000\">\"/usr/local/lib/python3.10/dist-packages/vaex/dataframe.py\"</span>,  <span style=\"color: #7f7f7f; text-decoration-color: #7f7f7f\">                 </span>\n",
              "<span style=\"color: #7fbfbf; text-decoration-color: #7fbfbf\">                    </span>         line <span style=\"color: #008080; text-decoration-color: #008080; font-weight: bold\">438</span>, in map_reduce                                              <span style=\"color: #7f7f7f; text-decoration-color: #7f7f7f\">                 </span>\n",
              "<span style=\"color: #7fbfbf; text-decoration-color: #7fbfbf\">                    </span>             return <span style=\"color: #800080; text-decoration-color: #800080; font-weight: bold\">self._delay</span><span style=\"font-weight: bold\">(</span>delay, task<span style=\"font-weight: bold\">)</span>                                  <span style=\"color: #7f7f7f; text-decoration-color: #7f7f7f\">                 </span>\n",
              "<span style=\"color: #7fbfbf; text-decoration-color: #7fbfbf\">                    </span>           File <span style=\"color: #008000; text-decoration-color: #008000\">\"/usr/local/lib/python3.10/dist-packages/vaex/dataframe.py\"</span>,  <span style=\"color: #7f7f7f; text-decoration-color: #7f7f7f\">                 </span>\n",
              "<span style=\"color: #7fbfbf; text-decoration-color: #7fbfbf\">                    </span>         line <span style=\"color: #008080; text-decoration-color: #008080; font-weight: bold\">1780</span>, in _delay                                                 <span style=\"color: #7f7f7f; text-decoration-color: #7f7f7f\">                 </span>\n",
              "<span style=\"color: #7fbfbf; text-decoration-color: #7fbfbf\">                    </span>             <span style=\"color: #800080; text-decoration-color: #800080; font-weight: bold\">self.execute</span><span style=\"font-weight: bold\">()</span>                                                   <span style=\"color: #7f7f7f; text-decoration-color: #7f7f7f\">                 </span>\n",
              "<span style=\"color: #7fbfbf; text-decoration-color: #7fbfbf\">                    </span>           File <span style=\"color: #008000; text-decoration-color: #008000\">\"/usr/local/lib/python3.10/dist-packages/vaex/dataframe.py\"</span>,  <span style=\"color: #7f7f7f; text-decoration-color: #7f7f7f\">                 </span>\n",
              "<span style=\"color: #7fbfbf; text-decoration-color: #7fbfbf\">                    </span>         line <span style=\"color: #008080; text-decoration-color: #008080; font-weight: bold\">421</span>, in execute                                                 <span style=\"color: #7f7f7f; text-decoration-color: #7f7f7f\">                 </span>\n",
              "<span style=\"color: #7fbfbf; text-decoration-color: #7fbfbf\">                    </span>             <span style=\"color: #800080; text-decoration-color: #800080; font-weight: bold\">self.executor.execute</span><span style=\"font-weight: bold\">()</span>                                          <span style=\"color: #7f7f7f; text-decoration-color: #7f7f7f\">                 </span>\n",
              "<span style=\"color: #7fbfbf; text-decoration-color: #7fbfbf\">                    </span>           File <span style=\"color: #008000; text-decoration-color: #008000\">\"/usr/local/lib/python3.10/dist-packages/vaex/execution.py\"</span>,  <span style=\"color: #7f7f7f; text-decoration-color: #7f7f7f\">                 </span>\n",
              "<span style=\"color: #7fbfbf; text-decoration-color: #7fbfbf\">                    </span>         line <span style=\"color: #008080; text-decoration-color: #008080; font-weight: bold\">308</span>, in execute                                                 <span style=\"color: #7f7f7f; text-decoration-color: #7f7f7f\">                 </span>\n",
              "<span style=\"color: #7fbfbf; text-decoration-color: #7fbfbf\">                    </span>             for _ in <span style=\"color: #800080; text-decoration-color: #800080; font-weight: bold\">self.execute_generator</span><span style=\"font-weight: bold\">()</span>:                               <span style=\"color: #7f7f7f; text-decoration-color: #7f7f7f\">                 </span>\n",
              "<span style=\"color: #7fbfbf; text-decoration-color: #7fbfbf\">                    </span>           File <span style=\"color: #008000; text-decoration-color: #008000\">\"/usr/local/lib/python3.10/dist-packages/vaex/execution.py\"</span>,  <span style=\"color: #7f7f7f; text-decoration-color: #7f7f7f\">                 </span>\n",
              "<span style=\"color: #7fbfbf; text-decoration-color: #7fbfbf\">                    </span>         line <span style=\"color: #008080; text-decoration-color: #008080; font-weight: bold\">432</span>, in execute_generator                                       <span style=\"color: #7f7f7f; text-decoration-color: #7f7f7f\">                 </span>\n",
              "<span style=\"color: #7fbfbf; text-decoration-color: #7fbfbf\">                    </span>             yield from <span style=\"color: #800080; text-decoration-color: #800080; font-weight: bold\">self.thread_pool.map</span><span style=\"font-weight: bold\">(</span>self.process_part,               <span style=\"color: #7f7f7f; text-decoration-color: #7f7f7f\">                 </span>\n",
              "<span style=\"color: #7fbfbf; text-decoration-color: #7fbfbf\">                    </span>         <span style=\"color: #800080; text-decoration-color: #800080; font-weight: bold\">dataset.chunk_iterator</span><span style=\"font-weight: bold\">(</span>run.dataset_deps, chunk_size<span style=\"font-weight: bold\">)</span>,                <span style=\"color: #7f7f7f; text-decoration-color: #7f7f7f\">                 </span>\n",
              "<span style=\"color: #7fbfbf; text-decoration-color: #7fbfbf\">                    </span>           File                                                               <span style=\"color: #7f7f7f; text-decoration-color: #7f7f7f\">                 </span>\n",
              "<span style=\"color: #7fbfbf; text-decoration-color: #7fbfbf\">                    </span>         <span style=\"color: #008000; text-decoration-color: #008000\">\"/usr/local/lib/python3.10/dist-packages/vaex/multithreading.py\"</span>,    <span style=\"color: #7f7f7f; text-decoration-color: #7f7f7f\">                 </span>\n",
              "<span style=\"color: #7fbfbf; text-decoration-color: #7fbfbf\">                    </span>         line <span style=\"color: #008080; text-decoration-color: #008080; font-weight: bold\">104</span>, in map                                                     <span style=\"color: #7f7f7f; text-decoration-color: #7f7f7f\">                 </span>\n",
              "<span style=\"color: #7fbfbf; text-decoration-color: #7fbfbf\">                    </span>             for value in iterator:                                           <span style=\"color: #7f7f7f; text-decoration-color: #7f7f7f\">                 </span>\n",
              "<span style=\"color: #7fbfbf; text-decoration-color: #7fbfbf\">                    </span>           File <span style=\"color: #008000; text-decoration-color: #008000\">\"/usr/local/lib/python3.10/dist-packages/vaex/itertools.py\"</span>,  <span style=\"color: #7f7f7f; text-decoration-color: #7f7f7f\">                 </span>\n",
              "<span style=\"color: #7fbfbf; text-decoration-color: #7fbfbf\">                    </span>         line <span style=\"color: #008080; text-decoration-color: #008080; font-weight: bold\">5</span>, in buffer                                                    <span style=\"color: #7f7f7f; text-decoration-color: #7f7f7f\">                 </span>\n",
              "<span style=\"color: #7fbfbf; text-decoration-color: #7fbfbf\">                    </span>             <span style=\"color: #800080; text-decoration-color: #800080; font-weight: bold\">values.append</span><span style=\"font-weight: bold\">(</span><span style=\"color: #800080; text-decoration-color: #800080; font-weight: bold\">next</span><span style=\"font-weight: bold\">(</span>i<span style=\"font-weight: bold\">))</span>                                           <span style=\"color: #7f7f7f; text-decoration-color: #7f7f7f\">                 </span>\n",
              "<span style=\"color: #7fbfbf; text-decoration-color: #7fbfbf\">                    </span>           File <span style=\"color: #008000; text-decoration-color: #008000\">\"/usr/lib/python3.10/concurrent/futures/_base.py\"</span>, line <span style=\"color: #008080; text-decoration-color: #008080; font-weight: bold\">621</span>,  <span style=\"color: #7f7f7f; text-decoration-color: #7f7f7f\">                 </span>\n",
              "<span style=\"color: #7fbfbf; text-decoration-color: #7fbfbf\">                    </span>         in result_iterator                                                   <span style=\"color: #7f7f7f; text-decoration-color: #7f7f7f\">                 </span>\n",
              "<span style=\"color: #7fbfbf; text-decoration-color: #7fbfbf\">                    </span>             yield <span style=\"color: #800080; text-decoration-color: #800080; font-weight: bold\">_result_or_cancel</span><span style=\"font-weight: bold\">(</span><span style=\"color: #800080; text-decoration-color: #800080; font-weight: bold\">fs.pop</span><span style=\"font-weight: bold\">())</span>                                <span style=\"color: #7f7f7f; text-decoration-color: #7f7f7f\">                 </span>\n",
              "<span style=\"color: #7fbfbf; text-decoration-color: #7fbfbf\">                    </span>           File <span style=\"color: #008000; text-decoration-color: #008000\">\"/usr/lib/python3.10/concurrent/futures/_base.py\"</span>, line <span style=\"color: #008080; text-decoration-color: #008080; font-weight: bold\">319</span>,  <span style=\"color: #7f7f7f; text-decoration-color: #7f7f7f\">                 </span>\n",
              "<span style=\"color: #7fbfbf; text-decoration-color: #7fbfbf\">                    </span>         in _result_or_cancel                                                 <span style=\"color: #7f7f7f; text-decoration-color: #7f7f7f\">                 </span>\n",
              "<span style=\"color: #7fbfbf; text-decoration-color: #7fbfbf\">                    </span>             return <span style=\"color: #800080; text-decoration-color: #800080; font-weight: bold\">fut.result</span><span style=\"font-weight: bold\">(</span>timeout<span style=\"font-weight: bold\">)</span>                                       <span style=\"color: #7f7f7f; text-decoration-color: #7f7f7f\">                 </span>\n",
              "<span style=\"color: #7fbfbf; text-decoration-color: #7fbfbf\">                    </span>           File <span style=\"color: #008000; text-decoration-color: #008000\">\"/usr/lib/python3.10/concurrent/futures/_base.py\"</span>, line <span style=\"color: #008080; text-decoration-color: #008080; font-weight: bold\">453</span>,  <span style=\"color: #7f7f7f; text-decoration-color: #7f7f7f\">                 </span>\n",
              "<span style=\"color: #7fbfbf; text-decoration-color: #7fbfbf\">                    </span>         in result                                                            <span style=\"color: #7f7f7f; text-decoration-color: #7f7f7f\">                 </span>\n",
              "<span style=\"color: #7fbfbf; text-decoration-color: #7fbfbf\">                    </span>             <span style=\"color: #800080; text-decoration-color: #800080; font-weight: bold\">self._condition.wait</span><span style=\"font-weight: bold\">(</span>timeout<span style=\"font-weight: bold\">)</span>                                    <span style=\"color: #7f7f7f; text-decoration-color: #7f7f7f\">                 </span>\n",
              "<span style=\"color: #7fbfbf; text-decoration-color: #7fbfbf\">                    </span>           File <span style=\"color: #008000; text-decoration-color: #008000\">\"/usr/lib/python3.10/threading.py\"</span>, line <span style=\"color: #008080; text-decoration-color: #008080; font-weight: bold\">320</span>, in wait         <span style=\"color: #7f7f7f; text-decoration-color: #7f7f7f\">                 </span>\n",
              "<span style=\"color: #7fbfbf; text-decoration-color: #7fbfbf\">                    </span>             <span style=\"color: #800080; text-decoration-color: #800080; font-weight: bold\">waiter.acquire</span><span style=\"font-weight: bold\">()</span>                                                 <span style=\"color: #7f7f7f; text-decoration-color: #7f7f7f\">                 </span>\n",
              "<span style=\"color: #7fbfbf; text-decoration-color: #7fbfbf\">                    </span>         KeyboardInterrupt                                                    <span style=\"color: #7f7f7f; text-decoration-color: #7f7f7f\">                 </span>\n",
              "<span style=\"color: #7fbfbf; text-decoration-color: #7fbfbf\">                    </span>                                                                              <span style=\"color: #7f7f7f; text-decoration-color: #7f7f7f\">                 </span>\n",
              "<span style=\"color: #7fbfbf; text-decoration-color: #7fbfbf\">                    </span>         During handling of the above exception, another exception occurred:  <span style=\"color: #7f7f7f; text-decoration-color: #7f7f7f\">                 </span>\n",
              "<span style=\"color: #7fbfbf; text-decoration-color: #7fbfbf\">                    </span>                                                                              <span style=\"color: #7f7f7f; text-decoration-color: #7f7f7f\">                 </span>\n",
              "<span style=\"color: #7fbfbf; text-decoration-color: #7fbfbf\">                    </span>         Traceback <span style=\"font-weight: bold\">(</span>most recent call last<span style=\"font-weight: bold\">)</span>:                                   <span style=\"color: #7f7f7f; text-decoration-color: #7f7f7f\">                 </span>\n",
              "<span style=\"color: #7fbfbf; text-decoration-color: #7fbfbf\">                    </span>           File <span style=\"color: #008000; text-decoration-color: #008000\">\"/usr/local/lib/python3.10/dist-packages/vaex/dataframe.py\"</span>,  <span style=\"color: #7f7f7f; text-decoration-color: #7f7f7f\">                 </span>\n",
              "<span style=\"color: #7fbfbf; text-decoration-color: #7fbfbf\">                    </span>         line <span style=\"color: #008080; text-decoration-color: #008080; font-weight: bold\">4098</span>, in table_part                                             <span style=\"color: #7f7f7f; text-decoration-color: #7f7f7f\">                 </span>\n",
              "<span style=\"color: #7fbfbf; text-decoration-color: #7fbfbf\">                    </span>             values<span style=\"font-weight: bold\">[</span>name<span style=\"font-weight: bold\">]</span> = <span style=\"color: #800080; text-decoration-color: #800080; font-weight: bold\">df.evaluate</span><span style=\"font-weight: bold\">(</span>name<span style=\"font-weight: bold\">)</span>                                 <span style=\"color: #7f7f7f; text-decoration-color: #7f7f7f\">                 </span>\n",
              "<span style=\"color: #7fbfbf; text-decoration-color: #7fbfbf\">                    </span>           File <span style=\"color: #008000; text-decoration-color: #008000\">\"/usr/local/lib/python3.10/dist-packages/vaex/dataframe.py\"</span>,  <span style=\"color: #7f7f7f; text-decoration-color: #7f7f7f\">                 </span>\n",
              "<span style=\"color: #7fbfbf; text-decoration-color: #7fbfbf\">                    </span>         line <span style=\"color: #008080; text-decoration-color: #008080; font-weight: bold\">3095</span>, in evaluate                                               <span style=\"color: #7f7f7f; text-decoration-color: #7f7f7f\">                 </span>\n",
              "<span style=\"color: #7fbfbf; text-decoration-color: #7fbfbf\">                    </span>             return <span style=\"color: #800080; text-decoration-color: #800080; font-weight: bold\">self._evaluate_implementation</span><span style=\"font-weight: bold\">(</span>expression, <span style=\"color: #808000; text-decoration-color: #808000\">i1</span>=<span style=\"color: #800080; text-decoration-color: #800080\">i1</span>, <span style=\"color: #808000; text-decoration-color: #808000\">i2</span>=<span style=\"color: #800080; text-decoration-color: #800080\">i2</span>,   <span style=\"color: #7f7f7f; text-decoration-color: #7f7f7f\">                 </span>\n",
              "<span style=\"color: #7fbfbf; text-decoration-color: #7fbfbf\">                    </span>         <span style=\"color: #808000; text-decoration-color: #808000\">out</span>=<span style=\"color: #800080; text-decoration-color: #800080\">out</span>, <span style=\"color: #808000; text-decoration-color: #808000\">selection</span>=<span style=\"color: #800080; text-decoration-color: #800080\">selection</span>, <span style=\"color: #808000; text-decoration-color: #808000\">filtered</span>=<span style=\"color: #800080; text-decoration-color: #800080\">filtered</span>,                     <span style=\"color: #7f7f7f; text-decoration-color: #7f7f7f\">                 </span>\n",
              "<span style=\"color: #7fbfbf; text-decoration-color: #7fbfbf\">                    </span>         <span style=\"color: #808000; text-decoration-color: #808000\">array_type</span>=<span style=\"color: #800080; text-decoration-color: #800080\">array_type</span>, <span style=\"color: #808000; text-decoration-color: #808000\">parallel</span>=<span style=\"color: #800080; text-decoration-color: #800080\">parallel</span>, <span style=\"color: #808000; text-decoration-color: #808000\">chunk_size</span>=<span style=\"color: #800080; text-decoration-color: #800080\">chunk_size</span>,     <span style=\"color: #7f7f7f; text-decoration-color: #7f7f7f\">                 </span>\n",
              "<span style=\"color: #7fbfbf; text-decoration-color: #7fbfbf\">                    </span>         <span style=\"color: #808000; text-decoration-color: #808000\">progress</span>=<span style=\"color: #800080; text-decoration-color: #800080\">progress</span><span style=\"font-weight: bold\">)</span>                                                   <span style=\"color: #7f7f7f; text-decoration-color: #7f7f7f\">                 </span>\n",
              "<span style=\"color: #7fbfbf; text-decoration-color: #7fbfbf\">                    </span>           File <span style=\"color: #008000; text-decoration-color: #008000\">\"/usr/local/lib/python3.10/dist-packages/vaex/dataframe.py\"</span>,  <span style=\"color: #7f7f7f; text-decoration-color: #7f7f7f\">                 </span>\n",
              "<span style=\"color: #7fbfbf; text-decoration-color: #7fbfbf\">                    </span>         line <span style=\"color: #008080; text-decoration-color: #008080; font-weight: bold\">6494</span>, in _evaluate_implementation                               <span style=\"color: #7f7f7f; text-decoration-color: #7f7f7f\">                 </span>\n",
              "<span style=\"color: #7fbfbf; text-decoration-color: #7fbfbf\">                    </span>             <span style=\"color: #800080; text-decoration-color: #800080; font-weight: bold\">df.map_reduce</span><span style=\"font-weight: bold\">(</span>assign, lambda *_: <span style=\"color: #800080; text-decoration-color: #800080; font-style: italic\">None</span>, expression_to_evaluate,   <span style=\"color: #7f7f7f; text-decoration-color: #7f7f7f\">                 </span>\n",
              "<span style=\"color: #7fbfbf; text-decoration-color: #7fbfbf\">                    </span>         <span style=\"color: #808000; text-decoration-color: #808000\">progress</span>=<span style=\"color: #800080; text-decoration-color: #800080\">progress</span>, <span style=\"color: #808000; text-decoration-color: #808000\">ignore_filter</span>=<span style=\"color: #ff0000; text-decoration-color: #ff0000; font-style: italic\">False</span>, <span style=\"color: #808000; text-decoration-color: #808000\">selection</span>=<span style=\"color: #800080; text-decoration-color: #800080\">selection</span>,         <span style=\"color: #7f7f7f; text-decoration-color: #7f7f7f\">                 </span>\n",
              "<span style=\"color: #7fbfbf; text-decoration-color: #7fbfbf\">                    </span>         <span style=\"color: #808000; text-decoration-color: #808000\">pre_filter</span>=<span style=\"color: #800080; text-decoration-color: #800080\">use_filter</span>, <span style=\"color: #808000; text-decoration-color: #808000\">info</span>=<span style=\"color: #00ff00; text-decoration-color: #00ff00; font-style: italic\">True</span>, <span style=\"color: #808000; text-decoration-color: #808000\">to_numpy</span>=<span style=\"color: #ff0000; text-decoration-color: #ff0000; font-style: italic\">False</span>, <span style=\"color: #808000; text-decoration-color: #808000\">name</span>=<span style=\"color: #008000; text-decoration-color: #008000\">\"evaluate\"</span><span style=\"font-weight: bold\">)</span>   <span style=\"color: #7f7f7f; text-decoration-color: #7f7f7f\">                 </span>\n",
              "<span style=\"color: #7fbfbf; text-decoration-color: #7fbfbf\">                    </span>           File <span style=\"color: #008000; text-decoration-color: #008000\">\"/usr/local/lib/python3.10/dist-packages/vaex/dataframe.py\"</span>,  <span style=\"color: #7f7f7f; text-decoration-color: #7f7f7f\">                 </span>\n",
              "<span style=\"color: #7fbfbf; text-decoration-color: #7fbfbf\">                    </span>         line <span style=\"color: #008080; text-decoration-color: #008080; font-weight: bold\">438</span>, in map_reduce                                              <span style=\"color: #7f7f7f; text-decoration-color: #7f7f7f\">                 </span>\n",
              "<span style=\"color: #7fbfbf; text-decoration-color: #7fbfbf\">                    </span>             return <span style=\"color: #800080; text-decoration-color: #800080; font-weight: bold\">self._delay</span><span style=\"font-weight: bold\">(</span>delay, task<span style=\"font-weight: bold\">)</span>                                  <span style=\"color: #7f7f7f; text-decoration-color: #7f7f7f\">                 </span>\n",
              "<span style=\"color: #7fbfbf; text-decoration-color: #7fbfbf\">                    </span>           File <span style=\"color: #008000; text-decoration-color: #008000\">\"/usr/local/lib/python3.10/dist-packages/vaex/dataframe.py\"</span>,  <span style=\"color: #7f7f7f; text-decoration-color: #7f7f7f\">                 </span>\n",
              "<span style=\"color: #7fbfbf; text-decoration-color: #7fbfbf\">                    </span>         line <span style=\"color: #008080; text-decoration-color: #008080; font-weight: bold\">1780</span>, in _delay                                                 <span style=\"color: #7f7f7f; text-decoration-color: #7f7f7f\">                 </span>\n",
              "<span style=\"color: #7fbfbf; text-decoration-color: #7fbfbf\">                    </span>             <span style=\"color: #800080; text-decoration-color: #800080; font-weight: bold\">self.execute</span><span style=\"font-weight: bold\">()</span>                                                   <span style=\"color: #7f7f7f; text-decoration-color: #7f7f7f\">                 </span>\n",
              "<span style=\"color: #7fbfbf; text-decoration-color: #7fbfbf\">                    </span>           File <span style=\"color: #008000; text-decoration-color: #008000\">\"/usr/local/lib/python3.10/dist-packages/vaex/dataframe.py\"</span>,  <span style=\"color: #7f7f7f; text-decoration-color: #7f7f7f\">                 </span>\n",
              "<span style=\"color: #7fbfbf; text-decoration-color: #7fbfbf\">                    </span>         line <span style=\"color: #008080; text-decoration-color: #008080; font-weight: bold\">421</span>, in execute                                                 <span style=\"color: #7f7f7f; text-decoration-color: #7f7f7f\">                 </span>\n",
              "<span style=\"color: #7fbfbf; text-decoration-color: #7fbfbf\">                    </span>             <span style=\"color: #800080; text-decoration-color: #800080; font-weight: bold\">self.executor.execute</span><span style=\"font-weight: bold\">()</span>                                          <span style=\"color: #7f7f7f; text-decoration-color: #7f7f7f\">                 </span>\n",
              "<span style=\"color: #7fbfbf; text-decoration-color: #7fbfbf\">                    </span>           File <span style=\"color: #008000; text-decoration-color: #008000\">\"/usr/local/lib/python3.10/dist-packages/vaex/execution.py\"</span>,  <span style=\"color: #7f7f7f; text-decoration-color: #7f7f7f\">                 </span>\n",
              "<span style=\"color: #7fbfbf; text-decoration-color: #7fbfbf\">                    </span>         line <span style=\"color: #008080; text-decoration-color: #008080; font-weight: bold\">308</span>, in execute                                                 <span style=\"color: #7f7f7f; text-decoration-color: #7f7f7f\">                 </span>\n",
              "<span style=\"color: #7fbfbf; text-decoration-color: #7fbfbf\">                    </span>             for _ in <span style=\"color: #800080; text-decoration-color: #800080; font-weight: bold\">self.execute_generator</span><span style=\"font-weight: bold\">()</span>:                               <span style=\"color: #7f7f7f; text-decoration-color: #7f7f7f\">                 </span>\n",
              "<span style=\"color: #7fbfbf; text-decoration-color: #7fbfbf\">                    </span>           File <span style=\"color: #008000; text-decoration-color: #008000\">\"/usr/local/lib/python3.10/dist-packages/vaex/execution.py\"</span>,  <span style=\"color: #7f7f7f; text-decoration-color: #7f7f7f\">                 </span>\n",
              "<span style=\"color: #7fbfbf; text-decoration-color: #7fbfbf\">                    </span>         line <span style=\"color: #008080; text-decoration-color: #008080; font-weight: bold\">432</span>, in execute_generator                                       <span style=\"color: #7f7f7f; text-decoration-color: #7f7f7f\">                 </span>\n",
              "<span style=\"color: #7fbfbf; text-decoration-color: #7fbfbf\">                    </span>             yield from <span style=\"color: #800080; text-decoration-color: #800080; font-weight: bold\">self.thread_pool.map</span><span style=\"font-weight: bold\">(</span>self.process_part,               <span style=\"color: #7f7f7f; text-decoration-color: #7f7f7f\">                 </span>\n",
              "<span style=\"color: #7fbfbf; text-decoration-color: #7fbfbf\">                    </span>         <span style=\"color: #800080; text-decoration-color: #800080; font-weight: bold\">dataset.chunk_iterator</span><span style=\"font-weight: bold\">(</span>run.dataset_deps, chunk_size<span style=\"font-weight: bold\">)</span>,                <span style=\"color: #7f7f7f; text-decoration-color: #7f7f7f\">                 </span>\n",
              "<span style=\"color: #7fbfbf; text-decoration-color: #7fbfbf\">                    </span>           File                                                               <span style=\"color: #7f7f7f; text-decoration-color: #7f7f7f\">                 </span>\n",
              "<span style=\"color: #7fbfbf; text-decoration-color: #7fbfbf\">                    </span>         <span style=\"color: #008000; text-decoration-color: #008000\">\"/usr/local/lib/python3.10/dist-packages/vaex/multithreading.py\"</span>,    <span style=\"color: #7f7f7f; text-decoration-color: #7f7f7f\">                 </span>\n",
              "<span style=\"color: #7fbfbf; text-decoration-color: #7fbfbf\">                    </span>         line <span style=\"color: #008080; text-decoration-color: #008080; font-weight: bold\">104</span>, in map                                                     <span style=\"color: #7f7f7f; text-decoration-color: #7f7f7f\">                 </span>\n",
              "<span style=\"color: #7fbfbf; text-decoration-color: #7fbfbf\">                    </span>             for value in iterator:                                           <span style=\"color: #7f7f7f; text-decoration-color: #7f7f7f\">                 </span>\n",
              "<span style=\"color: #7fbfbf; text-decoration-color: #7fbfbf\">                    </span>           File <span style=\"color: #008000; text-decoration-color: #008000\">\"/usr/local/lib/python3.10/dist-packages/vaex/itertools.py\"</span>,  <span style=\"color: #7f7f7f; text-decoration-color: #7f7f7f\">                 </span>\n",
              "<span style=\"color: #7fbfbf; text-decoration-color: #7fbfbf\">                    </span>         line <span style=\"color: #008080; text-decoration-color: #008080; font-weight: bold\">5</span>, in buffer                                                    <span style=\"color: #7f7f7f; text-decoration-color: #7f7f7f\">                 </span>\n",
              "<span style=\"color: #7fbfbf; text-decoration-color: #7fbfbf\">                    </span>             <span style=\"color: #800080; text-decoration-color: #800080; font-weight: bold\">values.append</span><span style=\"font-weight: bold\">(</span><span style=\"color: #800080; text-decoration-color: #800080; font-weight: bold\">next</span><span style=\"font-weight: bold\">(</span>i<span style=\"font-weight: bold\">))</span>                                           <span style=\"color: #7f7f7f; text-decoration-color: #7f7f7f\">                 </span>\n",
              "<span style=\"color: #7fbfbf; text-decoration-color: #7fbfbf\">                    </span>           File <span style=\"color: #008000; text-decoration-color: #008000\">\"/usr/lib/python3.10/concurrent/futures/_base.py\"</span>, line <span style=\"color: #008080; text-decoration-color: #008080; font-weight: bold\">621</span>,  <span style=\"color: #7f7f7f; text-decoration-color: #7f7f7f\">                 </span>\n",
              "<span style=\"color: #7fbfbf; text-decoration-color: #7fbfbf\">                    </span>         in result_iterator                                                   <span style=\"color: #7f7f7f; text-decoration-color: #7f7f7f\">                 </span>\n",
              "<span style=\"color: #7fbfbf; text-decoration-color: #7fbfbf\">                    </span>             yield <span style=\"color: #800080; text-decoration-color: #800080; font-weight: bold\">_result_or_cancel</span><span style=\"font-weight: bold\">(</span><span style=\"color: #800080; text-decoration-color: #800080; font-weight: bold\">fs.pop</span><span style=\"font-weight: bold\">())</span>                                <span style=\"color: #7f7f7f; text-decoration-color: #7f7f7f\">                 </span>\n",
              "<span style=\"color: #7fbfbf; text-decoration-color: #7fbfbf\">                    </span>           File <span style=\"color: #008000; text-decoration-color: #008000\">\"/usr/lib/python3.10/concurrent/futures/_base.py\"</span>, line <span style=\"color: #008080; text-decoration-color: #008080; font-weight: bold\">319</span>,  <span style=\"color: #7f7f7f; text-decoration-color: #7f7f7f\">                 </span>\n",
              "<span style=\"color: #7fbfbf; text-decoration-color: #7fbfbf\">                    </span>         in _result_or_cancel                                                 <span style=\"color: #7f7f7f; text-decoration-color: #7f7f7f\">                 </span>\n",
              "<span style=\"color: #7fbfbf; text-decoration-color: #7fbfbf\">                    </span>             return <span style=\"color: #800080; text-decoration-color: #800080; font-weight: bold\">fut.result</span><span style=\"font-weight: bold\">(</span>timeout<span style=\"font-weight: bold\">)</span>                                       <span style=\"color: #7f7f7f; text-decoration-color: #7f7f7f\">                 </span>\n",
              "<span style=\"color: #7fbfbf; text-decoration-color: #7fbfbf\">                    </span>           File <span style=\"color: #008000; text-decoration-color: #008000\">\"/usr/lib/python3.10/concurrent/futures/_base.py\"</span>, line <span style=\"color: #008080; text-decoration-color: #008080; font-weight: bold\">453</span>,  <span style=\"color: #7f7f7f; text-decoration-color: #7f7f7f\">                 </span>\n",
              "<span style=\"color: #7fbfbf; text-decoration-color: #7fbfbf\">                    </span>         in result                                                            <span style=\"color: #7f7f7f; text-decoration-color: #7f7f7f\">                 </span>\n",
              "<span style=\"color: #7fbfbf; text-decoration-color: #7fbfbf\">                    </span>             <span style=\"color: #800080; text-decoration-color: #800080; font-weight: bold\">self._condition.wait</span><span style=\"font-weight: bold\">(</span>timeout<span style=\"font-weight: bold\">)</span>                                    <span style=\"color: #7f7f7f; text-decoration-color: #7f7f7f\">                 </span>\n",
              "<span style=\"color: #7fbfbf; text-decoration-color: #7fbfbf\">                    </span>           File <span style=\"color: #008000; text-decoration-color: #008000\">\"/usr/lib/python3.10/threading.py\"</span>, line <span style=\"color: #008080; text-decoration-color: #008080; font-weight: bold\">320</span>, in wait         <span style=\"color: #7f7f7f; text-decoration-color: #7f7f7f\">                 </span>\n",
              "<span style=\"color: #7fbfbf; text-decoration-color: #7fbfbf\">                    </span>             <span style=\"color: #800080; text-decoration-color: #800080; font-weight: bold\">waiter.acquire</span><span style=\"font-weight: bold\">()</span>                                                 <span style=\"color: #7f7f7f; text-decoration-color: #7f7f7f\">                 </span>\n",
              "<span style=\"color: #7fbfbf; text-decoration-color: #7fbfbf\">                    </span>         KeyboardInterrupt                                                    <span style=\"color: #7f7f7f; text-decoration-color: #7f7f7f\">                 </span>\n",
              "</pre>\n"
            ]
          },
          "metadata": {}
        },
        {
          "output_type": "stream",
          "name": "stderr",
          "text": [
            "ERROR:vaex:error evaluating: transformed_text at rows 1799743-1799748\n",
            "Traceback (most recent call last):\n",
            "  File \"/usr/local/lib/python3.10/dist-packages/vaex/dataframe.py\", line 4093, in table_part\n",
            "    values = dict(zip(column_names, df.evaluate(column_names)))\n",
            "  File \"/usr/local/lib/python3.10/dist-packages/vaex/dataframe.py\", line 3095, in evaluate\n",
            "    return self._evaluate_implementation(expression, i1=i1, i2=i2, out=out, selection=selection, filtered=filtered, array_type=array_type, parallel=parallel, chunk_size=chunk_size, progress=progress)\n",
            "  File \"/usr/local/lib/python3.10/dist-packages/vaex/dataframe.py\", line 6494, in _evaluate_implementation\n",
            "    df.map_reduce(assign, lambda *_: None, expression_to_evaluate, progress=progress, ignore_filter=False, selection=selection, pre_filter=use_filter, info=True, to_numpy=False, name=\"evaluate\")\n",
            "  File \"/usr/local/lib/python3.10/dist-packages/vaex/dataframe.py\", line 438, in map_reduce\n",
            "    return self._delay(delay, task)\n",
            "  File \"/usr/local/lib/python3.10/dist-packages/vaex/dataframe.py\", line 1780, in _delay\n",
            "    self.execute()\n",
            "  File \"/usr/local/lib/python3.10/dist-packages/vaex/dataframe.py\", line 421, in execute\n",
            "    self.executor.execute()\n",
            "  File \"/usr/local/lib/python3.10/dist-packages/vaex/execution.py\", line 308, in execute\n",
            "    for _ in self.execute_generator():\n",
            "  File \"/usr/local/lib/python3.10/dist-packages/vaex/execution.py\", line 432, in execute_generator\n",
            "    yield from self.thread_pool.map(self.process_part, dataset.chunk_iterator(run.dataset_deps, chunk_size),\n",
            "  File \"/usr/local/lib/python3.10/dist-packages/vaex/multithreading.py\", line 104, in map\n",
            "    for value in iterator:\n",
            "  File \"/usr/local/lib/python3.10/dist-packages/vaex/itertools.py\", line 5, in buffer\n",
            "    values.append(next(i))\n",
            "  File \"/usr/lib/python3.10/concurrent/futures/_base.py\", line 621, in result_iterator\n",
            "    yield _result_or_cancel(fs.pop())\n",
            "  File \"/usr/lib/python3.10/concurrent/futures/_base.py\", line 319, in _result_or_cancel\n",
            "    return fut.result(timeout)\n",
            "  File \"/usr/lib/python3.10/concurrent/futures/_base.py\", line 453, in result\n",
            "    self._condition.wait(timeout)\n",
            "  File \"/usr/lib/python3.10/threading.py\", line 320, in wait\n",
            "    waiter.acquire()\n",
            "KeyboardInterrupt\n",
            "\n",
            "During handling of the above exception, another exception occurred:\n",
            "\n",
            "Traceback (most recent call last):\n",
            "  File \"/usr/local/lib/python3.10/dist-packages/vaex/dataframe.py\", line 4098, in table_part\n",
            "    values[name] = df.evaluate(name)\n",
            "  File \"/usr/local/lib/python3.10/dist-packages/vaex/dataframe.py\", line 3095, in evaluate\n",
            "    return self._evaluate_implementation(expression, i1=i1, i2=i2, out=out, selection=selection, filtered=filtered, array_type=array_type, parallel=parallel, chunk_size=chunk_size, progress=progress)\n",
            "  File \"/usr/local/lib/python3.10/dist-packages/vaex/dataframe.py\", line 6494, in _evaluate_implementation\n",
            "    df.map_reduce(assign, lambda *_: None, expression_to_evaluate, progress=progress, ignore_filter=False, selection=selection, pre_filter=use_filter, info=True, to_numpy=False, name=\"evaluate\")\n",
            "  File \"/usr/local/lib/python3.10/dist-packages/vaex/dataframe.py\", line 438, in map_reduce\n",
            "    return self._delay(delay, task)\n",
            "  File \"/usr/local/lib/python3.10/dist-packages/vaex/dataframe.py\", line 1780, in _delay\n",
            "    self.execute()\n",
            "  File \"/usr/local/lib/python3.10/dist-packages/vaex/dataframe.py\", line 421, in execute\n",
            "    self.executor.execute()\n",
            "  File \"/usr/local/lib/python3.10/dist-packages/vaex/execution.py\", line 308, in execute\n",
            "    for _ in self.execute_generator():\n",
            "  File \"/usr/local/lib/python3.10/dist-packages/vaex/execution.py\", line 432, in execute_generator\n",
            "    yield from self.thread_pool.map(self.process_part, dataset.chunk_iterator(run.dataset_deps, chunk_size),\n",
            "  File \"/usr/local/lib/python3.10/dist-packages/vaex/multithreading.py\", line 104, in map\n",
            "    for value in iterator:\n",
            "  File \"/usr/local/lib/python3.10/dist-packages/vaex/itertools.py\", line 5, in buffer\n",
            "    values.append(next(i))\n",
            "  File \"/usr/lib/python3.10/concurrent/futures/_base.py\", line 621, in result_iterator\n",
            "    yield _result_or_cancel(fs.pop())\n",
            "  File \"/usr/lib/python3.10/concurrent/futures/_base.py\", line 319, in _result_or_cancel\n",
            "    return fut.result(timeout)\n",
            "  File \"/usr/lib/python3.10/concurrent/futures/_base.py\", line 453, in result\n",
            "    self._condition.wait(timeout)\n",
            "  File \"/usr/lib/python3.10/threading.py\", line 320, in wait\n",
            "    waiter.acquire()\n",
            "KeyboardInterrupt\n"
          ]
        }
      ]
    },
    {
      "cell_type": "code",
      "source": [],
      "metadata": {
        "id": "ZXrLhVBXnZII"
      },
      "execution_count": null,
      "outputs": []
    }
  ]
}