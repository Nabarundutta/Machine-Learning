{
  "nbformat": 4,
  "nbformat_minor": 0,
  "metadata": {
    "colab": {
      "provenance": [],
      "authorship_tag": "ABX9TyOagB7bWvoRx+G0kvNyFmay",
      "include_colab_link": true
    },
    "kernelspec": {
      "name": "python3",
      "display_name": "Python 3"
    },
    "language_info": {
      "name": "python"
    }
  },
  "cells": [
    {
      "cell_type": "markdown",
      "metadata": {
        "id": "view-in-github",
        "colab_type": "text"
      },
      "source": [
        "<a href=\"https://colab.research.google.com/github/Nabarundutta/Machine-Learning/blob/main/diabetes.ipynb\" target=\"_parent\"><img src=\"https://colab.research.google.com/assets/colab-badge.svg\" alt=\"Open In Colab\"/></a>"
      ]
    },
    {
      "cell_type": "code",
      "execution_count": 1,
      "metadata": {
        "id": "GvKUnibw7tz8"
      },
      "outputs": [],
      "source": [
        "import numpy as np\n",
        "import pandas as pd\n",
        "from sklearn.datasets import load_diabetes"
      ]
    },
    {
      "cell_type": "code",
      "source": [
        "X,y = load_diabetes(return_X_y=True)"
      ],
      "metadata": {
        "id": "PEVEH7w3J26s"
      },
      "execution_count": 2,
      "outputs": []
    },
    {
      "cell_type": "code",
      "source": [
        "from sklearn.model_selection import train_test_split\n",
        "X_train, X_test, y_train, y_test = train_test_split(\n",
        "    X, y, test_size=0.33, random_state=42)\n"
      ],
      "metadata": {
        "id": "9wOisHfBKBnt"
      },
      "execution_count": 3,
      "outputs": []
    },
    {
      "cell_type": "code",
      "source": [
        "class meraMLR:\n",
        "    def __init__ (self):\n",
        "      self.coef = None\n",
        "      self.intercept = None\n",
        "\n",
        "    def fit(self,X_train,y_train):\n",
        "      X_train = np.insert(X_train,0,1,axis =1)\n",
        "      betas = np.linalg.inv(np.dot(X_train.T,X_train)).dot(X_train.T).dot(y_train)\n",
        "      self.intercept_ = betas[0]\n",
        "      self.coef_ = betas[1:]\n",
        "\n",
        "\n",
        "\n",
        "    def predict(self,X_test):\n",
        "      y_pred = np.dot(X_test,self.coef_)+self.intercept_\n",
        "      return y_pred\n",
        ""
      ],
      "metadata": {
        "id": "Yv0hi-OvKSNV"
      },
      "execution_count": 11,
      "outputs": []
    },
    {
      "cell_type": "code",
      "source": [
        "lr = meraMLR()"
      ],
      "metadata": {
        "id": "r9Tk50u7LSoU"
      },
      "execution_count": 12,
      "outputs": []
    },
    {
      "cell_type": "code",
      "source": [
        "lr.fit(X_train,y_train)"
      ],
      "metadata": {
        "id": "FDGeoReULWMx"
      },
      "execution_count": 13,
      "outputs": []
    },
    {
      "cell_type": "code",
      "source": [
        "np.insert(X_train,0,1,axis =1).shape"
      ],
      "metadata": {
        "colab": {
          "base_uri": "https://localhost:8080/"
        },
        "id": "aJMkxRO1LY5a",
        "outputId": "cefe320c-26d9-4605-bed6-9331fbe4d453"
      },
      "execution_count": 14,
      "outputs": [
        {
          "output_type": "execute_result",
          "data": {
            "text/plain": [
              "(296, 11)"
            ]
          },
          "metadata": {},
          "execution_count": 14
        }
      ]
    },
    {
      "cell_type": "code",
      "source": [
        "lr.predict(X_test)"
      ],
      "metadata": {
        "colab": {
          "base_uri": "https://localhost:8080/"
        },
        "id": "_jFECv3PMurA",
        "outputId": "d73763df-3e3e-4972-e52f-70a9e6af414e"
      },
      "execution_count": 15,
      "outputs": [
        {
          "output_type": "execute_result",
          "data": {
            "text/plain": [
              "array([139.08778555, 184.73870057, 131.6095325 , 284.90943025,\n",
              "       122.64913588,  90.11610362, 257.30792581, 179.16210464,\n",
              "        81.60189138, 109.90804773,  95.93670644, 168.86654734,\n",
              "        61.06600627, 202.54476202,  95.6675196 , 129.52099062,\n",
              "       211.39746771, 247.04551598, 201.84581418, 218.29511044,\n",
              "       204.74433872,  89.24690391,  65.74005798, 189.76527361,\n",
              "       157.01099642, 164.09010146, 195.89413327, 184.44675625,\n",
              "        47.17814271, 108.36041121, 175.22288093,  89.70805135,\n",
              "       127.68067335, 181.57571652, 168.40472388, 195.63732017,\n",
              "       120.01792029, 115.51275723, 139.78494568,  59.50390312,\n",
              "        67.14800417, 108.66524288, 170.2500668 , 145.34009866,\n",
              "       167.87220501,  65.4127031 ,  71.23262502, 105.93318662,\n",
              "        55.55240836, 165.26240902, 155.67111483,  66.95625003,\n",
              "       110.93961535, 106.10785529, 179.34817487, 163.38869479,\n",
              "        90.80940237, 212.75615079, 120.74246556,  63.60891537,\n",
              "       185.25037795, 204.70429839, 140.92051154, 105.09489431,\n",
              "       126.8360586 , 209.77160973, 172.49880274, 169.02023425,\n",
              "       123.38343523, 143.44395953, 180.87277194, 197.71973356,\n",
              "       225.30855024, 147.2879107 ,  81.67773341, 158.15517014,\n",
              "       192.94605607, 209.26385343, 159.26399266, 199.29516413,\n",
              "       113.12458755, 144.44994202,  50.90995769,  51.50623308,\n",
              "       111.12486384,  77.19009971,  81.07135079,  56.5159346 ,\n",
              "       168.77994716, 187.81841375, 145.19357633, 244.14321792,\n",
              "       110.97708949,  62.3515318 ,  58.75255696, 194.07835965,\n",
              "       248.20335712, 180.77285781, 109.03055027,  60.00396292,\n",
              "       196.56882137, 106.74427392, 296.198764  ,  97.39403243,\n",
              "       150.17907254, 109.2815521 , 132.1674797 , 127.68136448,\n",
              "       163.69958773, 188.77870177, 103.55767133, 203.9687725 ,\n",
              "       203.56127018, 203.09950459, 189.5129071 , 158.0745829 ,\n",
              "       146.60590749, 133.11503706, 112.71159093, 169.21955116,\n",
              "       170.97106794,  98.63671179,  46.11703026, 166.60116032,\n",
              "       127.0616647 , 178.87311364, 166.60599869, 108.08838252,\n",
              "       199.96005023,  90.61401363, 125.09446928,  76.78677224,\n",
              "       230.54768538, 233.66499503, 233.45507303, 157.12057435,\n",
              "       291.68770066, 148.45563957,  75.35728502, 231.24763185,\n",
              "        87.7556799 , 170.84839882, 209.79742692,  95.89529054,\n",
              "       213.02858172, 203.92635855])"
            ]
          },
          "metadata": {},
          "execution_count": 15
        }
      ]
    }
  ]
}