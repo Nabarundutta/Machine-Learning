{
  "nbformat": 4,
  "nbformat_minor": 0,
  "metadata": {
    "colab": {
      "provenance": [],
      "authorship_tag": "ABX9TyO6qMs29s6DaXnsO5wtpChg",
      "include_colab_link": true
    },
    "kernelspec": {
      "name": "python3",
      "display_name": "Python 3"
    },
    "language_info": {
      "name": "python"
    }
  },
  "cells": [
    {
      "cell_type": "markdown",
      "metadata": {
        "id": "view-in-github",
        "colab_type": "text"
      },
      "source": [
        "<a href=\"https://colab.research.google.com/github/Nabarundutta/Machine-Learning/blob/main/NLP2.ipynb\" target=\"_parent\"><img src=\"https://colab.research.google.com/assets/colab-badge.svg\" alt=\"Open In Colab\"/></a>"
      ]
    },
    {
      "cell_type": "code",
      "execution_count": 4,
      "metadata": {
        "id": "mltOWwNVSGPS"
      },
      "outputs": [],
      "source": [
        "import pandas as pd\n",
        "import numpy as np\n",
        "import re"
      ]
    },
    {
      "cell_type": "markdown",
      "source": [
        "**Q. How to remove HTML tage**"
      ],
      "metadata": {
        "id": "QHvmebFIr7oY"
      }
    },
    {
      "cell_type": "code",
      "source": [
        "sample_text = '<h1>hello how are you</h1><b>hello</b>'"
      ],
      "metadata": {
        "id": "wAPNuDbxSRt3"
      },
      "execution_count": 7,
      "outputs": []
    },
    {
      "cell_type": "code",
      "source": [
        "def stip_html(text):\n",
        "  p = re.compile(r'<.*?>')\n",
        "  return p.sub('', text)"
      ],
      "metadata": {
        "id": "WSQzriCvqNX-"
      },
      "execution_count": 5,
      "outputs": []
    },
    {
      "cell_type": "code",
      "source": [
        "strip = stip_html(sample_text)\n",
        "strip"
      ],
      "metadata": {
        "colab": {
          "base_uri": "https://localhost:8080/",
          "height": 35
        },
        "id": "K3a1yfV1qkTL",
        "outputId": "4719fa32-ce16-42a7-94c5-a56272d443ee"
      },
      "execution_count": 8,
      "outputs": [
        {
          "output_type": "execute_result",
          "data": {
            "text/plain": [
              "'hello how are youhello'"
            ],
            "application/vnd.google.colaboratory.intrinsic+json": {
              "type": "string"
            }
          },
          "metadata": {},
          "execution_count": 8
        }
      ]
    },
    {
      "cell_type": "markdown",
      "source": [
        "***Q. How to encode emojis?***"
      ],
      "metadata": {
        "id": "222jcf71sB6S"
      }
    },
    {
      "cell_type": "code",
      "source": [
        "emoji_text = '😀hello how are you '\n",
        "emoji_text.encode('utf-8')"
      ],
      "metadata": {
        "colab": {
          "base_uri": "https://localhost:8080/"
        },
        "id": "qJp5126Cqn3L",
        "outputId": "5b23f321-32d7-4393-f332-e3c434a8727d"
      },
      "execution_count": 9,
      "outputs": [
        {
          "output_type": "execute_result",
          "data": {
            "text/plain": [
              "b'\\xf0\\x9f\\x98\\x80hello how are you '"
            ]
          },
          "metadata": {},
          "execution_count": 9
        }
      ]
    },
    {
      "cell_type": "markdown",
      "source": [
        "***Q. How to do spell checking***"
      ],
      "metadata": {
        "id": "FtwJWQFGsTFT"
      }
    },
    {
      "cell_type": "code",
      "source": [
        "spell_text = 'helllo howw aere yiu'"
      ],
      "metadata": {
        "id": "nq3_Ri6ArbBw"
      },
      "execution_count": 14,
      "outputs": []
    },
    {
      "cell_type": "code",
      "source": [
        "from textblob import TextBlob\n",
        "textblb = TextBlob(spell_text)\n",
        "textblb.correct().string"
      ],
      "metadata": {
        "colab": {
          "base_uri": "https://localhost:8080/",
          "height": 35
        },
        "id": "r-C0M_2FsqLp",
        "outputId": "5fc8368b-2a10-44f3-8543-51ee56ec5914"
      },
      "execution_count": 15,
      "outputs": [
        {
          "output_type": "execute_result",
          "data": {
            "text/plain": [
              "'hello how were you'"
            ],
            "application/vnd.google.colaboratory.intrinsic+json": {
              "type": "string"
            }
          },
          "metadata": {},
          "execution_count": 15
        }
      ]
    },
    {
      "cell_type": "markdown",
      "source": [
        "Basic Text Preprocessing\n",
        "\n",
        "```\n"
      ],
      "metadata": {
        "id": "jize1Qektmpd"
      }
    },
    {
      "cell_type": "code",
      "source": [
        "import nltk\n",
        "nltk.download('punkt')"
      ],
      "metadata": {
        "colab": {
          "base_uri": "https://localhost:8080/"
        },
        "id": "VGcP1hPHuQWu",
        "outputId": "47786474-a4c1-4d99-cee0-7f3a2616b627"
      },
      "execution_count": 24,
      "outputs": [
        {
          "output_type": "stream",
          "name": "stderr",
          "text": [
            "[nltk_data] Downloading package punkt to /root/nltk_data...\n",
            "[nltk_data]   Unzipping tokenizers/punkt.zip.\n"
          ]
        },
        {
          "output_type": "execute_result",
          "data": {
            "text/plain": [
              "True"
            ]
          },
          "metadata": {},
          "execution_count": 24
        }
      ]
    },
    {
      "cell_type": "code",
      "source": [
        "para = 'The crisp autumn air filled the room as sunlight streamed through the window, casting dancing shadows on the hardwood floor. A crackling fire warmed the living room, and the scent of freshly brewed coffee filled the air. Outside, leaves danced in the gentle breeze, painting the landscape in vibrant hues of orange, red, and yellow. It was the perfect day to curl up with a good book and enjoy the tranquility of the season.'"
      ],
      "metadata": {
        "id": "xT_l-x8bsybD"
      },
      "execution_count": 19,
      "outputs": []
    },
    {
      "cell_type": "code",
      "source": [
        "from nltk.tokenize import sent_tokenize, word_tokenize"
      ],
      "metadata": {
        "id": "UlUrYBidtxjN"
      },
      "execution_count": 20,
      "outputs": []
    },
    {
      "cell_type": "code",
      "source": [
        "sent = sent_tokenize(para)\n",
        "sent"
      ],
      "metadata": {
        "colab": {
          "base_uri": "https://localhost:8080/"
        },
        "id": "6K9K5zdAt1H3",
        "outputId": "30488cf2-6608-4628-ee20-56f11c8f9789"
      },
      "execution_count": 25,
      "outputs": [
        {
          "output_type": "execute_result",
          "data": {
            "text/plain": [
              "['The crisp autumn air filled the room as sunlight streamed through the window, casting dancing shadows on the hardwood floor.',\n",
              " 'A crackling fire warmed the living room, and the scent of freshly brewed coffee filled the air.',\n",
              " 'Outside, leaves danced in the gentle breeze, painting the landscape in vibrant hues of orange, red, and yellow.',\n",
              " 'It was the perfect day to curl up with a good book and enjoy the tranquility of the season.']"
            ]
          },
          "metadata": {},
          "execution_count": 25
        }
      ]
    },
    {
      "cell_type": "code",
      "source": [
        "for sen in sent:\n",
        "  print(word_tokenize(sen))"
      ],
      "metadata": {
        "colab": {
          "base_uri": "https://localhost:8080/"
        },
        "id": "ZnFtPPd6upr2",
        "outputId": "29a83afb-ec16-4a9b-ae6f-f8a5ec415010"
      },
      "execution_count": 30,
      "outputs": [
        {
          "output_type": "stream",
          "name": "stdout",
          "text": [
            "['The', 'crisp', 'autumn', 'air', 'filled', 'the', 'room', 'as', 'sunlight', 'streamed', 'through', 'the', 'window', ',', 'casting', 'dancing', 'shadows', 'on', 'the', 'hardwood', 'floor', '.']\n",
            "['A', 'crackling', 'fire', 'warmed', 'the', 'living', 'room', ',', 'and', 'the', 'scent', 'of', 'freshly', 'brewed', 'coffee', 'filled', 'the', 'air', '.']\n",
            "['Outside', ',', 'leaves', 'danced', 'in', 'the', 'gentle', 'breeze', ',', 'painting', 'the', 'landscape', 'in', 'vibrant', 'hues', 'of', 'orange', ',', 'red', ',', 'and', 'yellow', '.']\n",
            "['It', 'was', 'the', 'perfect', 'day', 'to', 'curl', 'up', 'with', 'a', 'good', 'book', 'and', 'enjoy', 'the', 'tranquility', 'of', 'the', 'season', '.']\n"
          ]
        }
      ]
    },
    {
      "cell_type": "code",
      "source": [
        "words = word_tokenize(para)\n",
        "len(words)"
      ],
      "metadata": {
        "colab": {
          "base_uri": "https://localhost:8080/"
        },
        "id": "ApFYgwBauJQC",
        "outputId": "2681f8b2-35ad-454a-d668-4dec11bbc681"
      },
      "execution_count": 29,
      "outputs": [
        {
          "output_type": "execute_result",
          "data": {
            "text/plain": [
              "84"
            ]
          },
          "metadata": {},
          "execution_count": 29
        }
      ]
    },
    {
      "cell_type": "code",
      "source": [],
      "metadata": {
        "id": "jV_Qz4R0uc44"
      },
      "execution_count": null,
      "outputs": []
    }
  ]
}